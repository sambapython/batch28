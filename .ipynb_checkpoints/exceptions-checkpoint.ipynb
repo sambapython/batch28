{
 "cells": [
  {
   "cell_type": "code",
   "execution_count": 1,
   "metadata": {
    "collapsed": false
   },
   "outputs": [
    {
     "name": "stdout",
     "output_type": "stream",
     "text": [
      "some begining statements\n",
      "Enter a value:12\n",
      "Enter b value:6\n",
      "result= 2\n",
      "some other statements in program\n",
      "program ended\n"
     ]
    }
   ],
   "source": [
    "print \"some begining statements\"\n",
    "a=raw_input(\"Enter a value:\")\n",
    "b=raw_input(\"Enter b value:\")\n",
    "a=int(a)\n",
    "b=int(b)\n",
    "result=a/b\n",
    "print \"result=\",result\n",
    "print \"some other statements in program\"\n",
    "print \"program ended\""
   ]
  },
  {
   "cell_type": "code",
   "execution_count": 2,
   "metadata": {
    "collapsed": false
   },
   "outputs": [
    {
     "name": "stdout",
     "output_type": "stream",
     "text": [
      "some begining statements\n",
      "Enter a value:12\n",
      "Enter b value:3.4\n"
     ]
    },
    {
     "ename": "ValueError",
     "evalue": "invalid literal for int() with base 10: '3.4'",
     "output_type": "error",
     "traceback": [
      "\u001b[0;31m---------------------------------------------------------------------------\u001b[0m",
      "\u001b[0;31mValueError\u001b[0m                                Traceback (most recent call last)",
      "\u001b[0;32m<ipython-input-2-30ca2cdc9a85>\u001b[0m in \u001b[0;36m<module>\u001b[0;34m()\u001b[0m\n\u001b[1;32m      3\u001b[0m \u001b[0mb\u001b[0m\u001b[0;34m=\u001b[0m\u001b[0mraw_input\u001b[0m\u001b[0;34m(\u001b[0m\u001b[0;34m\"Enter b value:\"\u001b[0m\u001b[0;34m)\u001b[0m\u001b[0;34m\u001b[0m\u001b[0m\n\u001b[1;32m      4\u001b[0m \u001b[0ma\u001b[0m\u001b[0;34m=\u001b[0m\u001b[0mint\u001b[0m\u001b[0;34m(\u001b[0m\u001b[0ma\u001b[0m\u001b[0;34m)\u001b[0m\u001b[0;34m\u001b[0m\u001b[0m\n\u001b[0;32m----> 5\u001b[0;31m \u001b[0mb\u001b[0m\u001b[0;34m=\u001b[0m\u001b[0mint\u001b[0m\u001b[0;34m(\u001b[0m\u001b[0mb\u001b[0m\u001b[0;34m)\u001b[0m\u001b[0;34m\u001b[0m\u001b[0m\n\u001b[0m\u001b[1;32m      6\u001b[0m \u001b[0mresult\u001b[0m\u001b[0;34m=\u001b[0m\u001b[0ma\u001b[0m\u001b[0;34m/\u001b[0m\u001b[0mb\u001b[0m\u001b[0;34m\u001b[0m\u001b[0m\n\u001b[1;32m      7\u001b[0m \u001b[0;32mprint\u001b[0m \u001b[0;34m\"result=\"\u001b[0m\u001b[0;34m,\u001b[0m\u001b[0mresult\u001b[0m\u001b[0;34m\u001b[0m\u001b[0m\n",
      "\u001b[0;31mValueError\u001b[0m: invalid literal for int() with base 10: '3.4'"
     ]
    }
   ],
   "source": [
    "print \"some begining statements\"\n",
    "a=raw_input(\"Enter a value:\")\n",
    "b=raw_input(\"Enter b value:\")\n",
    "a=int(a)\n",
    "b=int(b)\n",
    "result=a/b\n",
    "print \"result=\",result\n",
    "print \"some other statements in program\"\n",
    "print \"program ended\""
   ]
  },
  {
   "cell_type": "code",
   "execution_count": 3,
   "metadata": {
    "collapsed": false
   },
   "outputs": [
    {
     "name": "stdout",
     "output_type": "stream",
     "text": [
      "some begining statements\n",
      "Enter a value:12\n",
      "Enter b value:6\n",
      "result= 2.0\n",
      "some other statements in program\n",
      "program ended\n"
     ]
    }
   ],
   "source": [
    "print \"some begining statements\"\n",
    "a=raw_input(\"Enter a value:\")\n",
    "b=raw_input(\"Enter b value:\")\n",
    "a=float(a)\n",
    "b=float(b)\n",
    "result=a/b\n",
    "print \"result=\",result\n",
    "print \"some other statements in program\"\n",
    "print \"program ended\""
   ]
  },
  {
   "cell_type": "code",
   "execution_count": 4,
   "metadata": {
    "collapsed": false
   },
   "outputs": [
    {
     "name": "stdout",
     "output_type": "stream",
     "text": [
      "some begining statements\n",
      "Enter a value:12\n",
      "Enter b value:3.4\n",
      "result= 3.52941176471\n",
      "some other statements in program\n",
      "program ended\n"
     ]
    }
   ],
   "source": [
    "print \"some begining statements\"\n",
    "a=raw_input(\"Enter a value:\")\n",
    "b=raw_input(\"Enter b value:\")\n",
    "a=float(a)\n",
    "b=float(b)\n",
    "result=a/b\n",
    "print \"result=\",result\n",
    "print \"some other statements in program\"\n",
    "print \"program ended\""
   ]
  },
  {
   "cell_type": "code",
   "execution_count": 5,
   "metadata": {
    "collapsed": false
   },
   "outputs": [
    {
     "name": "stdout",
     "output_type": "stream",
     "text": [
      "some begining statements\n",
      "Enter a value:12\n",
      "Enter b value:0\n"
     ]
    },
    {
     "ename": "ZeroDivisionError",
     "evalue": "float division by zero",
     "output_type": "error",
     "traceback": [
      "\u001b[0;31m---------------------------------------------------------------------------\u001b[0m",
      "\u001b[0;31mZeroDivisionError\u001b[0m                         Traceback (most recent call last)",
      "\u001b[0;32m<ipython-input-5-39426d0658b6>\u001b[0m in \u001b[0;36m<module>\u001b[0;34m()\u001b[0m\n\u001b[1;32m      4\u001b[0m \u001b[0ma\u001b[0m\u001b[0;34m=\u001b[0m\u001b[0mfloat\u001b[0m\u001b[0;34m(\u001b[0m\u001b[0ma\u001b[0m\u001b[0;34m)\u001b[0m\u001b[0;34m\u001b[0m\u001b[0m\n\u001b[1;32m      5\u001b[0m \u001b[0mb\u001b[0m\u001b[0;34m=\u001b[0m\u001b[0mfloat\u001b[0m\u001b[0;34m(\u001b[0m\u001b[0mb\u001b[0m\u001b[0;34m)\u001b[0m\u001b[0;34m\u001b[0m\u001b[0m\n\u001b[0;32m----> 6\u001b[0;31m \u001b[0mresult\u001b[0m\u001b[0;34m=\u001b[0m\u001b[0ma\u001b[0m\u001b[0;34m/\u001b[0m\u001b[0mb\u001b[0m\u001b[0;34m\u001b[0m\u001b[0m\n\u001b[0m\u001b[1;32m      7\u001b[0m \u001b[0;32mprint\u001b[0m \u001b[0;34m\"result=\"\u001b[0m\u001b[0;34m,\u001b[0m\u001b[0mresult\u001b[0m\u001b[0;34m\u001b[0m\u001b[0m\n\u001b[1;32m      8\u001b[0m \u001b[0;32mprint\u001b[0m \u001b[0;34m\"some other statements in program\"\u001b[0m\u001b[0;34m\u001b[0m\u001b[0m\n",
      "\u001b[0;31mZeroDivisionError\u001b[0m: float division by zero"
     ]
    }
   ],
   "source": [
    "print \"some begining statements\"\n",
    "a=raw_input(\"Enter a value:\")\n",
    "b=raw_input(\"Enter b value:\")\n",
    "a=float(a)\n",
    "b=float(b)\n",
    "result=a/b\n",
    "print \"result=\",result\n",
    "print \"some other statements in program\"\n",
    "print \"program ended\""
   ]
  },
  {
   "cell_type": "code",
   "execution_count": 6,
   "metadata": {
    "collapsed": false
   },
   "outputs": [
    {
     "name": "stdout",
     "output_type": "stream",
     "text": [
      "some begining statements\n",
      "Enter a value:qwerqw\n",
      "Enter b value:qweqw\n"
     ]
    },
    {
     "ename": "ValueError",
     "evalue": "could not convert string to float: qwerqw",
     "output_type": "error",
     "traceback": [
      "\u001b[0;31m---------------------------------------------------------------------------\u001b[0m",
      "\u001b[0;31mValueError\u001b[0m                                Traceback (most recent call last)",
      "\u001b[0;32m<ipython-input-6-39426d0658b6>\u001b[0m in \u001b[0;36m<module>\u001b[0;34m()\u001b[0m\n\u001b[1;32m      2\u001b[0m \u001b[0ma\u001b[0m\u001b[0;34m=\u001b[0m\u001b[0mraw_input\u001b[0m\u001b[0;34m(\u001b[0m\u001b[0;34m\"Enter a value:\"\u001b[0m\u001b[0;34m)\u001b[0m\u001b[0;34m\u001b[0m\u001b[0m\n\u001b[1;32m      3\u001b[0m \u001b[0mb\u001b[0m\u001b[0;34m=\u001b[0m\u001b[0mraw_input\u001b[0m\u001b[0;34m(\u001b[0m\u001b[0;34m\"Enter b value:\"\u001b[0m\u001b[0;34m)\u001b[0m\u001b[0;34m\u001b[0m\u001b[0m\n\u001b[0;32m----> 4\u001b[0;31m \u001b[0ma\u001b[0m\u001b[0;34m=\u001b[0m\u001b[0mfloat\u001b[0m\u001b[0;34m(\u001b[0m\u001b[0ma\u001b[0m\u001b[0;34m)\u001b[0m\u001b[0;34m\u001b[0m\u001b[0m\n\u001b[0m\u001b[1;32m      5\u001b[0m \u001b[0mb\u001b[0m\u001b[0;34m=\u001b[0m\u001b[0mfloat\u001b[0m\u001b[0;34m(\u001b[0m\u001b[0mb\u001b[0m\u001b[0;34m)\u001b[0m\u001b[0;34m\u001b[0m\u001b[0m\n\u001b[1;32m      6\u001b[0m \u001b[0mresult\u001b[0m\u001b[0;34m=\u001b[0m\u001b[0ma\u001b[0m\u001b[0;34m/\u001b[0m\u001b[0mb\u001b[0m\u001b[0;34m\u001b[0m\u001b[0m\n",
      "\u001b[0;31mValueError\u001b[0m: could not convert string to float: qwerqw"
     ]
    }
   ],
   "source": [
    "print \"some begining statements\"\n",
    "a=raw_input(\"Enter a value:\")\n",
    "b=raw_input(\"Enter b value:\")\n",
    "a=float(a)\n",
    "b=float(b)\n",
    "result=a/b\n",
    "print \"result=\",result\n",
    "print \"some other statements in program\"\n",
    "print \"program ended\""
   ]
  },
  {
   "cell_type": "code",
   "execution_count": 8,
   "metadata": {
    "collapsed": false
   },
   "outputs": [
    {
     "name": "stdout",
     "output_type": "stream",
     "text": [
      "some begining statements\n",
      "Enter a value:12\n",
      "Enter b value:6\n",
      "result= 2.0\n",
      "some other statements in program\n",
      "program ended\n",
      "some main statements\n"
     ]
    }
   ],
   "source": [
    "try:\n",
    "    print \"some begining statements\"\n",
    "    a=raw_input(\"Enter a value:\")\n",
    "    b=raw_input(\"Enter b value:\")\n",
    "    a=float(a)\n",
    "    b=float(b)\n",
    "    result=a/b\n",
    "    print \"result=\",result\n",
    "    print \"some other statements in program\"\n",
    "    print \"program ended\"\n",
    "except:\n",
    "    print \"except block\"\n",
    "    print \"something went wrong\"\n",
    "    print \"end of except block\"\n",
    "print \"some main statements\""
   ]
  },
  {
   "cell_type": "code",
   "execution_count": 9,
   "metadata": {
    "collapsed": false
   },
   "outputs": [
    {
     "name": "stdout",
     "output_type": "stream",
     "text": [
      "some begining statements\n",
      "Enter a value:qweqwe\n",
      "Enter b value:qweqw\n",
      "except block\n",
      "something went wrong\n",
      "end of except block\n",
      "some main statements\n"
     ]
    }
   ],
   "source": [
    "try:\n",
    "    print \"some begining statements\"\n",
    "    a=raw_input(\"Enter a value:\")\n",
    "    b=raw_input(\"Enter b value:\")\n",
    "    a=float(a)\n",
    "    b=float(b)\n",
    "    result=a/b\n",
    "    print \"result=\",result\n",
    "    print \"some other statements in program\"\n",
    "    print \"program ended\"\n",
    "except:\n",
    "    print \"except block\"\n",
    "    print \"something went wrong\"\n",
    "    print \"end of except block\"\n",
    "print \"some main statements\""
   ]
  },
  {
   "cell_type": "code",
   "execution_count": 11,
   "metadata": {
    "collapsed": false
   },
   "outputs": [
    {
     "name": "stdout",
     "output_type": "stream",
     "text": [
      "some begining statements\n",
      "Enter a value:12\n",
      "Enter b value:6\n",
      "result= 2.0\n",
      "some main statements\n",
      "some other statements in program\n",
      "program ended\n"
     ]
    }
   ],
   "source": [
    "print \"some begining statements\"\n",
    "a=raw_input(\"Enter a value:\")\n",
    "b=raw_input(\"Enter b value:\")\n",
    "try:\n",
    "    a=float(a)\n",
    "    b=float(b)\n",
    "    result=a/b\n",
    "    print \"result=\",result\n",
    "except:\n",
    "    print \"except block\"\n",
    "    print \"something went wrong\"\n",
    "    print \"end of except block\"\n",
    "print \"some main statements\"\n",
    "print \"some other statements in program\"\n",
    "print \"program ended\""
   ]
  },
  {
   "cell_type": "code",
   "execution_count": 12,
   "metadata": {
    "collapsed": false
   },
   "outputs": [
    {
     "name": "stdout",
     "output_type": "stream",
     "text": [
      "some begining statements\n",
      "Enter a value:12\n",
      "Enter b value:0\n",
      "except block\n",
      "something went wrong\n",
      "end of except block\n",
      "some main statements\n",
      "some other statements in program\n",
      "program ended\n"
     ]
    }
   ],
   "source": [
    "print \"some begining statements\"\n",
    "a=raw_input(\"Enter a value:\")\n",
    "b=raw_input(\"Enter b value:\")\n",
    "try:\n",
    "    a=float(a)\n",
    "    b=float(b)\n",
    "    result=a/b\n",
    "    print \"result=\",result\n",
    "except:\n",
    "    print \"except block\"\n",
    "    print \"something went wrong\"\n",
    "    print \"end of except block\"\n",
    "print \"some main statements\"\n",
    "print \"some other statements in program\"\n",
    "print \"program ended\""
   ]
  },
  {
   "cell_type": "code",
   "execution_count": 13,
   "metadata": {
    "collapsed": false
   },
   "outputs": [
    {
     "name": "stdout",
     "output_type": "stream",
     "text": [
      "some begining statements\n",
      "Enter a value:rerew\n",
      "Enter b value:werwe\n",
      "except block\n",
      "something went wrong\n",
      "end of except block\n",
      "some main statements\n",
      "some other statements in program\n",
      "program ended\n"
     ]
    }
   ],
   "source": [
    "print \"some begining statements\"\n",
    "a=raw_input(\"Enter a value:\")\n",
    "b=raw_input(\"Enter b value:\")\n",
    "try:\n",
    "    a=float(a)\n",
    "    b=float(b)\n",
    "    result=a/b\n",
    "    print \"result=\",result\n",
    "except:\n",
    "    print \"except block\"\n",
    "    print \"something went wrong\"\n",
    "    print \"end of except block\"\n",
    "print \"some main statements\"\n",
    "print \"some other statements in program\"\n",
    "print \"program ended\""
   ]
  },
  {
   "cell_type": "code",
   "execution_count": 14,
   "metadata": {
    "collapsed": false
   },
   "outputs": [
    {
     "name": "stdout",
     "output_type": "stream",
     "text": [
      "some begining statements\n",
      "Enter a value:12\n",
      "Enter b value:0\n",
      "float division by zero\n",
      "some main statements\n",
      "some other statements in program\n",
      "program ended\n"
     ]
    }
   ],
   "source": [
    "print \"some begining statements\"\n",
    "a=raw_input(\"Enter a value:\")\n",
    "b=raw_input(\"Enter b value:\")\n",
    "try:\n",
    "    a=float(a)\n",
    "    b=float(b)\n",
    "    result=a/b\n",
    "    print \"result=\",result\n",
    "except Exception as err:\n",
    "    print err\n",
    "print \"some main statements\"\n",
    "print \"some other statements in program\"\n",
    "print \"program ended\""
   ]
  },
  {
   "cell_type": "code",
   "execution_count": 15,
   "metadata": {
    "collapsed": false
   },
   "outputs": [
    {
     "name": "stdout",
     "output_type": "stream",
     "text": [
      "some begining statements\n",
      "Enter a value:qwrwer\n",
      "Enter b value:werwe\n",
      "could not convert string to float: qwrwer\n",
      "some main statements\n",
      "some other statements in program\n",
      "program ended\n"
     ]
    }
   ],
   "source": [
    "print \"some begining statements\"\n",
    "a=raw_input(\"Enter a value:\")\n",
    "b=raw_input(\"Enter b value:\")\n",
    "try:\n",
    "    a=float(a)\n",
    "    b=float(b)\n",
    "    result=a/b\n",
    "    print \"result=\",result\n",
    "except Exception as err:\n",
    "    print err\n",
    "print \"some main statements\"\n",
    "print \"some other statements in program\"\n",
    "print \"program ended\""
   ]
  },
  {
   "cell_type": "code",
   "execution_count": 16,
   "metadata": {
    "collapsed": false
   },
   "outputs": [
    {
     "name": "stdout",
     "output_type": "stream",
     "text": [
      "some begining statements\n",
      "Enter a value:12\n",
      "Enter b value:6\n",
      "result= 2.0\n",
      "some main statements\n",
      "some other statements in program\n",
      "program ended\n"
     ]
    }
   ],
   "source": [
    "print \"some begining statements\"\n",
    "a=raw_input(\"Enter a value:\")\n",
    "b=raw_input(\"Enter b value:\")\n",
    "try:\n",
    "    a=float(a)\n",
    "    b=float(b)\n",
    "    result=a/b\n",
    "    print \"result=\",result\n",
    "except ZerodivisionError:\n",
    "    print \"don't enter 0 for b value\"\n",
    "except ValueError:\n",
    "    print \"Enter only digits\"\n",
    "print \"some main statements\"\n",
    "print \"some other statements in program\"\n",
    "print \"program ended\""
   ]
  },
  {
   "cell_type": "code",
   "execution_count": 18,
   "metadata": {
    "collapsed": false
   },
   "outputs": [
    {
     "name": "stdout",
     "output_type": "stream",
     "text": [
      "some begining statements\n",
      "Enter a value:12\n",
      "Enter b value:0\n",
      "don't enter 0 for b value\n",
      "some main statements\n",
      "some other statements in program\n",
      "program ended\n"
     ]
    }
   ],
   "source": [
    "print \"some begining statements\"\n",
    "a=raw_input(\"Enter a value:\")\n",
    "b=raw_input(\"Enter b value:\")\n",
    "try:\n",
    "    a=float(a)\n",
    "    b=float(b)\n",
    "    result=a/b\n",
    "    print \"result=\",result\n",
    "except ZeroDivisionError:\n",
    "    print \"don't enter 0 for b value\"\n",
    "except ValueError:\n",
    "    print \"Enter only digits\"\n",
    "print \"some main statements\"\n",
    "print \"some other statements in program\"\n",
    "print \"program ended\""
   ]
  },
  {
   "cell_type": "code",
   "execution_count": 19,
   "metadata": {
    "collapsed": false
   },
   "outputs": [
    {
     "name": "stdout",
     "output_type": "stream",
     "text": [
      "some begining statements\n",
      "Enter a value:werwe\n",
      "Enter b value:234324\n",
      "Enter only digits\n",
      "some main statements\n",
      "some other statements in program\n",
      "program ended\n"
     ]
    }
   ],
   "source": [
    "print \"some begining statements\"\n",
    "a=raw_input(\"Enter a value:\")\n",
    "b=raw_input(\"Enter b value:\")\n",
    "try:\n",
    "    a=float(a)\n",
    "    b=float(b)\n",
    "    result=a/b\n",
    "    print \"result=\",result\n",
    "except ZeroDivisionError:\n",
    "    print \"don't enter 0 for b value\"\n",
    "except ValueError:\n",
    "    print \"Enter only digits\"\n",
    "print \"some main statements\"\n",
    "print \"some other statements in program\"\n",
    "print \"program ended\""
   ]
  },
  {
   "cell_type": "code",
   "execution_count": null,
   "metadata": {
    "collapsed": true
   },
   "outputs": [],
   "source": [
    "print \"some begining statements\"\n",
    "a=raw_input(\"Enter a value:\")\n",
    "b=raw_input(\"Enter b value:\")\n",
    "try:\n",
    "    a=float(a)\n",
    "    b=float(b)\n",
    "    result=a/b\n",
    "    print \"result=\",result\n",
    "except ZeroDivisionError:\n",
    "    print \"don't enter 0 for b value\"\n",
    "except ValueError:\n",
    "    print \"Enter only digits\"\n",
    "except Exception as err:\n",
    "    print err\n",
    "print \"some main statements\"\n",
    "print \"some other statements in program\"\n",
    "print \"program ended\""
   ]
  }
 ],
 "metadata": {
  "kernelspec": {
   "display_name": "Python 2",
   "language": "python",
   "name": "python2"
  },
  "language_info": {
   "codemirror_mode": {
    "name": "ipython",
    "version": 2
   },
   "file_extension": ".py",
   "mimetype": "text/x-python",
   "name": "python",
   "nbconvert_exporter": "python",
   "pygments_lexer": "ipython2",
   "version": "2.7.13"
  }
 },
 "nbformat": 4,
 "nbformat_minor": 2
}
