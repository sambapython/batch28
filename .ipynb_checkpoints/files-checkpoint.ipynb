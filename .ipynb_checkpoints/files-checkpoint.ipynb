{
 "cells": [
  {
   "cell_type": "code",
   "execution_count": 6,
   "metadata": {
    "collapsed": true
   },
   "outputs": [],
   "source": [
    "f=open('data.csv','w')"
   ]
  },
  {
   "cell_type": "code",
   "execution_count": 7,
   "metadata": {
    "collapsed": true
   },
   "outputs": [],
   "source": [
    "f.write(\"some content\\n\")\n",
    "f.write(\"some other content\\n\")\n",
    "f.writelines(['sring1','string2','string3'])"
   ]
  },
  {
   "cell_type": "code",
   "execution_count": 8,
   "metadata": {
    "collapsed": true
   },
   "outputs": [],
   "source": [
    "f.close()"
   ]
  },
  {
   "cell_type": "code",
   "execution_count": 9,
   "metadata": {
    "collapsed": false
   },
   "outputs": [
    {
     "ename": "ValueError",
     "evalue": "I/O operation on closed file",
     "output_type": "error",
     "traceback": [
      "\u001b[0;31m---------------------------------------------------------------------------\u001b[0m",
      "\u001b[0;31mValueError\u001b[0m                                Traceback (most recent call last)",
      "\u001b[0;32m<ipython-input-9-f27b4ceec495>\u001b[0m in \u001b[0;36m<module>\u001b[0;34m()\u001b[0m\n\u001b[0;32m----> 1\u001b[0;31m \u001b[0mf\u001b[0m\u001b[0;34m.\u001b[0m\u001b[0mwrite\u001b[0m\u001b[0;34m(\u001b[0m\u001b[0;34m\"some more content\"\u001b[0m\u001b[0;34m)\u001b[0m\u001b[0;34m\u001b[0m\u001b[0m\n\u001b[0m",
      "\u001b[0;31mValueError\u001b[0m: I/O operation on closed file"
     ]
    }
   ],
   "source": [
    "f.write(\"some more content\")"
   ]
  },
  {
   "cell_type": "code",
   "execution_count": 11,
   "metadata": {
    "collapsed": true
   },
   "outputs": [],
   "source": [
    "f=open('data.csv','w')\n",
    "f.write(\"Some content\")\n",
    "f.writelines(['st1'])\n",
    "f.close()"
   ]
  },
  {
   "cell_type": "code",
   "execution_count": 12,
   "metadata": {
    "collapsed": true
   },
   "outputs": [],
   "source": [
    "f=open('data.csv','w')\n",
    "f.write(\"python programing language\")\n",
    "f.writelines(['st1'])\n",
    "f.close()"
   ]
  },
  {
   "cell_type": "code",
   "execution_count": 13,
   "metadata": {
    "collapsed": true
   },
   "outputs": [],
   "source": [
    "f=open('data.csv','a')\n",
    "f.write(\"python programing language\")\n",
    "f.writelines(['st1'])\n",
    "f.close()"
   ]
  },
  {
   "cell_type": "code",
   "execution_count": 14,
   "metadata": {
    "collapsed": true
   },
   "outputs": [],
   "source": [
    "f=open('data.csv','a')\n",
    "f.write(\"\\npython programing language\")\n",
    "f.writelines(['\\nst1'])\n",
    "f.close()"
   ]
  },
  {
   "cell_type": "code",
   "execution_count": 15,
   "metadata": {
    "collapsed": true
   },
   "outputs": [],
   "source": [
    "f=open('data.csv','w')\n",
    "f.write(\"\\npython programing language\")\n",
    "f.writelines(['\\nst1'])\n",
    "f.flush()\n",
    "f.write(\"\\nAfter flush\")\n"
   ]
  },
  {
   "cell_type": "code",
   "execution_count": 16,
   "metadata": {
    "collapsed": true
   },
   "outputs": [],
   "source": [
    "f.close()"
   ]
  },
  {
   "cell_type": "code",
   "execution_count": 19,
   "metadata": {
    "collapsed": false
   },
   "outputs": [],
   "source": [
    "f=open('data.csv','w')\n",
    "import random\n",
    "ages=[23,45,67,34,56]\n",
    "for i in range(1000):\n",
    "    age=random.choice(ages)\n",
    "    f.write(\"%s,name%s,%s\\n\"%(i,i,age))\n",
    "f.close()"
   ]
  },
  {
   "cell_type": "code",
   "execution_count": 20,
   "metadata": {
    "collapsed": true
   },
   "outputs": [],
   "source": [
    "f=open('data.csv','r')\n",
    "data = f.read()"
   ]
  },
  {
   "cell_type": "code",
   "execution_count": 21,
   "metadata": {
    "collapsed": false
   },
   "outputs": [
    {
     "name": "stdout",
     "output_type": "stream",
     "text": [
      "0,name0,56\n",
      "1,name1,67\n",
      "2,name2,56\n",
      "3,name3,23\n",
      "4,name4,45\n",
      "5,name5,23\n",
      "6,name6,56\n",
      "7,name7,56\n",
      "8,name8,45\n",
      "9,name9,67\n",
      "10,name10,23\n",
      "11,name11,56\n",
      "12,name12,45\n",
      "13,name13,34\n",
      "14,name14,23\n",
      "15,name15,45\n",
      "16,name16,45\n",
      "17,name17,67\n",
      "18,name18,45\n",
      "19,name19,56\n",
      "20,name20,23\n",
      "21,name21,34\n",
      "22,name22,56\n",
      "23,name23,45\n",
      "24,name24,45\n",
      "25,name25,45\n",
      "26,name26,34\n",
      "27,name27,23\n",
      "28,name28,23\n",
      "29,name29,34\n",
      "30,name30,56\n",
      "31,name31,45\n",
      "32,name32,23\n",
      "33,name33,34\n",
      "34,name34,34\n",
      "35,name35,56\n",
      "36,name36,34\n",
      "37,name37,45\n",
      "38,name38,34\n",
      "39,name39,56\n",
      "40,name40,23\n",
      "41,name41,23\n",
      "42,name42,67\n",
      "43,name43,67\n",
      "44,name44,45\n",
      "45,name45,56\n",
      "46,name46,67\n",
      "47,name47,23\n",
      "48,name48,67\n",
      "49,name49,34\n",
      "50,name50,34\n",
      "51,name51,45\n",
      "52,name52,34\n",
      "53,name53,67\n",
      "54,name54,67\n",
      "55,name55,67\n",
      "56,name56,34\n",
      "57,name57,56\n",
      "58,name58,67\n",
      "59,name59,34\n",
      "60,name60,45\n",
      "61,name61,56\n",
      "62,name62,45\n",
      "63,name63,45\n",
      "64,name64,23\n",
      "65,name65,45\n",
      "66,name66,23\n",
      "67,name67,56\n",
      "68,name68,56\n",
      "69,name69,34\n",
      "70,name70,45\n",
      "71,name71,56\n",
      "72,name72,23\n",
      "73,name73,34\n",
      "74,name74,23\n",
      "75,name75,67\n",
      "76,name76,56\n",
      "77,name77,45\n",
      "78,name78,23\n",
      "79,name79,34\n",
      "80,name80,34\n",
      "81,name81,23\n",
      "82,name82,34\n",
      "83,name83,56\n",
      "84,name84,34\n",
      "85,name85,23\n",
      "86,name86,56\n",
      "87,name87,67\n",
      "88,name88,34\n",
      "89,name89,67\n",
      "90,name90,45\n",
      "91,name91,56\n",
      "92,name92,67\n",
      "93,name93,67\n",
      "94,name94,67\n",
      "95,name95,56\n",
      "96,name96,34\n",
      "97,name97,34\n",
      "98,name98,45\n",
      "99,name99,45\n",
      "100,name100,67\n",
      "101,name101,67\n",
      "102,name102,67\n",
      "103,name103,34\n",
      "104,name104,67\n",
      "105,name105,34\n",
      "106,name106,45\n",
      "107,name107,67\n",
      "108,name108,34\n",
      "109,name109,67\n",
      "110,name110,23\n",
      "111,name111,34\n",
      "112,name112,34\n",
      "113,name113,67\n",
      "114,name114,45\n",
      "115,name115,45\n",
      "116,name116,56\n",
      "117,name117,56\n",
      "118,name118,67\n",
      "119,name119,67\n",
      "120,name120,67\n",
      "121,name121,56\n",
      "122,name122,34\n",
      "123,name123,56\n",
      "124,name124,23\n",
      "125,name125,23\n",
      "126,name126,56\n",
      "127,name127,67\n",
      "128,name128,34\n",
      "129,name129,45\n",
      "130,name130,56\n",
      "131,name131,23\n",
      "132,name132,67\n",
      "133,name133,23\n",
      "134,name134,23\n",
      "135,name135,67\n",
      "136,name136,45\n",
      "137,name137,45\n",
      "138,name138,67\n",
      "139,name139,56\n",
      "140,name140,45\n",
      "141,name141,34\n",
      "142,name142,56\n",
      "143,name143,67\n",
      "144,name144,67\n",
      "145,name145,45\n",
      "146,name146,45\n",
      "147,name147,45\n",
      "148,name148,45\n",
      "149,name149,56\n",
      "150,name150,67\n",
      "151,name151,23\n",
      "152,name152,56\n",
      "153,name153,56\n",
      "154,name154,34\n",
      "155,name155,45\n",
      "156,name156,67\n",
      "157,name157,67\n",
      "158,name158,23\n",
      "159,name159,67\n",
      "160,name160,67\n",
      "161,name161,67\n",
      "162,name162,67\n",
      "163,name163,67\n",
      "164,name164,56\n",
      "165,name165,67\n",
      "166,name166,67\n",
      "167,name167,67\n",
      "168,name168,23\n",
      "169,name169,56\n",
      "170,name170,45\n",
      "171,name171,67\n",
      "172,name172,23\n",
      "173,name173,34\n",
      "174,name174,34\n",
      "175,name175,56\n",
      "176,name176,34\n",
      "177,name177,45\n",
      "178,name178,45\n",
      "179,name179,45\n",
      "180,name180,34\n",
      "181,name181,45\n",
      "182,name182,56\n",
      "183,name183,34\n",
      "184,name184,34\n",
      "185,name185,56\n",
      "186,name186,45\n",
      "187,name187,45\n",
      "188,name188,56\n",
      "189,name189,67\n",
      "190,name190,45\n",
      "191,name191,56\n",
      "192,name192,34\n",
      "193,name193,56\n",
      "194,name194,45\n",
      "195,name195,45\n",
      "196,name196,45\n",
      "197,name197,67\n",
      "198,name198,67\n",
      "199,name199,23\n",
      "200,name200,56\n",
      "201,name201,34\n",
      "202,name202,45\n",
      "203,name203,67\n",
      "204,name204,34\n",
      "205,name205,45\n",
      "206,name206,23\n",
      "207,name207,34\n",
      "208,name208,67\n",
      "209,name209,23\n",
      "210,name210,34\n",
      "211,name211,67\n",
      "212,name212,23\n",
      "213,name213,67\n",
      "214,name214,23\n",
      "215,name215,56\n",
      "216,name216,45\n",
      "217,name217,56\n",
      "218,name218,45\n",
      "219,name219,23\n",
      "220,name220,34\n",
      "221,name221,67\n",
      "222,name222,34\n",
      "223,name223,67\n",
      "224,name224,23\n",
      "225,name225,23\n",
      "226,name226,34\n",
      "227,name227,67\n",
      "228,name228,23\n",
      "229,name229,34\n",
      "230,name230,67\n",
      "231,name231,67\n",
      "232,name232,67\n",
      "233,name233,34\n",
      "234,name234,23\n",
      "235,name235,34\n",
      "236,name236,56\n",
      "237,name237,67\n",
      "238,name238,56\n",
      "239,name239,34\n",
      "240,name240,45\n",
      "241,name241,45\n",
      "242,name242,56\n",
      "243,name243,45\n",
      "244,name244,67\n",
      "245,name245,67\n",
      "246,name246,67\n",
      "247,name247,34\n",
      "248,name248,23\n",
      "249,name249,45\n",
      "250,name250,67\n",
      "251,name251,56\n",
      "252,name252,56\n",
      "253,name253,67\n",
      "254,name254,67\n",
      "255,name255,56\n",
      "256,name256,34\n",
      "257,name257,23\n",
      "258,name258,56\n",
      "259,name259,56\n",
      "260,name260,67\n",
      "261,name261,23\n",
      "262,name262,23\n",
      "263,name263,56\n",
      "264,name264,45\n",
      "265,name265,56\n",
      "266,name266,45\n",
      "267,name267,56\n",
      "268,name268,23\n",
      "269,name269,23\n",
      "270,name270,45\n",
      "271,name271,34\n",
      "272,name272,23\n",
      "273,name273,23\n",
      "274,name274,56\n",
      "275,name275,45\n",
      "276,name276,67\n",
      "277,name277,23\n",
      "278,name278,45\n",
      "279,name279,34\n",
      "280,name280,45\n",
      "281,name281,23\n",
      "282,name282,45\n",
      "283,name283,45\n",
      "284,name284,34\n",
      "285,name285,67\n",
      "286,name286,56\n",
      "287,name287,34\n",
      "288,name288,67\n",
      "289,name289,34\n",
      "290,name290,45\n",
      "291,name291,56\n",
      "292,name292,67\n",
      "293,name293,45\n",
      "294,name294,56\n",
      "295,name295,67\n",
      "296,name296,23\n",
      "297,name297,23\n",
      "298,name298,45\n",
      "299,name299,56\n",
      "300,name300,34\n",
      "301,name301,34\n",
      "302,name302,45\n",
      "303,name303,67\n",
      "304,name304,23\n",
      "305,name305,56\n",
      "306,name306,67\n",
      "307,name307,34\n",
      "308,name308,56\n",
      "309,name309,45\n",
      "310,name310,45\n",
      "311,name311,34\n",
      "312,name312,67\n",
      "313,name313,23\n",
      "314,name314,56\n",
      "315,name315,34\n",
      "316,name316,67\n",
      "317,name317,67\n",
      "318,name318,45\n",
      "319,name319,45\n",
      "320,name320,67\n",
      "321,name321,34\n",
      "322,name322,23\n",
      "323,name323,56\n",
      "324,name324,23\n",
      "325,name325,45\n",
      "326,name326,67\n",
      "327,name327,23\n",
      "328,name328,45\n",
      "329,name329,34\n",
      "330,name330,67\n",
      "331,name331,67\n",
      "332,name332,34\n",
      "333,name333,45\n",
      "334,name334,67\n",
      "335,name335,34\n",
      "336,name336,67\n",
      "337,name337,23\n",
      "338,name338,23\n",
      "339,name339,56\n",
      "340,name340,56\n",
      "341,name341,23\n",
      "342,name342,23\n",
      "343,name343,45\n",
      "344,name344,56\n",
      "345,name345,56\n",
      "346,name346,67\n",
      "347,name347,67\n",
      "348,name348,34\n",
      "349,name349,67\n",
      "350,name350,56\n",
      "351,name351,23\n",
      "352,name352,34\n",
      "353,name353,45\n",
      "354,name354,56\n",
      "355,name355,67\n",
      "356,name356,34\n",
      "357,name357,34\n",
      "358,name358,23\n",
      "359,name359,67\n",
      "360,name360,56\n",
      "361,name361,67\n",
      "362,name362,34\n",
      "363,name363,67\n",
      "364,name364,45\n",
      "365,name365,23\n",
      "366,name366,45\n",
      "367,name367,23\n",
      "368,name368,45\n",
      "369,name369,34\n",
      "370,name370,56\n",
      "371,name371,56\n",
      "372,name372,34\n",
      "373,name373,56\n",
      "374,name374,23\n",
      "375,name375,45\n",
      "376,name376,34\n",
      "377,name377,34\n",
      "378,name378,34\n",
      "379,name379,45\n",
      "380,name380,67\n",
      "381,name381,56\n",
      "382,name382,56\n",
      "383,name383,56\n",
      "384,name384,45\n",
      "385,name385,67\n",
      "386,name386,23\n",
      "387,name387,56\n",
      "388,name388,23\n",
      "389,name389,34\n",
      "390,name390,67\n",
      "391,name391,23\n",
      "392,name392,67\n",
      "393,name393,23\n",
      "394,name394,45\n",
      "395,name395,67\n",
      "396,name396,34\n",
      "397,name397,67\n",
      "398,name398,56\n",
      "399,name399,56\n",
      "400,name400,67\n",
      "401,name401,56\n",
      "402,name402,56\n",
      "403,name403,45\n",
      "404,name404,34\n",
      "405,name405,23\n",
      "406,name406,56\n",
      "407,name407,23\n",
      "408,name408,34\n",
      "409,name409,56\n",
      "410,name410,45\n",
      "411,name411,67\n",
      "412,name412,45\n",
      "413,name413,34\n",
      "414,name414,56\n",
      "415,name415,34\n",
      "416,name416,67\n",
      "417,name417,34\n",
      "418,name418,45\n",
      "419,name419,34\n",
      "420,name420,23\n",
      "421,name421,34\n",
      "422,name422,23\n",
      "423,name423,23\n",
      "424,name424,67\n",
      "425,name425,34\n",
      "426,name426,67\n",
      "427,name427,67\n",
      "428,name428,34\n",
      "429,name429,34\n",
      "430,name430,45\n",
      "431,name431,45\n",
      "432,name432,45\n",
      "433,name433,34\n",
      "434,name434,45\n",
      "435,name435,34\n",
      "436,name436,23\n",
      "437,name437,67\n",
      "438,name438,67\n",
      "439,name439,45\n",
      "440,name440,67\n",
      "441,name441,34\n",
      "442,name442,23\n",
      "443,name443,67\n",
      "444,name444,23\n",
      "445,name445,23\n",
      "446,name446,56\n",
      "447,name447,23\n",
      "448,name448,56\n",
      "449,name449,67\n",
      "450,name450,67\n",
      "451,name451,67\n",
      "452,name452,56\n",
      "453,name453,45\n",
      "454,name454,67\n",
      "455,name455,56\n",
      "456,name456,23\n",
      "457,name457,34\n",
      "458,name458,56\n",
      "459,name459,67\n",
      "460,name460,67\n",
      "461,name461,56\n",
      "462,name462,45\n",
      "463,name463,56\n",
      "464,name464,34\n",
      "465,name465,34\n",
      "466,name466,67\n",
      "467,name467,67\n",
      "468,name468,67\n",
      "469,name469,23\n",
      "470,name470,34\n",
      "471,name471,23\n",
      "472,name472,67\n",
      "473,name473,34\n",
      "474,name474,67\n",
      "475,name475,56\n",
      "476,name476,34\n",
      "477,name477,67\n",
      "478,name478,23\n",
      "479,name479,34\n",
      "480,name480,56\n",
      "481,name481,23\n",
      "482,name482,56\n",
      "483,name483,45\n",
      "484,name484,45\n",
      "485,name485,34\n",
      "486,name486,67\n",
      "487,name487,45\n",
      "488,name488,56\n",
      "489,name489,23\n",
      "490,name490,45\n",
      "491,name491,56\n",
      "492,name492,56\n",
      "493,name493,34\n",
      "494,name494,45\n",
      "495,name495,23\n",
      "496,name496,23\n",
      "497,name497,67\n",
      "498,name498,45\n",
      "499,name499,23\n",
      "500,name500,34\n",
      "501,name501,67\n",
      "502,name502,23\n",
      "503,name503,45\n",
      "504,name504,23\n",
      "505,name505,67\n",
      "506,name506,23\n",
      "507,name507,45\n",
      "508,name508,67\n",
      "509,name509,34\n",
      "510,name510,23\n",
      "511,name511,67\n",
      "512,name512,23\n",
      "513,name513,23\n",
      "514,name514,34\n",
      "515,name515,45\n",
      "516,name516,45\n",
      "517,name517,23\n",
      "518,name518,45\n",
      "519,name519,56\n",
      "520,name520,45\n",
      "521,name521,23\n",
      "522,name522,34\n",
      "523,name523,56\n",
      "524,name524,45\n",
      "525,name525,56\n",
      "526,name526,67\n",
      "527,name527,45\n",
      "528,name528,34\n",
      "529,name529,56\n",
      "530,name530,67\n",
      "531,name531,34\n",
      "532,name532,34\n",
      "533,name533,34\n",
      "534,name534,45\n",
      "535,name535,67\n",
      "536,name536,56\n",
      "537,name537,34\n",
      "538,name538,67\n",
      "539,name539,23\n",
      "540,name540,23\n",
      "541,name541,45\n",
      "542,name542,67\n",
      "543,name543,34\n",
      "544,name544,34\n",
      "545,name545,23\n",
      "546,name546,56\n",
      "547,name547,23\n",
      "548,name548,67\n",
      "549,name549,23\n",
      "550,name550,56\n",
      "551,name551,67\n",
      "552,name552,45\n",
      "553,name553,23\n",
      "554,name554,56\n",
      "555,name555,56\n",
      "556,name556,34\n",
      "557,name557,23\n",
      "558,name558,23\n",
      "559,name559,56\n",
      "560,name560,67\n",
      "561,name561,34\n",
      "562,name562,45\n",
      "563,name563,45\n",
      "564,name564,45\n",
      "565,name565,34\n",
      "566,name566,45\n",
      "567,name567,23\n",
      "568,name568,67\n",
      "569,name569,56\n",
      "570,name570,34\n",
      "571,name571,23\n",
      "572,name572,56\n",
      "573,name573,45\n",
      "574,name574,67\n",
      "575,name575,34\n",
      "576,name576,34\n",
      "577,name577,67\n",
      "578,name578,34\n",
      "579,name579,56\n",
      "580,name580,67\n",
      "581,name581,56\n",
      "582,name582,56\n",
      "583,name583,45\n",
      "584,name584,34\n",
      "585,name585,45\n",
      "586,name586,23\n",
      "587,name587,23\n",
      "588,name588,45\n",
      "589,name589,23\n",
      "590,name590,56\n",
      "591,name591,34\n",
      "592,name592,45\n",
      "593,name593,23\n",
      "594,name594,67\n",
      "595,name595,45\n",
      "596,name596,67\n",
      "597,name597,23\n",
      "598,name598,67\n",
      "599,name599,34\n",
      "600,name600,45\n",
      "601,name601,23\n",
      "602,name602,34\n",
      "603,name603,45\n",
      "604,name604,67\n",
      "605,name605,67\n",
      "606,name606,45\n",
      "607,name607,56\n",
      "608,name608,45\n",
      "609,name609,67\n",
      "610,name610,45\n",
      "611,name611,56\n",
      "612,name612,67\n",
      "613,name613,45\n",
      "614,name614,67\n",
      "615,name615,45\n",
      "616,name616,23\n",
      "617,name617,67\n",
      "618,name618,56\n",
      "619,name619,23\n",
      "620,name620,23\n",
      "621,name621,45\n",
      "622,name622,56\n",
      "623,name623,67\n",
      "624,name624,34\n",
      "625,name625,23\n",
      "626,name626,23\n",
      "627,name627,67\n",
      "628,name628,23\n",
      "629,name629,67\n",
      "630,name630,45\n",
      "631,name631,34\n",
      "632,name632,23\n",
      "633,name633,23\n",
      "634,name634,56\n",
      "635,name635,34\n",
      "636,name636,45\n",
      "637,name637,34\n",
      "638,name638,56\n",
      "639,name639,23\n",
      "640,name640,56\n",
      "641,name641,23\n",
      "642,name642,34\n",
      "643,name643,23\n",
      "644,name644,67\n",
      "645,name645,34\n",
      "646,name646,56\n",
      "647,name647,34\n",
      "648,name648,67\n",
      "649,name649,34\n",
      "650,name650,56\n",
      "651,name651,45\n",
      "652,name652,45\n",
      "653,name653,45\n",
      "654,name654,23\n",
      "655,name655,56\n",
      "656,name656,67\n",
      "657,name657,67\n",
      "658,name658,23\n",
      "659,name659,67\n",
      "660,name660,23\n",
      "661,name661,45\n",
      "662,name662,56\n",
      "663,name663,67\n",
      "664,name664,56\n",
      "665,name665,45\n",
      "666,name666,23\n",
      "667,name667,45\n",
      "668,name668,34\n",
      "669,name669,34\n",
      "670,name670,34\n",
      "671,name671,34\n",
      "672,name672,45\n",
      "673,name673,34\n",
      "674,name674,67\n",
      "675,name675,56\n",
      "676,name676,45\n",
      "677,name677,45\n",
      "678,name678,34\n",
      "679,name679,67\n",
      "680,name680,23\n",
      "681,name681,45\n",
      "682,name682,67\n",
      "683,name683,67\n",
      "684,name684,67\n",
      "685,name685,34\n",
      "686,name686,56\n",
      "687,name687,23\n",
      "688,name688,34\n",
      "689,name689,23\n",
      "690,name690,23\n",
      "691,name691,34\n",
      "692,name692,34\n",
      "693,name693,23\n",
      "694,name694,56\n",
      "695,name695,45\n",
      "696,name696,56\n",
      "697,name697,34\n",
      "698,name698,34\n",
      "699,name699,45\n",
      "700,name700,45\n",
      "701,name701,34\n",
      "702,name702,67\n",
      "703,name703,34\n",
      "704,name704,56\n",
      "705,name705,34\n",
      "706,name706,67\n",
      "707,name707,67\n",
      "708,name708,45\n",
      "709,name709,56\n",
      "710,name710,34\n",
      "711,name711,23\n",
      "712,name712,67\n",
      "713,name713,23\n",
      "714,name714,45\n",
      "715,name715,67\n",
      "716,name716,56\n",
      "717,name717,67\n",
      "718,name718,34\n",
      "719,name719,45\n",
      "720,name720,56\n",
      "721,name721,67\n",
      "722,name722,45\n",
      "723,name723,34\n",
      "724,name724,67\n",
      "725,name725,67\n",
      "726,name726,56\n",
      "727,name727,23\n",
      "728,name728,67\n",
      "729,name729,34\n",
      "730,name730,45\n",
      "731,name731,45\n",
      "732,name732,67\n",
      "733,name733,23\n",
      "734,name734,45\n",
      "735,name735,67\n",
      "736,name736,34\n",
      "737,name737,23\n",
      "738,name738,34\n",
      "739,name739,56\n",
      "740,name740,23\n",
      "741,name741,45\n",
      "742,name742,56\n",
      "743,name743,67\n",
      "744,name744,23\n",
      "745,name745,67\n",
      "746,name746,45\n",
      "747,name747,67\n",
      "748,name748,67\n",
      "749,name749,34\n",
      "750,name750,45\n",
      "751,name751,67\n",
      "752,name752,23\n",
      "753,name753,45\n",
      "754,name754,56\n",
      "755,name755,34\n",
      "756,name756,45\n",
      "757,name757,23\n",
      "758,name758,67\n",
      "759,name759,23\n",
      "760,name760,56\n",
      "761,name761,23\n",
      "762,name762,67\n",
      "763,name763,56\n",
      "764,name764,45\n",
      "765,name765,45\n",
      "766,name766,67\n",
      "767,name767,45\n",
      "768,name768,45\n",
      "769,name769,56\n",
      "770,name770,34\n",
      "771,name771,45\n",
      "772,name772,45\n",
      "773,name773,67\n",
      "774,name774,56\n",
      "775,name775,56\n",
      "776,name776,56\n",
      "777,name777,45\n",
      "778,name778,23\n",
      "779,name779,34\n",
      "780,name780,56\n",
      "781,name781,67\n",
      "782,name782,34\n",
      "783,name783,56\n",
      "784,name784,67\n",
      "785,name785,45\n",
      "786,name786,45\n",
      "787,name787,45\n",
      "788,name788,23\n",
      "789,name789,56\n",
      "790,name790,56\n",
      "791,name791,56\n",
      "792,name792,56\n",
      "793,name793,23\n",
      "794,name794,23\n",
      "795,name795,45\n",
      "796,name796,23\n",
      "797,name797,45\n",
      "798,name798,34\n",
      "799,name799,23\n",
      "800,name800,34\n",
      "801,name801,56\n",
      "802,name802,56\n",
      "803,name803,34\n",
      "804,name804,45\n",
      "805,name805,45\n",
      "806,name806,45\n",
      "807,name807,34\n",
      "808,name808,23\n",
      "809,name809,45\n",
      "810,name810,23\n",
      "811,name811,56\n",
      "812,name812,34\n",
      "813,name813,45\n",
      "814,name814,67\n",
      "815,name815,67\n",
      "816,name816,45\n",
      "817,name817,56\n",
      "818,name818,56\n",
      "819,name819,67\n",
      "820,name820,67\n",
      "821,name821,23\n",
      "822,name822,56\n",
      "823,name823,45\n",
      "824,name824,45\n",
      "825,name825,67\n",
      "826,name826,56\n",
      "827,name827,56\n",
      "828,name828,45\n",
      "829,name829,56\n",
      "830,name830,56\n",
      "831,name831,34\n",
      "832,name832,56\n",
      "833,name833,67\n",
      "834,name834,34\n",
      "835,name835,56\n",
      "836,name836,67\n",
      "837,name837,67\n",
      "838,name838,34\n",
      "839,name839,23\n",
      "840,name840,45\n",
      "841,name841,67\n",
      "842,name842,34\n",
      "843,name843,34\n",
      "844,name844,45\n",
      "845,name845,34\n",
      "846,name846,45\n",
      "847,name847,67\n",
      "848,name848,34\n",
      "849,name849,34\n",
      "850,name850,56\n",
      "851,name851,67\n",
      "852,name852,56\n",
      "853,name853,34\n",
      "854,name854,23\n",
      "855,name855,23\n",
      "856,name856,56\n",
      "857,name857,67\n",
      "858,name858,56\n",
      "859,name859,67\n",
      "860,name860,45\n",
      "861,name861,45\n",
      "862,name862,34\n",
      "863,name863,56\n",
      "864,name864,67\n",
      "865,name865,56\n",
      "866,name866,56\n",
      "867,name867,56\n",
      "868,name868,45\n",
      "869,name869,67\n",
      "870,name870,34\n",
      "871,name871,56\n",
      "872,name872,45\n",
      "873,name873,34\n",
      "874,name874,56\n",
      "875,name875,23\n",
      "876,name876,23\n",
      "877,name877,23\n",
      "878,name878,23\n",
      "879,name879,23\n",
      "880,name880,45\n",
      "881,name881,67\n",
      "882,name882,34\n",
      "883,name883,23\n",
      "884,name884,67\n",
      "885,name885,67\n",
      "886,name886,67\n",
      "887,name887,34\n",
      "888,name888,56\n",
      "889,name889,67\n",
      "890,name890,23\n",
      "891,name891,45\n",
      "892,name892,34\n",
      "893,name893,23\n",
      "894,name894,23\n",
      "895,name895,23\n",
      "896,name896,56\n",
      "897,name897,34\n",
      "898,name898,34\n",
      "899,name899,67\n",
      "900,name900,67\n",
      "901,name901,67\n",
      "902,name902,34\n",
      "903,name903,45\n",
      "904,name904,23\n",
      "905,name905,23\n",
      "906,name906,67\n",
      "907,name907,56\n",
      "908,name908,34\n",
      "909,name909,56\n",
      "910,name910,23\n",
      "911,name911,23\n",
      "912,name912,56\n",
      "913,name913,67\n",
      "914,name914,23\n",
      "915,name915,56\n",
      "916,name916,56\n",
      "917,name917,23\n",
      "918,name918,23\n",
      "919,name919,45\n",
      "920,name920,67\n",
      "921,name921,56\n",
      "922,name922,56\n",
      "923,name923,67\n",
      "924,name924,56\n",
      "925,name925,34\n",
      "926,name926,34\n",
      "927,name927,23\n",
      "928,name928,34\n",
      "929,name929,45\n",
      "930,name930,23\n",
      "931,name931,45\n",
      "932,name932,34\n",
      "933,name933,23\n",
      "934,name934,45\n",
      "935,name935,34\n",
      "936,name936,45\n",
      "937,name937,67\n",
      "938,name938,56\n",
      "939,name939,67\n",
      "940,name940,67\n",
      "941,name941,67\n",
      "942,name942,45\n",
      "943,name943,67\n",
      "944,name944,34\n",
      "945,name945,23\n",
      "946,name946,67\n",
      "947,name947,67\n",
      "948,name948,23\n",
      "949,name949,45\n",
      "950,name950,34\n",
      "951,name951,56\n",
      "952,name952,67\n",
      "953,name953,45\n",
      "954,name954,45\n",
      "955,name955,56\n",
      "956,name956,45\n",
      "957,name957,56\n",
      "958,name958,23\n",
      "959,name959,23\n",
      "960,name960,34\n",
      "961,name961,34\n",
      "962,name962,67\n",
      "963,name963,45\n",
      "964,name964,23\n",
      "965,name965,23\n",
      "966,name966,23\n",
      "967,name967,56\n",
      "968,name968,45\n",
      "969,name969,34\n",
      "970,name970,45\n",
      "971,name971,23\n",
      "972,name972,23\n",
      "973,name973,56\n",
      "974,name974,45\n",
      "975,name975,34\n",
      "976,name976,34\n",
      "977,name977,45\n",
      "978,name978,67\n",
      "979,name979,34\n",
      "980,name980,34\n",
      "981,name981,56\n",
      "982,name982,56\n",
      "983,name983,23\n",
      "984,name984,23\n",
      "985,name985,23\n",
      "986,name986,34\n",
      "987,name987,34\n",
      "988,name988,67\n",
      "989,name989,56\n",
      "990,name990,34\n",
      "991,name991,23\n",
      "992,name992,23\n",
      "993,name993,23\n",
      "994,name994,45\n",
      "995,name995,23\n",
      "996,name996,67\n",
      "997,name997,23\n",
      "998,name998,56\n",
      "999,name999,23\n",
      "\n"
     ]
    }
   ],
   "source": [
    "print data"
   ]
  },
  {
   "cell_type": "code",
   "execution_count": 22,
   "metadata": {
    "collapsed": false
   },
   "outputs": [
    {
     "name": "stdout",
     "output_type": "stream",
     "text": [
      "<type 'str'>\n"
     ]
    }
   ],
   "source": [
    "print type(data)"
   ]
  },
  {
   "cell_type": "code",
   "execution_count": 23,
   "metadata": {
    "collapsed": false
   },
   "outputs": [
    {
     "name": "stdout",
     "output_type": "stream",
     "text": [
      "0\n"
     ]
    }
   ],
   "source": [
    "for i in data:\n",
    "    print i\n",
    "    break"
   ]
  },
  {
   "cell_type": "code",
   "execution_count": 24,
   "metadata": {
    "collapsed": true
   },
   "outputs": [],
   "source": [
    "rows = data.split('\\n')"
   ]
  },
  {
   "cell_type": "code",
   "execution_count": 25,
   "metadata": {
    "collapsed": false
   },
   "outputs": [
    {
     "data": {
      "text/plain": [
       "list"
      ]
     },
     "execution_count": 25,
     "metadata": {},
     "output_type": "execute_result"
    }
   ],
   "source": [
    "type(rows)"
   ]
  },
  {
   "cell_type": "code",
   "execution_count": 27,
   "metadata": {
    "collapsed": false
   },
   "outputs": [
    {
     "name": "stdout",
     "output_type": "stream",
     "text": [
      "0,name0,56\n"
     ]
    }
   ],
   "source": [
    "for row in rows:\n",
    "    print row\n",
    "    break"
   ]
  },
  {
   "cell_type": "code",
   "execution_count": 29,
   "metadata": {
    "collapsed": false
   },
   "outputs": [
    {
     "name": "stdout",
     "output_type": "stream",
     "text": [
      "0,name0,56\n",
      "\n"
     ]
    }
   ],
   "source": [
    "f=open('data.csv','r')\n",
    "data = f.readlines()\n",
    "for i in data:\n",
    "    print i\n",
    "    break\n",
    "f.close()"
   ]
  },
  {
   "cell_type": "code",
   "execution_count": 30,
   "metadata": {
    "collapsed": false
   },
   "outputs": [
    {
     "name": "stdout",
     "output_type": "stream",
     "text": [
      "0,name0,56\n",
      "\n"
     ]
    }
   ],
   "source": [
    "f=open('data.csv','r')\n",
    "print f.readline()"
   ]
  },
  {
   "cell_type": "code",
   "execution_count": 31,
   "metadata": {
    "collapsed": false
   },
   "outputs": [
    {
     "data": {
      "text/plain": [
       "'1,name1,67\\n'"
      ]
     },
     "execution_count": 31,
     "metadata": {},
     "output_type": "execute_result"
    }
   ],
   "source": [
    "f.readline()"
   ]
  },
  {
   "cell_type": "code",
   "execution_count": 32,
   "metadata": {
    "collapsed": false
   },
   "outputs": [
    {
     "name": "stdout",
     "output_type": "stream",
     "text": [
      "2,name2,56\n",
      "\n"
     ]
    }
   ],
   "source": [
    "print f.readline()"
   ]
  },
  {
   "cell_type": "code",
   "execution_count": 33,
   "metadata": {
    "collapsed": false
   },
   "outputs": [
    {
     "name": "stdout",
     "output_type": "stream",
     "text": [
      "3,name3,23\n",
      "\n"
     ]
    }
   ],
   "source": [
    "print f.readline()"
   ]
  },
  {
   "cell_type": "code",
   "execution_count": 34,
   "metadata": {
    "collapsed": false
   },
   "outputs": [
    {
     "name": "stdout",
     "output_type": "stream",
     "text": [
      "4\n",
      ",\n",
      "n\n",
      "a\n",
      "m\n"
     ]
    }
   ],
   "source": [
    "c=0\n",
    "for i in f.readline():\n",
    "    if c==5:\n",
    "        break\n",
    "    else:\n",
    "        print i\n",
    "    c=c+1"
   ]
  },
  {
   "cell_type": "code",
   "execution_count": 1,
   "metadata": {
    "collapsed": false
   },
   "outputs": [
    {
     "name": "stdout",
     "output_type": "stream",
     "text": [
      "0,name0,56\n",
      "\n",
      "1,name1,67\n",
      "\n",
      "2,name2,56\n",
      "\n",
      "3,name3,23\n",
      "\n",
      "4,name4,45\n",
      "\n"
     ]
    }
   ],
   "source": [
    "f=open('data.csv','r')\n",
    "c=0\n",
    "while c<5:\n",
    "    print f.readline()\n",
    "    c=c+1"
   ]
  },
  {
   "cell_type": "code",
   "execution_count": 2,
   "metadata": {
    "collapsed": false
   },
   "outputs": [
    {
     "data": {
      "text/plain": [
       "'5,name5,23\\n'"
      ]
     },
     "execution_count": 2,
     "metadata": {},
     "output_type": "execute_result"
    }
   ],
   "source": [
    "f.readline()"
   ]
  },
  {
   "cell_type": "code",
   "execution_count": 4,
   "metadata": {
    "collapsed": false
   },
   "outputs": [
    {
     "name": "stdout",
     "output_type": "stream",
     "text": [
      "6,name6,56\n",
      "\n",
      "7,name7,56\n",
      "\n",
      "8,name8,45\n",
      "\n",
      "9,name9,67\n",
      "\n",
      "10,name10,23\n",
      "\n"
     ]
    }
   ],
   "source": [
    "c=0\n",
    "while c<5:\n",
    "    print f.readline()\n",
    "    c=c+1"
   ]
  },
  {
   "cell_type": "code",
   "execution_count": 5,
   "metadata": {
    "collapsed": false
   },
   "outputs": [
    {
     "name": "stdout",
     "output_type": "stream",
     "text": [
      "11,name11,56\n",
      "\n",
      "12,name12,45\n",
      "\n",
      "13,name13,34\n",
      "\n",
      "14,name14,23\n",
      "\n",
      "15,name15,45\n",
      "\n"
     ]
    }
   ],
   "source": [
    "c=0\n",
    "while c<5:\n",
    "    print f.readline()\n",
    "    c=c+1"
   ]
  },
  {
   "cell_type": "code",
   "execution_count": 6,
   "metadata": {
    "collapsed": false
   },
   "outputs": [
    {
     "name": "stdout",
     "output_type": "stream",
     "text": [
      "16,name16,45\n",
      "\n",
      "17,name17,67\n",
      "\n",
      "18,name18,45\n",
      "\n",
      "19,name19,56\n",
      "\n",
      "20,name20,23\n",
      "\n"
     ]
    }
   ],
   "source": [
    "c=0\n",
    "while c<5:\n",
    "    print f.readline()\n",
    "    c=c+1"
   ]
  },
  {
   "cell_type": "code",
   "execution_count": 7,
   "metadata": {
    "collapsed": true
   },
   "outputs": [],
   "source": [
    "f=open('data.csv','r')\n",
    "data  =f.read()"
   ]
  },
  {
   "cell_type": "code",
   "execution_count": 8,
   "metadata": {
    "collapsed": false
   },
   "outputs": [
    {
     "name": "stdout",
     "output_type": "stream",
     "text": [
      "0,name0,56\n"
     ]
    }
   ],
   "source": [
    "print data[:10]"
   ]
  },
  {
   "cell_type": "code",
   "execution_count": 9,
   "metadata": {
    "collapsed": false
   },
   "outputs": [
    {
     "name": "stdout",
     "output_type": "stream",
     "text": [
      "data= 0,name0,56\n",
      "data1= \n"
     ]
    }
   ],
   "source": [
    "f=open('data.csv','r')\n",
    "data  =f.read()\n",
    "print \"data=\",data[:10]\n",
    "data1=f.read()\n",
    "print \"data1=\",data1[:10]\n",
    "f.close()"
   ]
  },
  {
   "cell_type": "code",
   "execution_count": 10,
   "metadata": {
    "collapsed": true
   },
   "outputs": [],
   "source": [
    "f=open(\"data.csv\",'w')"
   ]
  },
  {
   "cell_type": "code",
   "execution_count": 11,
   "metadata": {
    "collapsed": true
   },
   "outputs": [],
   "source": [
    "for i in range(5):\n",
    "    f.write(\"line:%s\\n\"%i)\n",
    "f.close()"
   ]
  },
  {
   "cell_type": "code",
   "execution_count": 12,
   "metadata": {
    "collapsed": false
   },
   "outputs": [
    {
     "ename": "IOError",
     "evalue": "[Errno 2] No such file or directory: 'data1.csv'",
     "output_type": "error",
     "traceback": [
      "\u001b[0;31m---------------------------------------------------------------------------\u001b[0m",
      "\u001b[0;31mIOError\u001b[0m                                   Traceback (most recent call last)",
      "\u001b[0;32m<ipython-input-12-04488610ee89>\u001b[0m in \u001b[0;36m<module>\u001b[0;34m()\u001b[0m\n\u001b[0;32m----> 1\u001b[0;31m \u001b[0mf\u001b[0m\u001b[0;34m=\u001b[0m\u001b[0mopen\u001b[0m\u001b[0;34m(\u001b[0m\u001b[0;34m'data1.csv'\u001b[0m\u001b[0;34m)\u001b[0m\u001b[0;34m\u001b[0m\u001b[0m\n\u001b[0m",
      "\u001b[0;31mIOError\u001b[0m: [Errno 2] No such file or directory: 'data1.csv'"
     ]
    }
   ],
   "source": [
    "f=open('data1.csv')\n"
   ]
  },
  {
   "cell_type": "code",
   "execution_count": 13,
   "metadata": {
    "collapsed": true
   },
   "outputs": [],
   "source": [
    "f=open('data.csv')\n",
    "data=f.read()\n"
   ]
  },
  {
   "cell_type": "code",
   "execution_count": 14,
   "metadata": {
    "collapsed": false
   },
   "outputs": [
    {
     "data": {
      "text/plain": [
       "'line:0\\nline:1\\nline:2\\nline:3\\nline:4\\n'"
      ]
     },
     "execution_count": 14,
     "metadata": {},
     "output_type": "execute_result"
    }
   ],
   "source": [
    "data"
   ]
  },
  {
   "cell_type": "code",
   "execution_count": 15,
   "metadata": {
    "collapsed": false
   },
   "outputs": [
    {
     "name": "stdout",
     "output_type": "stream",
     "text": [
      "line:0\n",
      "line:1\n",
      "line:2\n",
      "line:3\n",
      "line:4\n",
      "\n"
     ]
    }
   ],
   "source": [
    "print data"
   ]
  },
  {
   "cell_type": "code",
   "execution_count": 16,
   "metadata": {
    "collapsed": true
   },
   "outputs": [],
   "source": [
    "data1=f.read()"
   ]
  },
  {
   "cell_type": "code",
   "execution_count": 17,
   "metadata": {
    "collapsed": false
   },
   "outputs": [
    {
     "name": "stdout",
     "output_type": "stream",
     "text": [
      "\n"
     ]
    }
   ],
   "source": [
    "print data1"
   ]
  },
  {
   "cell_type": "code",
   "execution_count": 18,
   "metadata": {
    "collapsed": true
   },
   "outputs": [],
   "source": [
    "f=open('data.csv')\n",
    "data=f.read(5)\n"
   ]
  },
  {
   "cell_type": "code",
   "execution_count": 19,
   "metadata": {
    "collapsed": false
   },
   "outputs": [
    {
     "data": {
      "text/plain": [
       "'line:'"
      ]
     },
     "execution_count": 19,
     "metadata": {},
     "output_type": "execute_result"
    }
   ],
   "source": [
    "data"
   ]
  },
  {
   "cell_type": "code",
   "execution_count": 20,
   "metadata": {
    "collapsed": true
   },
   "outputs": [],
   "source": [
    "data1=f.read(10)"
   ]
  },
  {
   "cell_type": "code",
   "execution_count": 22,
   "metadata": {
    "collapsed": false
   },
   "outputs": [
    {
     "data": {
      "text/plain": [
       "'0\\nline:1\\nl'"
      ]
     },
     "execution_count": 22,
     "metadata": {},
     "output_type": "execute_result"
    }
   ],
   "source": [
    "data1"
   ]
  },
  {
   "cell_type": "code",
   "execution_count": 23,
   "metadata": {
    "collapsed": false
   },
   "outputs": [
    {
     "data": {
      "text/plain": [
       "15"
      ]
     },
     "execution_count": 23,
     "metadata": {},
     "output_type": "execute_result"
    }
   ],
   "source": [
    "f.tell()"
   ]
  },
  {
   "cell_type": "code",
   "execution_count": 24,
   "metadata": {
    "collapsed": true
   },
   "outputs": [],
   "source": [
    "data=f.read(10)"
   ]
  },
  {
   "cell_type": "code",
   "execution_count": 25,
   "metadata": {
    "collapsed": false
   },
   "outputs": [
    {
     "name": "stdout",
     "output_type": "stream",
     "text": [
      "ine:2\n",
      "line\n"
     ]
    }
   ],
   "source": [
    "print data"
   ]
  },
  {
   "cell_type": "code",
   "execution_count": 26,
   "metadata": {
    "collapsed": false
   },
   "outputs": [
    {
     "data": {
      "text/plain": [
       "25"
      ]
     },
     "execution_count": 26,
     "metadata": {},
     "output_type": "execute_result"
    }
   ],
   "source": [
    "f.tell()"
   ]
  },
  {
   "cell_type": "code",
   "execution_count": 27,
   "metadata": {
    "collapsed": true
   },
   "outputs": [],
   "source": [
    "f.seek(0)"
   ]
  },
  {
   "cell_type": "code",
   "execution_count": 28,
   "metadata": {
    "collapsed": false
   },
   "outputs": [
    {
     "data": {
      "text/plain": [
       "0"
      ]
     },
     "execution_count": 28,
     "metadata": {},
     "output_type": "execute_result"
    }
   ],
   "source": [
    "f.tell()"
   ]
  },
  {
   "cell_type": "code",
   "execution_count": 29,
   "metadata": {
    "collapsed": true
   },
   "outputs": [],
   "source": [
    "data = f.read(10)"
   ]
  },
  {
   "cell_type": "code",
   "execution_count": 30,
   "metadata": {
    "collapsed": false
   },
   "outputs": [
    {
     "name": "stdout",
     "output_type": "stream",
     "text": [
      "line:0\n",
      "lin\n"
     ]
    }
   ],
   "source": [
    "print data"
   ]
  },
  {
   "cell_type": "code",
   "execution_count": 31,
   "metadata": {
    "collapsed": false
   },
   "outputs": [
    {
     "data": {
      "text/plain": [
       "'data.csv'"
      ]
     },
     "execution_count": 31,
     "metadata": {},
     "output_type": "execute_result"
    }
   ],
   "source": [
    "f.name"
   ]
  },
  {
   "cell_type": "code",
   "execution_count": 32,
   "metadata": {
    "collapsed": false
   },
   "outputs": [
    {
     "data": {
      "text/plain": [
       "<open file 'data.csv', mode 'r' at 0x7fbe9c2b4db0>"
      ]
     },
     "execution_count": 32,
     "metadata": {},
     "output_type": "execute_result"
    }
   ],
   "source": [
    "f.xreadlines()"
   ]
  },
  {
   "cell_type": "code",
   "execution_count": 33,
   "metadata": {
    "collapsed": false
   },
   "outputs": [
    {
     "name": "stdout",
     "output_type": "stream",
     "text": [
      "line:0\n",
      "\n",
      "line:1\n",
      "\n",
      "line:2\n",
      "\n",
      "line:3\n",
      "\n",
      "line:4\n",
      "\n"
     ]
    }
   ],
   "source": [
    "f=open('data.csv')\n",
    "for i in f.xreadlines():\n",
    "    print i\n"
   ]
  },
  {
   "cell_type": "code",
   "execution_count": 34,
   "metadata": {
    "collapsed": false
   },
   "outputs": [
    {
     "name": "stdout",
     "output_type": "stream",
     "text": [
      "line:0\n",
      "\n",
      "line:1\n",
      "\n",
      "line:2\n",
      "\n",
      "line:3\n",
      "\n",
      "line:4\n",
      "\n"
     ]
    }
   ],
   "source": [
    "f=open('data.csv')\n",
    "for i in f.readlines():\n",
    "    print i\n"
   ]
  },
  {
   "cell_type": "code",
   "execution_count": 35,
   "metadata": {
    "collapsed": false
   },
   "outputs": [
    {
     "name": "stdout",
     "output_type": "stream",
     "text": [
      "line:0\n",
      "\n",
      "line:1\n",
      "\n",
      "line:2\n",
      "\n",
      "line:3\n",
      "\n",
      "line:4\n",
      "\n"
     ]
    }
   ],
   "source": [
    "f=open('data.csv')\n",
    "for i in f.xreadlines():\n",
    "    print i\n"
   ]
  },
  {
   "cell_type": "code",
   "execution_count": 39,
   "metadata": {
    "collapsed": true
   },
   "outputs": [],
   "source": [
    "f=open('mem1.jpg','rb')\n",
    "data = f.read()\n",
    "f.close()"
   ]
  },
  {
   "cell_type": "code",
   "execution_count": 40,
   "metadata": {
    "collapsed": false
   },
   "outputs": [
    {
     "data": {
      "text/plain": [
       "20513"
      ]
     },
     "execution_count": 40,
     "metadata": {},
     "output_type": "execute_result"
    }
   ],
   "source": [
    "len(data)"
   ]
  },
  {
   "cell_type": "code",
   "execution_count": 42,
   "metadata": {
    "collapsed": true
   },
   "outputs": [],
   "source": [
    "f=open('mem2.jpg','wb')\n",
    "f.write(data)\n",
    "f.close()"
   ]
  },
  {
   "cell_type": "code",
   "execution_count": 43,
   "metadata": {
    "collapsed": false
   },
   "outputs": [
    {
     "name": "stdout",
     "output_type": "stream",
     "text": [
      "����\u0000\u0010JFIF\u0000\u0001\u0001\u0000\u0000\u0001\u0000\u0001\u0000\u0000��\u0000C\u0000\u0005\u0003\u0004\u0004\u0004\u0003\u0005\u0004\u0004\u0004\u0005\u0005\u0005\u0006\u0007\f",
      "\b\u0007\u0007\u0007\u0007\u000f\u000b",
      "\u000b",
      "\t\f",
      "\u0011\u000f\u0012\u0012\u0011\u000f\u0011\u0011\u0013\u0016\u001c",
      "\u0017\u0013\u0014\u001a\u0015\u0011\u0011\u0018!\u0018\u001a\u001d",
      "\u001d",
      "\u001f\u001f\u001f\u0013\u0017\"$\"\u001e",
      "$\u001c",
      "\u001e",
      "\u001f\u001e",
      "��\u0000C\u0001\u0005\u0005\u0005\u0007\u0006\u0007\u000e\b\b\u000e\u001e",
      "\u0014\u0011\u0014\u001e",
      "\u001e",
      "\u001e",
      "\u001e",
      "\u001e",
      "\u001e",
      "\u001e",
      "\u001e",
      "\u001e",
      "\u001e",
      "\u001e",
      "\u001e",
      "\u001e",
      "\u001e",
      "\u001e",
      "\u001e",
      "\u001e",
      "\u001e",
      "\u001e",
      "\u001e",
      "\u001e",
      "\u001e",
      "\u001e",
      "\u001e",
      "\u001e",
      "\u001e",
      "\u001e",
      "\u001e",
      "\u001e",
      "\u001e",
      "\u001e",
      "\u001e",
      "\u001e",
      "\u001e",
      "\u001e",
      "\u001e",
      "\u001e",
      "\u001e",
      "\u001e",
      "\u001e",
      "\u001e",
      "\u001e",
      "\u001e",
      "\u001e",
      "\u001e",
      "\u001e",
      "\u001e",
      "\u001e",
      "\u001e",
      "\u001e",
      "��\u0000\u0011\b\u0002X\u0003 \u0003\u0001\"\u0000\u0002\u0011\u0001\u0003\u0011\u0001��\u0000\u001f\u0000\u0000\u0001\u0005\u0001\u0001\u0001\u0001\u0001\u0001\u0000\u0000\u0000\u0000\u0000\u0000\u0000\u0000\u0001\u0002\u0003\u0004\u0005\u0006\u0007\b\t\n",
      "\u000b",
      "��\u0000�\u0010\u0000\u0002\u0001\u0003\u0003\u0002\u0004\u0003\u0005\u0005\u0004\u0004\u0000\u0000\u0001}\u0001\u0002\u0003\u0000\u0004\u0011\u0005\u0012!1A\u0006\u0013Qa\u0007\"q\u00142���\b#B��\u0015R��$3br�\t\n",
      "\u0016\u0017\u0018\u0019\u001a%&'()*456789:CDEFGHIJSTUVWXYZcdefghijstuvwxyz���������������������������������������������������������������������������\u0000\u001f\u0001\u0000\u0003\u0001\u0001\u0001\u0001\u0001\u0001\u0001\u0001\u0001\u0000\u0000\u0000\u0000\u0000\u0000\u0001\u0002\u0003\u0004\u0005\u0006\u0007\b\t\n",
      "\u000b",
      "��\u0000�\u0011\u0000\u0002\u0001\u0002\u0004\u0004\u0003\u0004\u0007\u0005\u0004\u0004\u0000\u0001\u0002w\u0000\u0001\u0002\u0003\u0011\u0004\u0005!1\u0006\u0012AQ\u0007aq\u0013\"2�\b\u0014B����\t#3R�\u0015br�\n",
      "\u0016$4�%�\u0017\u0018\u0019\u001a&'()*56789:CDEFGHIJSTUVWXYZcdefghijstuvwxyz��������������������������������������������������������������������������\u0000\f",
      "\u0003\u0001\u0000\u0002\u0011\u0003\u0011\u0000?\u0000�.�(�\u0002�(�\u0002�(�\u0002�(�\u0002�(�\u0002�(�\u0002�(�\u0002�(�\u0002�(�\u0002�(�\u0002�(�\u0002�(�\u0002�(�\u0002�(�\u0002�(�\u0002�(�\u0002�(�\u0002�(�\u0002�(�\u0002�(�\u0002�(�\u0002�(�\u0002�(�\u0002�(�\u0002�(�\u0002�(�\u0002�(�\u0002�(�\u0002�(�\u0002�(�\u0002�(�\u0002�(�\u0002�(�\u0002�(�\u0002�(�\u0002�(�\u0002�(�\u0002�(�\u0002�(�\u0002�(�\u0002�(�\u0002�(�\u0002�(�\u0002�(�\u0002�(�\u0002�(�\u0002�(�\u0002�(�\u0002�(�\u0002�(�\u0002�(�\u0002�(�\u0002�(�\u0002�(�\u0002�(�\u0002�(�\u0002�(�\u0002�(�\u0002�(�\u0002�(�\u0002�(�\u0002�(�\u0002�(�\u0002�(�\u0002�(�\u0002�(�\u0002�(�\u0002�(�\u0002�(�\u0002�(�\u0002�(�\u0002�(�\u0002�(�\u0002�(�\u0002�(�\u0002�(�\u0002�(�\u0002�(�\u0002�(�\u0002�(�\u0002�(�\u0002�(�\u0002�(�\u0002�(�\u0002�(�\u0002�(�\u0002�(�\u0002�(�\u0002�(�\u0002�(�\u0002�(�\u0002�(�\u0002�(�\u0002�(�\u0002�(�\u0002�(�\u0002�(�\u0002�(�\u0002�(�\u0002�(�\u0002�(�\u0002�(�\u0002�(�\u0002�(�\u0002�(�\u0002�(�\u0002�(�\u0002�(�\u0002�(�\u0002�(�\u0002�(�\u0002�(�\u0002�(�\u0002�(�\u0002�(�\u0002�(�\u0002�(�\u0002�(�\u0002�(�\u0002�(�\u0002�(�\u0002�(�\u0002�(�\u0002�(�\u0002�(�\u0002�(�\u0002�(�\u0002�(�\u0002�(�\u0002�(�\u0002�(�\u0002�)\u001d",
      "�\u0014�0U\u0003$��\u0005\u0000-\u0015�^#���\u0018i:��6z�ψu4$5��i%��H6g�ug��\u0000������)�����\u000f�D�\u000ff��g�\u0017��Q_���K�\u0000��?�~�\u0000�\u0015���\u0000���\u0000m�\u000ff��g�\u0017��Q_���K�\u0000��?�~�\u0000�\u0015���\u0000���\u0000m�\u000ff��g�\u0017��Q_���K�\u0000��?�~�\u0000�\u0015���\u0000���\u0000m�\u000ff��g�\u0017��Q_���K�\u0000��?�~�\u0000�\u0015���\u0000���\u0000m�\u000ff��g�\u0017��Q_���K�\u0000��?�~�\u0000�\u0015���\u0000���\u0000m�\u000ff��g�\u0017��Q_���K�\u0000��?�~�\u0000�\u0015���\u0000���\u0000m�\u000ff��g�\u0017��Q_���K�\u0000��?�~�\u0000�\u0015���\u0000���\u0000m�\u000ff��g�\u0017��Q_���K�\u0000��?�~�\u0000�\u0015���\u0000���\u0000m�\u000ff��g�\u0017��Q_���K�\u0000��?�~�\u0000�\u0015���\u0000���\u0000m�\u000ff��g�\u0017��Q_���K�\u0000��?�~�\u0000�\u0015���\u0000���\u0000m�\u000ff��g�\u0017��Q_���K�\u0000��?�~�\u0000�\u0015���\u0000���\u0000m�\u000ff��g�\u0017��Q_���K�\u0000��?�~�\u0000�\u0015���\u0000���\u0000m�\u000ff��g�\u0017��Q_���K�\u0000��\u0007�\u001d",
      "�6_�I�=�\t�N\f",
      "�΁,H>�7�\u0007�QY>\u0014�7��Y����f�V�c�:�`�\u001f�r���ֵ\u0000\u0014QE\u0000\u0014QE\u0000\u0014QE\u0000\u0014QE\u0000\u0014QE\u0000\u0014W�jW�\u0015<s���^\u0016�Ę|\u0019��R-5#�=\u0002\u000b",
      "�704��Ҝ�\u0002\b�m�\u0010Ki�\u0000»���\u0000G\u0017�\u0000�U��\u0000\u0015@\u001e",
      "�Ex��+����q�eY�T»���\u0000G\u0017�\u0000�U��\u0000\u0015@\u001e",
      "�Ex��+����q�eY�T»���\u0000G\u0017�\u0000�U��\u0000\u0015@\u001e",
      "�Ex��+����q�eY�T»���\u0000G\u0017�\u0000�U��\u0000\u0015@\u001e",
      "�Ex��+����q�eY�T»���\u0000G\u0017�\u0000�U��\u0000\u0015@\u001e",
      "�Ex��+����q�eY�T»���\u0000G\u0017�\u0000�U��\u0000\u0015@\u001e",
      "�Ex��+����q�eY�T»���\u0000G\u0017�\u0000�U��\u0000\u0015@\u001e",
      "�Ex��+����q�eY�T»���\u0000G\u0017�\u0000�U��\u0000\u0015@\u001e",
      "�Ex��+����q�eY�T»���\u0000G\u0017�\u0000�U��\u0000\u0015@\u001e",
      "�Ex��+����q�eY�T»���\u0000G\u0017�\u0000�U��\u0000\u0015@\u001e",
      "�Ex��+����q�eY�T»���\u0000G\u0017�\u0000�U��\u0000\u0015@\u001e",
      "�Ex��+����q�eY�T»���\u0000G\u0017�\u0000�U��\u0000\u0015@\u001e",
      "�Ex��+����q�eY�T»���\u0000G\u0017�\u0000�U��\u0000\u0015@\u001e",
      "�Ex\u0005��\u0000\u0016<\u0017����|M�S�\u0012�'Ŀ�h��\u0000�~��g٭w�̙c�e<\u0015�����\u0002�(�\u0002�(�\u0002�(�\u0002�(�\u0002�(�\u0002�(�\u0002�(�\u0002�(�\u0002�(�\u0002�(�\u0002�(�\u0002�(�\u0002�(�\u0002�(�\u0002�(�\u0002�\u000f_]G��M_�p�\u0017V\u001f\r",
      "�5q�M]�d)&�z9{}�\u0012p\u001b\u001d",
      "O�J�7�5o�\u001f\u0007kz�\u0000�\u0000gi������l�\u0000Ҹ?�GF\u001a?�/\u000b",
      "����6�S����\\1�s\u001e",
      "�\f",
      "��\u0005\u0000w�\u0015�ׇ�+�G�xoF�Ҭ�\u0000\"�� >�\u001c",
      "��9&����\n",
      "(��\n",
      "(��\n",
      "(��\n",
      "(��\n",
      "(��\n",
      "(��\n",
      "(��\n",
      "(��\n",
      "(��\n",
      "(��\n",
      "(��\n",
      "(��\n",
      "GE�\u0019\u001d",
      "U��\u0019H�#���@\u001e",
      "%�;�\\�\u001b���G��#�<Qf�k�2�v��1/-\f",
      "�\u000f�y\u0019��\u0003�r\u0018zW�?\u0018i�=�.���'+m�@\u001f�c���*񷺰e�+��\u0016��Ph�6����[]/�b��>�Gy\u0010�\"�(�p=�\u0000{M\u0014Q@\u0005\u0014Q@\u0005\u0014Q@\u0005\u0014Q@\u0005\u0014Q@\u001e",
      "3��Nw���?��٫�~\u0012�\u0000���o�\u0000�\u0007��={5\u0000\u0014QE\u0000\u0014QE\u0000\u0014QE\u0000\u0014QE\u0000\u0014QE\u0000\u0014QE\u0000\u0014QE\u0000\u0014QE\u0000\u0014QE\u0000\u0014QE\u0000\u0014QE\u0000\u0014QE\u0000x�ů�9߂\u001f�\u001f�\u0000�$�f�\u0019���\u0000';�C���\u0000�D���\u0000QE\u0014\u0000QE\u0014\u0000QE\u0014\u0000QE\u0014\u0000QE\u0014\u0000W���L�o��\u0019�~���sU�ԡ��z�N&���\u0004\f",
      "\u0001)&\u0014\u0012q�\\����/i�γ���W�]�V��'��k�%�\b\u00007bzg�küA���=s�^���~&��E����L���N���$\n",
      "ft(\u0014`���\r",
      "D\u001as��������u\u001a�O?�ߞ�q��\u0015�?��~��|\n",
      "���\u0000��-�o��[�C?��G�ؿ마տ��\u0007�Q^3�\u0000\t\u0007�\u001f'��{�릲���\u001fڟ�ğs��\r",
      "��\u0000����c�\u0014\u0001��W�������|%���M~�ʏ/���s�~\u001f�暃:\u0000�j+���i�>�\u0000��\u0019C�\u0000\\����?��i)>�\u0000��\t\u000f�s�eo�h\u0003٨�\u0019�\u0000�[����S���?\u000f��f��B�h\t>�\u0000��&\u001f���X[��\u0000{5\u0015�?�;���\u0000hD�w\u0011�6�����\u0000�g��\u0000�~������b�?��\u000ff��g�\u0015G���\u0000]�@x��\u0000�=&�?�\u001f�t�\u0000�=x���qB��P\u0007�Q^3�\u0000\n",
      "Sį����c�\u0000\\��O��\u001f�w��'��늟�:\u0000�j+��@B��0�`���N�t�<����'���|�\u00129��\u0001��u���\b�\u0000�oQ�\u0000�i(�\u00101�C��-���M\u001d",
      "y7ŏ��\u0016�>\u0016x�X��~5����/nc[�vY#gH\u001d",
      "�e���\b�(�O�>�\u0007[�Y�-cQ��r\\_h�W3*�S�a�\u0004b\u0015C\u0000��p\u0007J\u0000�2��z�����j����X�B��L����,p9�;W�O�5|\u001f�\u0007��O�\u001a(Դ�>�t\u0015TrI>`��n���U�U�+O\u0014�kz=��f���E�\\_H��d'�Y\u001f9G#��I��\r",
      "Z����\u000f�^\u0018񗃵\u0016Y����i\u0017\u0013�w&�\u0000���P��A$.�\u000f8>�T^\u0004���x�Z��\u0013H״k��#�i�ږ�\u0012��\u0002\u0001�\"��7)��[\f",
      "\u000e+��\u0015��\u0010�\u0016|dдK\r",
      "R\u0006��=B�M���x �K�\"-��d�?�v\f",
      "��t\u001e",
      "\u0006�\\�_į�ڔ�\u0016�t+o\bh7\u0016���VMn�s,q�!����63o\\�1�5Q��o%������\u0013;�i��i/�7�_�=�(�0��(\u0000��(\u0000��(\u0000��(\u0000��(\u0000��(\u0000��(\u0000��(\u0000��(\u0000��(\u0000��(\u0000�\u0019�I�\u0000'9�v�\u0000�\u0007��={5x��_�9ߍ�\u0000�\u0000�\u0000�'�\u000ff��(\u0000��(\u0000��(\u0000��(\u0000��(\u0003�<\u0013�i>\u001b���;�Z��V:}����y3�͛\u000009$�\u0000\u0003�H\u0002�B��\u0007����[��ⰇHtMD�qI`mK�Pȳ�\u0015\f",
      "\b�#\u0007�5�2�x���'ǋ\u0007�\u001c",
      "ړO��DE�?f>o��~��ٝ���+��<\u0001�{�\u0012|A��wZM��-t�\u0000��:���p\u001e",
      "\u0010D�,-3n$�\u0007�\u001d",
      "��\u0014���b�����nzn���\u0003k׍c�x�������5��\r",
      "ĥW�\b�N\u0007ҹυ_\u0014$��6�º��\u0017A6��\u001fl�G23��X����i,py�J���v��\u001f\u0014\r",
      "_Q�G�5(<��ɱ�}��&N0|�ܶ8�����\u0011�m�c�V��٘t�z;\b�\u0012�y�;vI>PK.\t��\u0006{f��M�]�����m1�~�\u0000���o�\u0012�����o<%.��\u0013��e�j�|�$�.�l\u001b\u0001�I����� f�v�x���\u001e",
      "�_��\u0007ִ\u0018l�\u0004���Mio�t�X��\u0002�\u0012�\"��n�\u0014\r",
      "�\u0004澇�j6ӻ��������\t����n�^[\u0005\u0014QRPQE\u0014\u0000QE\u0014\u0000QE\u0014\u0000QE\u0014\u0000QE\u0014\u0000QE\u0014\u0000QE\u0014\u0000QE\u0014\u0000QE\u0014\u0001�?\u0016���~\b��\u0000H����g������\u000f���\u0000�\u0012W�P\u0001E\u0014P\u0001E\u0014P\u0001E\u0014P\u0001E\u0014P\u0001E\u0014P\u0001E\u0014P\u0001E\u0014P\u0001E\u0014P\u0001E\u0014P\u0001E\u0014P\u0001E\u0014P\u0001E\u0014P\u0001Er�,���\u000f\n",
      "o\u001e",
      "\"񎉧J�a��<��0K\u001f�W\u0006�\u0000�W��71x\u001b�\u001e",
      "1��ɥh�\b\u0001�\u0000jI6�\u001e",
      "�4\u0001��W��K�C���\u0017��<\u001f\u0003t�^�\r",
      "ԛ}Dp\u000e\u000f�Q�\u0000\n",
      "�⇈9���j([�Zxn�=< �\u0012��~\"�=kZִ}\u0012���Z���n:�wp����\n",
      "�Mo���Oatll<A/�o�\u0000��E������6\u001f��\u0017�t�Oat/��?/�o�\u0000��Z�����v\u001f���\u000f�O\u0000x\u001a��;�Z\u0002x��g�M\u000f�V�\u0004dq��A�%\u001d",
      "�=(\u0003����CǾ&�Y��4O�>!�Ѧ�/\u0016�Q�nb�x 08w\u0010\u001c",
      "��� \u0003^Q�ψ�\u0017u\u001f\u0007xk��\b�m���\u000e�i\u0014:g��>KxD(�.���\u000f�\u0003\u0015�����N����\u0000��0�_�\u0012|H�2�~��E����Ƃ�\u0000!h�wAu9ɗ�\u0019A�=��W��4�/I�\u001f����:���Z\u0015����%C4�n��6\u0007�ĒI<�\u0007�x'�i�\u0007��U���k�NXH�4z��\u0002{<���#\b\u0001�ƽ��?\r",
      "~\u001f�Ic�\u0000�s��.�$`\u0005�;E3q�!\u0005��k���\n",
      "(��\n",
      "(��\n",
      "(��\n",
      "(��\n",
      "(��\n",
      "(��\n",
      "(��\n",
      "(��\n",
      "(��\n",
      "(��\n",
      "(��\n",
      "(��\n",
      "(��\n",
      "񟄿�s�\u001b�\u0000�\u0001�\u0000�O^�^3��Nw���?��\u0003٨��\u0000(��\u0000(��\u0000(��\u0000(��\u0000��U�>��ωߴG�tD���M���\u0004���6_�0#\n",
      "�s�\\��>\u0018�O�|H��\u000f�\u001aN�%��r�7��acق������\u001e",
      "6���_\u0016~�Z~�cuy=���[�B��!�)8UPI>�Wyw��x��sk�/�淰��wZM䚵��1�\u0013JWʅ��e1�V%��\n",
      "I�)���l��d�YM.X�?�?���\u001e",
      "�Y\u001aw�<3�j��\u001aw����J\u0010L��^�$�\u0001�,��\u0018<\u001c",
      "��?��\u0004|C�\u0018i���=�[l,��\u0012i���� �`\u0004bQ�$�>n0M'�����߅:�χ��6\u001b95\b�t�_\u000fMog�\u0019�!c\f",
      "P�\u0002�\u000b",
      "�'��\u001a��ݿ����F����|��(��C\n",
      "(��\n",
      "(��\n",
      "(��\n",
      "(��\n",
      "(��\n",
      "(��\n",
      "(��\n",
      "(��\n",
      "(��\n",
      "(��<g������\u000f���\u0000�\u0012W�W��Z�\u0000���!�\u0000q�\u0000�\"J�j\u0000(��\u0000(��\u0000(��\u0000(��\u0000(��\u0000(����\u000b",
      "\u0005���\u0005{+�M}F;���w�]Q�;�nˎ6�4u���:_��ttQE\u0000\u0014QX�&��|1\u0011��~$�4��G�/#���b\t�(\u0003n�����?�̗/g�t�\u0007��T���:L�\u0007?�0U?PMA�\u0000\t��\u000f\u0011q�o���\u001c",
      "\r",
      "�/<M���PE����\u0007��7�v�V�s{s\r",
      "�\b2�L�\u0015~��+�?�\u0002���\u001e",
      "|S��C�����t�O��yx?*���p�s%�^x��A�+�9\u0017\u001a��-����UOЃ@\u001a�&���@��s�m>��;V\r",
      "7u�w�!�?R+\u000f�\u0017O��ߗ�\u0005�a��}˝[������i\t�?\u0001^��\bxW�\u0011\b�9�#H\\`���8���\u0000�ƶ�\u0003ž��I���>5�\u0004�\u0016ٺ}���\u001b������\u0014���\u0000�~o\u001f|M�Ǌw}�o���ͽs\u0017O���(�\u000e\u000b",
      "�\u0006~\u0015�[ch�\u0005�\"�>��ۋ�G�Iw0��ET@��UF\u0000\u0003\u0000\n",
      "Z�~&|]�_���N�of�u��-�]23q{;\u001e",
      "�F�w=�\u0010\u000fl�\u0007}^o�\u001b�7�<\u001f��\u0006\u0006��\u001f��;a��h��t���x�z� �\r",
      "r���\u0000\u0019�*\u001d",
      "�\"�o�~\u0014��a�t�MZ�\u000fi&��r;/=A\u001d",
      "���\u001c",
      "�:�o��4�xSC���\u0007��9y�>�H�f�\u0013��\n",
      "\u0000��C�-|R���\u001d",
      "l�\u001b�Rs�\u0000\b��>빐�\u0000\r",
      "��oB��\u0007�\r",
      "z���\u0011�O\u0002��I�i�Z��O�R?�����&�\u001a(\u0003����\u0000$Cǟ�-�?�M%\u001f\u0002�x\u000f�Ž;�\u0000I�����\u000f\u001e",
      "ط��\u0000�4�|\t�\u0000�!�?�\u0016���&��;:(��\n",
      "(��\n",
      "(��\n",
      "(��\n",
      "(��\n",
      "(��\n",
      "(��\n",
      "(��\n",
      "(��\n",
      "(��\n",
      "(��\n",
      "(��\n",
      "(��\n",
      "(��\n",
      "񟄿�s�\u001b�\u0000�\u0001�\u0000�O^�^3��Nw���?��\u0003٨��\u0000(��\u0000(��\u0000(��\u0000(��\u0000񟄿�s�\u001b�\u0000�\u0001�\u0000�O^�_)x�Mb/��\u001f��\u0016��n<.u\u0001e��6^G�FͿ6|���8�v\u001a֑�=[º���a�j�����wm�\u001f\u0011ǥ�!#u\u00049�i��A�\u0013�����~_�?\r",
      "w�c��_��\u0000滞��-kJ��w��w��i�q�'���Q�\u0000\u000eI8\u0015��\u000f��\r",
      "�X����7>�\u0012�w\u001d",
      "լ֒E\u001b\u0002VB�\"6�\u0001;��z��\r",
      "��'��M�|_��W@�\u00181\u000f��K\u0006�\u001c",
      "���\"G\u0012�#���6\u0007NF3Y�=՗�\u000f\f",
      "�N�&��\r",
      "?T��ײ��4�g]:�+�p� y�;\u0013��\u00198\u001c",
      "rT��&��o���Yk�\u0016�'��_�����{���%x'�Z���5�wu\u001c",
      "?h\u0011���\u0019aݷ͏�E�#�\u001b�r����O\u0000k\u001ao��*|1��n���\r",
      "\\ŭ쉔Z3�\u0014im&@āюΣi5�]k8����6�\u001b\\�\u0012r�v�RaE\u0014T\u0016\u0014QE\u0000\u0014QE\u0000\u0014QE\u0000\u0014QE\u0000\u0014QE\u0000\u0014QE\u0000\u0014QE\u0000\u0014QE\u0000\u0014QE\u0000x�ů�9߂\u001f�\u001f�\u0000�$�f�\u0019���\u0000';�C���\u0000�D���\u0000QE\u0014\u0000QE\u0014\u0000QE\u0014\u0000QE\u0014\u0000QE\u0014\u0000W�x�G��?i-.���R��x:�̶:��r..��̉��:�8�\u0006�����\u0000\t�W�\u0017Q]k�\u0019�uk�P�\u0014��1N�䪗R@�8\u0015-{�����JN�k��\u0006��x��~$x�M�[��^\u0010�\u0017�\u000b",
      "���{;�v�\u0016[h')\f",
      "���)u#\r",
      "��i?]\u001f���^$�\u0000�}\u001b�>\u0005�n�l�}F�>�^\"?�{<1�\f",
      "I\f",
      "1�q��DA��t\u0000\u000e��V��Jǋ�V��x��O�5Uo�m��z]���\u0018;��+s�?\u0000�\u0011h\u0012��\u0013����sO�n�vo�\u001f8�\u0007�\u0005zm\u0014�Ceikcl��V��@�\t\u0014(\u0011W�\u0007\u0002���\u0000(��\u0000(��O��\u0000\u0011|\u001b��M\u0017�+���L��\u0016�縜�G\u001a回3�\u000e�P\u0007W\\WĿ�^\n",
      "�{\n",
      "/�ue�|�\u0016�m��ח\u0004�\t\u0012���'\u0003=�\u001a��o���\u000fX��/\n",
      "�8�u\u0018����\u001e",
      "�Ý��wc��\u0004�k���\u0017��\u0005<���e6��O�s�jR�����&F���\u0014\u0000{�8�|j����υ~\u0014��Ě��+|�\u0000�J�+��i��_\u000f`�Gt�\u0017�g�:��yח\u0004�K���y���j�(�\u0002�(�\u0002�(�\u000e3���\u000f\u001e",
      "ط��\u0000�4�|\t�\u0000�!�?�\u0016���&�����D<y�\u0000bޣ�\u0000��Q�'�H���\u0000�[ӿ�:\u0000�袊\u0000(��\u0000(��\u0000(��\u0000(��\u0000(��\u0000(��\u0000(��\u0000(��\u0000(��\u0000(��\u0000(��\u0000(��\u0000(��\u0000+�~\u0012�\u0000���o�\u0000�\u0007��={5x��_�9ߍ�\u0000�\u0000�\u0000�'�\u000ff��(\u0000��(\u0000��(\u0000��(\u0000��(\u0003�~\u0012�\u0000���o�\u0000�\u0007��=z\u0015��l&��u�Se\u0016�o�.��:'�$%�|�1l���Q���~+�\u0016�Ꮚ\u001f\u001e",
      "5-2��{�\u000b",
      "[O~�\t��XvK0� \u0015V8'���]e������^\u001e",
      "\u001d",
      "��k�\u0017��\u0000��\u0002�]V�d�C\u0015h�g}�Ј�\u0014�Ӛ\"�/-\b�����O�I\u001e",
      "�Tc�ty5�4(�[\u0007բ�O%��!�#'\u0001�y�\u0017$\f",
      "�\u0015�\u001f\f",
      "|O�\u001a�ǺM���?�762LD�j\u000e౶a��$�3\u0018�9\u001d",
      "�;�5��o���\u001a5��:�����m��4�}�;\u0016$�\u0000\u000e�\u0000\u0000\u0000UF7�]��&�oG�o����<O��D�\u001c",
      "��:BkN��Nk���\f",
      "g\",�#\u001c",
      "�j�\u0003[6_�<Z\u001b��\u001f�#졶����d~N��Ǔ�\u001c",
      "m�j��g\u0003=jc�SS�o�1��o�7i������\u0002�(�aE\u0014P\u0001E\u0014P\u0001E\u0014P\u0001E\u0014P\u0001E\u0014P\u0001E\u0014P\u0001E\u0014P\u0001E\u0014P\u0001E\u0014P\u0007��Z�\u0000���!�\u0000q�\u0000�\"J�j�_�s�\u0004?�?�\u0000�I^�@\u0005\u0014Q@\u0005\u0014Q@\u0005\u0014Q@\u0005\u0014Q@\u0005\u0014Q@\u0005\u0014Q@\u0005\u0014Q@\u0005\u0014Q@\u0005\u0014V7�<U��\bh�k\u001e",
      "'�l�\u0014�\u0000��2\u0005����7� \u0012}(\u0003f��\u001e",
      "���~\u0004�\u000e���r�K��g�ْR;\"\f",
      "��e\u0006���\u0016'į����'���4)8>*�\u0004%C�����/���� WC�?�^\u0018�ua�O\u0011\\�x��G\u0005��i��B9\u001e",
      "Lg+\u0010\u001d",
      "��=h\u0003��\u0000�����#�x\u0007E>\u0004�̼�A�A��t����l�\f",
      "�\u0010r\b5��8�3�\u000f\u0007j-�ʷ^\"�<�t��'�.���'�ǦќpI�H��\n",
      "(��\n",
      "(��\n",
      "(��\n",
      "(��8ώ��D<y�\u0000bޣ�\u0000��Q�'�H���\u0000�[ӿ�:>;�\u0010����z���IG���\"\u001e",
      "\u0003�\u0000�oN�\u0000�h�\u0003���(\u0000��(\u0000��(\u0000��(\u0000��(\u0000��(\u0000��(\u0000��(\u0000��(\u0000��(\u0000��(\u0000��(\u0000��(\u0000��(\u0000�\u0019�K�\u0000';���\u001f�D����?\t��~7�\u0000�\u0003�\u0000H��=��(�\u0002�(�\u0002�(�\u0002�(�\u0002�(�\u000f\u0014�ekm{�I|t������d�RXe@�\"�'\u0005YO\u0004\u001fC^���/��%�7�7��\u001d",
      "6�\b�P�i�E\u0013Ƅ�UYT\u0010��H\u001c",
      "s^o��Nw���?��٨Z\u0000UO��7�c�c�>��K��7�<��ۼ��ݷw;s��V�\f",
      "�<3�<B�#���K�H�SQk8�ʌc\u0002\\n\u0003\u001c",
      "u�j(��\u0002�(�\u0002�(�\u0002�(�\u0002�(�\u0002�(�\u0002�(�\u0002�(�\u0002�(�\u0002�(�\u0002�(�\u000f\u0019���\u0000';�C���\u0000�D����?\u0016���~\b��\u0000H����\n",
      "(��\n",
      "(��\n",
      "(��\n",
      "(��\n",
      "(��\n",
      "(��\n",
      "(��Ƨ�h�lږ�kae\u0002���U�4\u001e",
      "���(\u0002�gx�]�|7�M������a\b̗\u0017R��{d�'�\u001c",
      "���W\u0018�C�{�t��^\u0016mmU�r��TV���=\t\\��\u0011�v<���ρ�W��>%���\\��_C�4�P�}���|��l�\u0019�4\u0001�/�_\u001b|E���\u000b",
      "�c\u001ai%\u001f�Z�m\r",
      "����\u0011\u001b�>�\u0018\u0004r1Z�\u000f�\u001b���1��Ǻ�ߏ|P9\u0017��\u0006\u000b",
      "s�\u0010[���y\u001d",
      "py\u0018�X�\u0012(�8�Q\u0010\u0005UQ��t\u0000S�\u0000\u0000\u0001����(\u0000��(\u0000��(\u0000��(\u0000��(\u0000��(\u0003����\u0000$Cǟ�-�?�M%\u001f\u0002�x\u000f�Ž;�\u0000I�����\u000f\u001e",
      "ط��\u0000�4�|\t�\u0000�!�?�\u0016���&��;:+����_\u0003x\u001e",
      "\u0013'��S�il\u0006�\f",
      "�\u00033\u000f�b\\�~\u0000מ�\u0000���'��w��v����&��cN���՟�{\u0000\r",
      "\u0000z������{��-\u000e��?�\u0005�0���vo*\tۜg\u0000�W��W_���^�º���ʚ\f",
      "���\u0012;\ba�J�`�#x�I\u000f�\u0000�e�]��3[x�R�'�e����Is`\u0012K�X��\r",
      "��L3��7��H\r",
      "���\u0011�4�O�'�\u001d",
      "K�\u0016\u001a�r${Ȇ� ����崷\u0006ggn�s�\u001c",
      "\u0000*}�v�l��w�ݬ�U�\u0000\r",
      "����\b|B����=�Ƶ��y���V6\u0012h�e\u0012Gb���\u0006�U\u0002F#`ݼ�;�\u0000�}\u000f^E�o���\u001a����<[6��\f",
      "^K{�i-b���۶y��&Q\u001e",
      "��6�l����Ѹ�N��KK'�{��#[����yl\u0014QEIAE\u0014P\u0001E\u0014P\u0001E\u0014P\u0001E\u0014P\u0001E\u0014P\u0001E\u0014P\u0001E\u0014P\u0001E\u0014P\u0001E\u0014P\u0001E\u0014P\u0001^3��Nw���?��٫�~\u0012�\u0000���o�\u0000�\u0007��=\u0000{5\u0014Q@\u0005\u0014Q@\u0005\u0014Q@\u0005\u0014Q@\u0005\u0014Q@\u001e",
      "3��Nw���?��٫�~\u0012�\u0000���o�\u0000�\u0007��={5\u0000\u0014QE\u0000\u0014QE\u0000\u0014QE\u0000\u0014QE\u0000\u0014QE\u0000\u0014QE\u0000\u0014QE\u0000\u0014QE\u0000\u0014QE\u0000\u0014QE\u0000\u0014QE\u0000\u0014QE\u0000x�ů�9߂\u001f�\u001f�\u0000�$�f�\u0019���\u0000';�C���\u0000�D���\u0000QE\u0014\u0000QE\u0014\u0000QE\u0014\u0000QE\u0014\u0000QE\u0014\u0000W��c�V�a�j�>\u001c",
      "�%�7\u001av�&�l4�:\u0019e�@X��\u0012�\u0003\u001a�B\u0010\u0011J�p�g��W5�x\u000f��ޯs��:t�wwe�\u000b",
      "���hEſ?��cuW\u0003scp8��DԞ����o�r��z�~j�\u0000��\u0016��-W�Η�/\u000b",
      "�]�u\r",
      "6��8.�h��ʨ]�\u001c",
      "�P��r\t�3��4�\u0013��R�_���I�k���d:b�\u000e�hމ\u0000ǘGM��u\u0006�c�z6���\n",
      "�D�b�+\u000b",
      "(�6��<�\u0014A�]�31\u0000p2x\u001c",
      "V�mQ�Sn;\u0019A5\u0014��V���v�Z�A\u0015��J\u00128�@��:\u0000\u0007\u0000{T�QPPQE\u0014\u0000QE\u0014\u0000QE\u0014\u0000QE\u0014\u0000QE\u0014\u0000Q\\���%�\u000b",
      "�ѳx��Zf� \u0019�;˾v\u001e",
      "�.\\�\u0002�\u001f�\\�/�_��\u0016�+��H\u001f�յ�4�,}C|���\u000fk�S�_\u0012<\t�h����Zf��n\u0010I6��z�K�o�W��\u0000¶���\u000f��\u001f�It�7��O�a�*\u0001�\u001b�̌;\u0010Eu~\u0005�3������\u001b¶O~\u000e�x\r",
      "��n��I���\u0000��\u0000���\u0000\u0018�\u0018|-�e���\u001ax��\u0000E�D�K�sRQam\u001c",
      "\u0006\u0007�,A�i��!F\t4|(�q�#��\u0000\u000b",
      "|&|I�V�G��h�d��7\u0000����\t�Ir�r�0\u0018\u0001��\u0015��\u001d",
      "��x��ŽG�\u0000I���O��\u000f\u0001�\u0000ط��4t\u0001C��\u0005�\u0019�:aw��Z�mC;���7W,��|�*O�8�B��\u0000(��\u0000(��\u0000(��\u0000(��\u0000(��\u0000(��\u0000(��\u0000(��\u0000(��\u0000(��\u0000(��\u0000(��\u0000(��\u0000+�~\u0012�\u0000���o�\u0000�\u0007��={5x��_�9ߍ�\u0000�\u0000�\u0000�'�\u000ff��(\u0000��(\u0000��(\u0000��(\u0000��(\u0003�~\u0012�\u0000���o�\u0000�\u0007��={5x��_�9ߍ�\u0000�\u0000�\u0000�'�f�\u0002�(�\u0002�(�\u0002�(�\u0002�(�\u0002�(�\u0002�(�\u0002�(�\u0002�(�\u0002�(�\u0002�(�\u0002�(�\u0002�(�\u000f\u0019���\u0000';�C���\u0000�D����?\u0016���~\b��\u0000H����\n",
      "(��\n",
      "(��\n",
      "(��\n",
      "(��\n",
      "(��\n",
      "(��\n",
      "(��\n",
      "(��\n",
      "(��\n",
      "(��\n",
      "+����\u001f��\u0005V\u001e",
      ")�^�a2�����.\u000f�$˟ʸ_�[�9�g��\u0018|)������!a��c������\u000fk�C�\u0013�\u0001�dc�\u0015�t�3�v�}�\u001e",
      "�&\\�\u0002�?�V\u001f\u0014|_��G��ueh�\u0000I�_c�z���#��?\u001a��\u0007�{᷂]g�<)`���7�\n",
      "n.Kwo6L�$�\u0010(\u0003�o�~4�Y�\u0017|)ֵ\b\u001f�j��\u001au�?���yW�`��\u0000³���\u000f��/�[�:�����(��\u0018�Spّ��A\u001f�{]\u0014\u0001��\u0013���_\u0005H�:\u001f�,~�\u000e�}t\r",
      "��n��I�\u0004�\u0000��]�\u0014P\u0001E\u0014P\u0007\u0019���H��?�[��J>\u0004�\u0000�\u0010�\u001f��zw��GG�o�\"\u001e",
      "<�\u0000�oQ�\u0000�i(�\u0013�\u0000$C��-���M\u001d",
      "\u0000vtQE\u0000\u0014QE\u0000\u0014QE\u0000\u0014QE\u0000\u0014QE\u0000\u0014QE\u0000\u0014QE\u0000\u0014QE\u0000\u0014QE\u0000\u0014QE\u0000\u0014QE\u0000\u0014QE\u0000\u0014QE\u0000\u0014QE\u0000\u0015�?\t��~7�\u0000�\u0003�\u0000H����g�/�����\u0000���\u0013�\u0007�QE\u0014\u0000QE\u0014\u0000QE\u0014\u0000QE\u0014\u0000QE\u0014\u0001�?\t��~7�\u0000�\u0003�\u0000H����g�/�����\u0000���\u0013׳P\u0001E\u0014P\u0001E\u0014P\u0001E\u0014P\u0001E\u0014P\u0001E\u0014P\u0001E\u0014P\u0001E\u0014P\u0001E\u0014P\u0001E\u0014P\u0001E\u0014P\u0001E\u0014P\u0001E\u0014P\u0007��Z�\u0000���!�\u0000q�\u0000�\"J�j�_�s�\u0004?�?�\u0000�I^�@\u0005\u0014Q@\u0005\u0014Q@\u0005\u0014Q@\u0005\u0014Q@\u0005\u0014Q@\u0005\u0014Q@\u0005\u0014W���[�F��_W�.���\u0000�:4�\u0002;��Kh����gtM�Ua�&���1-��u}R��&�\u0000@�w�]����Eq\u001e",
      ".��ំ�\u001d",
      "�d���k+k��\n",
      "LP��T(���w67\u0011��ɮ/�\u0016��?\u0017|�\f",
      "�\u0014jF����g\u0016\u0016�ve��$_�H>�MY�I�\\���<{�W�灃/��Y��\\/���<ۃ�\u0000l�/�W\u000f�\u0000\n",
      "��G���\u0015����xZ?�ہ�L�\u0019$S��}k��\u0017�O�>\u0007+/��'��]�?l�\f",
      "�$�>l�q�b\u0005!�g�-�\u001fx��\f",
      "~\u0014j�[����H�O����?�*�\u0000���G�*ω�/��$�W�����xV?�@\u0007u3���}\b�k��\u000e\u0017�\b~\u001c",
      "x!�o\u000fxOO��N~�:��I�|�2�>�\n",
      "�\n",
      "(��\n",
      "(��\n",
      "(��\n",
      "(��8ώ��D<y�\u0000bޣ�\u0000��Q�'�H���\u0000�[ӿ�:>;�\u0010����z���IG���\"\u001e",
      "\u0003�\u0000�oN�\u0000�h�\u0003���(\u0000��(\u0000��(\u0000��(\u0000��(\u0000��(\u0000��(\u0000��(\u0000��(\u0000��(\u0000��(\u0000��(\u0000��(\u0000��(\u0000�\u0019�K�\u0000';���\u001f�D����?\t��~7�\u0000�\u0003�\u0000H��=��(�\u0002�(�\u0002�(�\u0002�(�\u0002�(�\u000f\u0019�K�\u0000';���\u001f�D����?\t��~7�\u0000�\u0003�\u0000H����\n",
      "(��\n",
      "(��\n",
      "(��\n",
      "(��\n",
      "(��\n",
      "(��\n",
      "(��\n",
      "(��\n",
      "(��\n",
      "(��\n",
      "(��\n",
      "(��<g������\u000f���\u0000�\u0012W�W��Z�\u0000���!�\u0000q�\u0000�\"J�j\u0000(��\u0000(��\u0000(��\u0000(��\u0000(��\u0000(��\u0000+��_�</�}R�Vլ&�ѳF�\u000b",
      "�K��'Xے�d.�P�\u0000t�=����\u0001B=\u0017HAa�\u0000\u0012�Wm9<�9$�;��\u0000v3d��\\��\u0006j�\u0014P\u0001E\u0014P\u0001E\u0014P\u0001E\u0014P\u0001E\u0014P\u0001E\u0014P\u0001E\u0014P\u0001E\u0014P\u0007\u0019���H��?�[��J>\u0004�\u0000�\u0010�\u001f��zw��GG�o�\"\u001e",
      "<�\u0000�oQ�\u0000�i(�\u0013�\u0000$C��-���M\u001d",
      "\u0000vtQE\u0000\u0014QE\u0000\u0014QE\u0000\u0014QE\u0000\u0014QE\u0000\u0014QE\u0000\u0014QE\u0000\u0014QE\u0000\u0014QE\u0000\u0014QE\u0000\u0014QE\u0000\u0014QE\u0000\u0014QE\u0000\u0014QE\u0000\u0015�?\t��~7�\u0000�\u0003�\u0000H����g�/�����\u0000���\u0013�\u0007�QE\u0014\u0000QE\u0014\u0000QE\u0014\u0000QE\u0014\u0000QE\u0014\u0001�?\t��~7�\u0000�\u0003�\u0000H����g�/�����\u0000���\u0013׳P\u0001E\u0014P\u0001E\u0014P\u0001E\u0014P\u0001E\u0014P\u0001E\u0014P\u0001E\u0014P\u0001E\u0014P\u0001E\u0014P\u0001E\u0014P\u0001E\u0014P\u0001E\u0014P\u0001E\u0014P\u0007��Z�\u0000���!�\u0000q�\u0000�\"J�j�_�s�\u0004?�?�\u0000�I^�@\u0005\u0014Q@\u0005\u0014Q@\u0005\u0014Q@\u0005\u0014Q@\u0005\u0014Q@\u0005\u0014Q@\u0005\u0014Q@\u0005\u0014Q@\u0005\u0014Q@\u0005\u0014Q@\u0005\u0014Q@\u0005\u0014Q@\u0005\u0014Q@\u0005\u0014Q@\u0005\u0014Q@\u001c",
      "g�o�\"\u001e",
      "<�\u0000�oQ�\u0000�i(�\u0013�\u0000$C��-���M\u001d",
      "\u001f\u001d",
      "��x��ŽG�\u0000I���O��\u000f\u0001�\u0000ط��4t\u0001��E\u0014\u0000QE\u0014\u0000QE\u0014\u0000QE\u0014\u0000QE\u0014\u0000QE\u0014\u0000QE\u0014\u0000QE\u0014\u0000QE\u0014\u0000QE\u0014\u0000QE\u0014\u0000QE\u0014\u0000QE\u0014\u0000QE\u0014\u0000W��%�\u0000�����\u0000p\u000f�\"z�j񟄿�s�\u001b�\u0000�\u0001�\u0000�O@\u001e",
      "�E\u0014P\u0001E\u0014P\u0001E\u0014P\u0001E\u0014P\u0001E\u0014P\u0007��%�\u0000�����\u0000p\u000f�\"z�j񟄿�s�\u001b�\u0000�\u0001�\u0000�O^�@\u0005\u0014Q@\u0005\u0014Q@\u0005\u0014Q@\u0005\u0014Q@\u0005\u0014Q@\u0005\u0014Q@\u0005\u0014Q@\u0005\u0014Q@\u0005\u0014Q@\u0005\u0014Q@\u0005\u0014Q@\u0005\u0014Q@\u001e",
      "3�k�Nw����\u0000�+٫�~-���\u0010�\u0000��\u0000��%{5\u0000\u0014QE\u0000\u0014QE\u0000\u0014QE\u0000\u0014QE\u0000\u0014QE\u0000\u0014QE\u0000\u0014QE\u0000\u0014QE\u0000\u0014QE\u0000\u0014QE\u0000\u0014QE\u0000\u0014QE\u0000\u0014QE\u0000\u0014QE\u0000\u0014QE\u0000q�\u001d",
      "��x��ŽG�\u0000I���O��\u000f\u0001�\u0000ط��4t|v�\u0000�!���\u0016�\u001f�&���?�D<\u0007�\u0000bޝ�\u0000���\u0007gE\u0014P\u0001E\u0014P\u0001E\u0014P\u0001E\u0014P\u0001E\u0014P\u0001E\u0014P\u0001E\u0014P\u0001E\u0014P\u0001E\u0014P\u0001E\u0014P\u0001E\u0014P\u0001E\u0014P\u0001E\u0014P\u0001E\u0014P\u0001^3��Nw���?��٫�~\u0012�\u0000���o�\u0000�\u0007��=\u0000{5\u0014Q@\u0005\u0014Q@\u0005\u0014Q@\u0005\u0014Q@\u0005\u0014Q@\u001e",
      "3��Nw���?��٫�~\u0012�\u0000���o�\u0000�\u0007��={5\u0000\u0014QE\u0000\u0014QE\u0000\u0014QE\u0000\u0014QE\u0000\u0014QE\u0000\u0014QE\u0000\u0014QE\u0000\u0014QE\u0000\u0014QE\u0000\u0014QE\u0000\u0014QE\u0000\u0014QE\u0000x�ů�9߂\u001f�\u001f�\u0000�$�f�\u0019���\u0000';�C���\u0000�D���\u0000QE\u0014\u0000QE\u0014\u0000QE\u0014\u0000QE\u0014\u0000QE\u0014\u0000QE\u0014\u0000QE\u0014\u0000QE\u0014\u0000QE\u0014\u0000QE\u0014\u0000QE\u0014\u0000QE\u0014\u0000QE\u0014\u0000QE\u0014\u0000QE\u0014\u0001�|v�\u0000�!���\u0016�\u001f�&���?�D<\u0007�\u0000bޝ�\u0000������H��?�[��J>\u0004�\u0000�\u0010�\u001f��zw��G@\u001d",
      "�\u0014Q@\u0005\u0014Q@\u0005\u0014Q@\u0005\u0014Q@\u0005\u0014Q@\u0005\u0014Q@\u0005\u0014Q@\u0005\u0014Q@\u0005\u0014Q@\u0005\u0014Q@\u0005\u0014Q@\u0005\u0014Q@\u0005\u0014Q@\u0005\u0014Q@\u0005x��_�9ߍ�\u0000�\u0000�\u0000�'�f�\u0019�K�\u0000';���\u001f�D�\u0001��QE\u0000\u0014QE\u0000\u0014QE\u0000\u0014QE\u0000\u0014QE\u0000x��_�9ߍ�\u0000�\u0000�\u0000�'�f�\u0019�K�\u0000';���\u001f�D���\u0000QE\u0014\u0000QE\u0014\u0000QE\u0014\u0000QE\u0014\u0000QE\u0014\u0000QE\u0014\u0000QE\u0014\u0000QE\u0014\u0000QE\u0014\u0000QE\u0014\u0000QE\u0014\u0000QE\u0014\u0001�?\u0016���~\b��\u0000H����g������\u000f���\u0000�\u0012W�P\u0001E\u0014P\u0001E\u0014P\u0001E\u0014P\u0001E\u0014P\u0001E\u0014P\u0001E\u0014P\u0001E\u0014P\u0001E\u0014P\u0001E\u0014P\u0001E\u0014P\u0001E\u0014P\u0001E\u0014P\u0001E\u0014P\u0001E\u0014P\u0001E\u0014P\u0007\u0019���H��?�[��J>\u0004�\u0000�\u0010�\u001f��zw��GG�o�\"\u001e",
      "<�\u0000�oQ�\u0000�i(�\u0013�\u0000$C��-���M\u001d",
      "\u0000vtQE\u0000\u0014QE\u0000\u0014QE\u0000\u0014QE\u0000\u0014QE\u0000\u0014QE\u0000\u0014QE\u0000\u0014QE\u0000\u0014QE\u0000\u0014QE\u0000\u0014QE\u0000\u0014QE\u0000\u0014QE\u0000\u0014QE\u0000\u0015�?\t��~7�\u0000�\u0003�\u0000H����g�/�����\u0000���\u0013�\u0007�QE\u0014\u0000QE\u0014\u0000QE\u0014\u0000QE\u0014\u0000QE\u0014\u0001�?\t��~7�\u0000�\u0003�\u0000H����g�/�����\u0000���\u0013׳P\u0001E\u0014P\u0001E\u0014P\u0001E\u0014P\u0001E\u0014P\u0001E\u0014P\u0001E\u0014P\u0001E\u0014P\u0001E\u0014P\u0001E\u0014P\u0001E\u0014P\u0001E\u0014P\u0001E\u0014P\u0007��Z�\u0000���!�\u0000q�\u0000�\"J�j�_�s�\u0004?�?�\u0000�I^�@\u0005\u0014Q@\u0005\u0014Q@\u0005\u0014Q@\u0005\u0014Q@\u0005\u0014Q@\u0005\u0014Q@\u0005\u0014Q@\u0005\u0014Q@\u0005\u0014Q@\u0005\u0014Q@\u0005\u0014Q@\u0005\u0014Q@\u0005\u0014Q@\u0005\u0014Q@\u0005\u0014Q@\u001c",
      "g�o�\"\u001e",
      "<�\u0000�oQ�\u0000�i(�\u0013�\u0000$C��-���M\u001d",
      "\u001f\u001d",
      "��x��ŽG�\u0000I���O��\u000f\u0001�\u0000ط��4t\u0001��E\u0014\u0000QE\u0014\u0000QE\u0014\u0000QE\u0014\u0000QE\u0014\u0000QE\u0014\u0000QE\u0014\u0000QE\u0014\u0000QE\u0014\u0000QE\u0014\u0000QE\u0014\u0000QE\u0014\u0000QE\u0014\u0000QE\u0014\u0000W��%�\u0000�����\u0000p\u000f�\"z�j񟄿�s�\u001b�\u0000�\u0001�\u0000�O@\u001e",
      "�E\u0014P\u0001E\u0014P\u0001E\u0014P\u0001E\u0014P\u0001E\u0014P\u0007��%�\u0000�����\u0000p\u000f�\"z�j񟄿�s�\u001b�\u0000�\u0001�\u0000�O^�@\u0005\u0014Q@\u0005\u0014Q@\u0005\u0014Q@\u0005\u0014Q@\u0005\u0014Q@\u0005\u0014Q@\u0005\u0014Q@\u0005\u0014Q@\u0005\u0014Q@\u0005\u0014Q@\u0005\u0014Q@\u0005\u0014Q@\u001e",
      "3�k�Nw����\u0000�+٫�~-���\u0010�\u0000��\u0000��%{5\u0000\u0014QE\u0000\u0014QE\u0000\u0014QE\u0000\u0014QE\u0000\u0014QE\u0000\u0014QE\u0000\u0014QE\u0000\u0014QE\u0000\u0014QE\u0000\u0014QE\u0000\u0014QE\u0000\u0014QE\u0000cx��\u0012��F/?�\n",
      "�����>���������W��7�\u001fŌ�٢�\u0000(��\u0000(��\u0000�>;�\u0010����z���IG���\"\u001e",
      "\u0003�\u0000�oN�\u0000�h����\u0000$Cǟ�-�?�M%\u001f\u0002�x\u000f�Ž;�\u0000I��\u000eΊ(�\u0002�(�\u0002�(�\u0002�(�\u0002�(�\u0002�(�\u0002�(�\u0002�(�\u0002�(�\u0002�(�\u0002�(�\u0002�(�\u0002�(�\u0002�(�\u0002�g�/�����\u0000���\u0013׳W��%�\u0000�����\u0000p\u000f�\"z\u0000�j(��\n",
      "(��\n",
      "(��\n",
      "(��\n",
      "(��<g�/�����\u0000���\u0013׳W��%�\u0000�����\u0000p\u000f�\"z�j\u0000(��\u0000(��\u0000(��\u0000(��\u0000(��\u0000(��\u0000(��\u0000(��\u0000(��\u0000(��\u0000(��\u0000(��\u0000�_�s�\u0004?�?�\u0000�I^�^3�k�Nw����\u0000�+٨\u0000��(\u0000��(\u0000��(\u0000��(\u0000��(\u0000��(\u0000��(\u0000��(\u0000��(\u0000��(\u0000��(\u0000��(\u0000��(\u0000��(\u0000��(\u0003����\u0000$Cǟ�-�?�M%\u001f\u0002�x\u000f�Ž;�\u0000I�����\u000f\u001e",
      "ط��\u0000�4�|\t�\u0000�!�?�\u0016���&��;:(��\n",
      "(��\n",
      "(��\n",
      "(��\n",
      "(��\n",
      "(��\n",
      "(��\n",
      "(��\n",
      "(��\n",
      "(��\n",
      "(��\n",
      "(��\n",
      "(��\n",
      "(��\n",
      "񟄿�s�\u001b�\u0000�\u0001�\u0000�O^�^3��Nw���?��\u0003٨��\u0000(��\u0000(��\u0000(��\u0000(��\u0000񟄿�s�\u001b�\u0000�\u0001�\u0000�O^�^3��Nw���?��٨\u0000��(\u0000��(\u0000��(\u0000��(\u0000��(\u0000��(\u0000��(\u0000��(\u0000��(\u0000��(\u0000��(\u0000��(\u0003�~-���\u0010�\u0000��\u0000��%{5x�ů�9߂\u001f�\u001f�\u0000�$�f�\u0002�(�\u0002�(�\u0002�(�\u0002�(�\u0002�(�\u0002�(�\u0002�(�\u0002�(�\u0002�(�\u0002�(�\u0002�(�\u0002�(�\u0002�(�\u0002�(�\u0002�(�\u000e3���\u000f\u001e",
      "ط��\u0000�4�|\t�\u0000�!�?�\u0016���&�����D<y�\u0000bޣ�\u0000��Q�'�H���\u0000�[ӿ�:\u0000�袊\u0000(��\u0000(��\u0000(��\u0000(��\u0000(��\u0000(��\u0000(��\u0000(��\u0000(��\u0000(��\u0000(��\u0000(��\u0000(��\u0000+�~\u0012�\u0000���o�\u0000�\u0007��={5x��_�9ߍ�\u0000�\u0000�\u0000�'�\u000ff��(\u0000��(\u0000��(\u0000��(\u0000��(\u0003�~\u0012�\u0000���o�\u0000�\u0007��={5x��_�9ߍ�\u0000�\u0000�\u0000�'�f�\u0002�(�\u0002�(�\u0002�(�\u0002�(�\u0002�(�\u0002�(�\u0002�(�\u0002�(�\u0002�(�\u0002�(�\u0002�(�\u0002�(�\u000f\u0019���\u0000';�C���\u0000�D����?\u0016���~\b��\u0000H����\n",
      "(��\n",
      "(��\n",
      "(��\n",
      "(��\n",
      "(��\n",
      "(��\n",
      "(��\n",
      "(��\n",
      "(��\n",
      "(��\n",
      "(��\n",
      "(��\n",
      "(��\n",
      "(��\n",
      "(��8ώ��D<y�\u0000bޣ�\u0000��Q�'�H���\u0000�[ӿ�:>;�\u0010����z���IG���\"\u001e",
      "\u0003�\u0000�oN�\u0000�h�\u0003���(\u0000��(\u0000��(\u0000��(\u0000��(\u0000��(\u0000��(\u0000��(\u0000��(\u0000��(\u0000��(\u0000��(\u0000��(\u0000��(\u0000�\u0019�K�\u0000';���\u001f�D����?\t��~7�\u0000�\u0003�\u0000H��=��(�\u0002�(�\u0002�(�\u0002�(�\u0002�(�\u000f\u0019�K�\u0000';���\u001f�D����?\t��~7�\u0000�\u0003�\u0000H����\n",
      "(��\n",
      "(��\n",
      "(��\n",
      "(��\n",
      "(��\n",
      "(��\n",
      "(��\n",
      "(��\n",
      "(��\n",
      "(��\n",
      "(��\n",
      "(��<g������\u000f���\u0000�\u0012W�W��Z�\u0000���!�\u0000q�\u0000�\"J�j\u0000(��\u0000(��\u0000(��\u0000(��\u0000(��\u0000(��\u0000(��\u0000(��\u0000(��\u0000(��\u0000(��\u0000(��\u0000(��\u0000(��\u0000(��\u0000�>;�\u0010����z���IG���\"\u001e",
      "\u0003�\u0000�oN�\u0000�h����\u0000$Cǟ�-�?�M%\u001f\u0002�x\u000f�Ž;�\u0000I��\u000eΊ(�\u0002�(�\u0002�(�\u0002�(�\u0002�(�\u0002�(�\u0002�(�\u0002�(�\u0002�(�\u0002�(�\u0002�(�\u0002�(�\u0002�(�\u0002�(�\u0002�g�/�����\u0000���\u0013׳W��%�\u0000�����\u0000p\u000f�\"z\u0000�j(��\n",
      "(��\n",
      "(��\n",
      "(��\n",
      "(��<g�/�����\u0000���\u0013׳W��%�\u0000�����\u0000p\u000f�\"z�j\u0000(��\u0000(��\u0000(��\u0000(��\u0000(��\u0000(��\u0000(��\u0000(��\u0000(��\u0000(��\u0000(��\u0000(��\u0000�_�s�\u0004?�?�\u0000�I^�^3�k�Nw����\u0000�+٨\u0000��(\u0000��(\u0000��(\u0000��(\u0000��(\u0000��(\u0000��(\u0000��(\u0000��(\u0000��(\u0000��(\u0000��(\u0000��(\u0000��(\u0000��(\u0003����\u0000$Cǟ�-�?�M%\u001f\u0002�x\u000f�Ž;�\u0000I�����\u000f\u001e",
      "ط��\u0000�4�|\t�\u0000�!�?�\u0016���&��;:(��\n",
      "(��\n",
      "(��\n",
      "(��\n",
      "(��\n",
      "(��\n",
      "(��\n",
      "(��\n",
      "(��\n",
      "(��\n",
      "(��\n",
      "(��\n",
      "(��\n",
      "(��\n",
      "񟄿�s�\u001b�\u0000�\u0001�\u0000�O^�^3��Nw���?��\u0003٨��\u0000(��\u0000(��\u0000(��\u0000(��\u0000񟄿�s�\u001b�\u0000�\u0001�\u0000�O^�^3��Nw���?��٨\u0000��(\u0000��(\u0000��(\u0000��(\u0000��(\u0000��(\u0000��(\u0000��(\u0000��(\u0000��(\u0000��(\u0000��(\u0003�~-���\u0010�\u0000��\u0000��%{5x�ů�9߂\u001f�\u001f�\u0000�$�f�\u0002�(�\u0002�(�\u0002�(�\u0002�(�\u0002�(�\u0002�(�\u0002�(�\u0002�(�\u0002�(�\u0002�(�\u0002�(�\u0002�(�\u0002�(�\u0002�(�\u0002�(�\u000e3���\u000f\u001e",
      "ط��\u0000�4�|\t�\u0000�!�?�\u0016���&�����D<y�\u0000bޣ�\u0000��Q�'�H���\u0000�[ӿ�:\u0000�袊\u0000(��\u0000(��\u0000(��\u0000(��\u0000(��\u0000(��\u0000(��\u0000(��\u0000(��\u0000(��\u0000(��\u0000(��\u0000(��\u0000+�~\u0012�\u0000���o�\u0000�\u0007��={5x��_�9ߍ�\u0000�\u0000�\u0000�'�\u000ff��(\u0000��(\u0000��(\u0000��(\u0000��(\u0003�~\u0012�\u0000���o�\u0000�\u0007��={5x��_�9ߍ�\u0000�\u0000�\u0000�'�f�\u0002�(�\u0002�(�\u0002�(�\u0002�(�\u0002�(�\u0002�(�\u0002�(�\u0002�(�\u0002�(�\u0002�(�\u0002�(�\u0002�(�\u000f\u0019���\u0000';�C���\u0000�D����?\u0016���~\b��\u0000H����\n",
      "(��\n",
      "(��\n",
      "(��\n",
      "(��\n",
      "(��\n",
      "(��\n",
      "(��\n",
      "(��\n",
      "(��\n",
      "(��\n",
      "(��\n",
      "(��\n",
      "(��\n",
      "(��\n",
      "(��8ώ��D<y�\u0000bޣ�\u0000��Q�'�H���\u0000�[ӿ�:>;�\u0010����z���IG���\"\u001e",
      "\u0003�\u0000�oN�\u0000�h�\u0003���(\u0000��(\u0000��(\u0000��(\u0000��(\u0000��(\u0000��(\u0000��(\u0000��(\u0000��(\u0000��(\u0000��(\u0000��(\u0000��(\u0000�\u0019�K�\u0000';���\u001f�D����?\t��~7�\u0000�\u0003�\u0000H��=��(�\u0002�(�\u0002�(�\u0002�(�\u0002�(�\u000f\u0019�K�\u0000';���\u001f�D����?\t��~7�\u0000�\u0003�\u0000H����\n",
      "(��\n",
      "(��\n",
      "(��\n",
      "(��\n",
      "(��\n",
      "(��\n",
      "(��\n",
      "(��\n",
      "(��\n",
      "(��\n",
      "(��\n",
      "(��<g������\u000f���\u0000�\u0012W�W��Z�\u0000���!�\u0000q�\u0000�\"J�j\u0000(��\u0000(��\u0000(��\u0000(��\u0000(��\u0000(��\u0000(��\u0000(��\u0000(��\u0000(��\u0000(��\u0000(��\u0000(��\u0000(��\u0000(��\u0000�>;�\u0010����z���IG���\"\u001e",
      "\u0003�\u0000�oN�\u0000�h����\u0000$Cǟ�-�?�M%\u001f\u0002�x\u000f�Ž;�\u0000I��\u000eΊ(�\u0002�(�\u0002�(�\u0002�(�\u0002�(�\u0002�(�\u0002�(�\u0002�(�\u0002�(�\u0002�(�\u0002�(�\u0002�(�\u0002�(�\u0002�(�\u0002�g�/�����\u0000���\u0013׳W��%�\u0000�����\u0000p\u000f�\"z\u0000�j(��\n",
      "(��\n",
      "(��\n",
      "(��\n",
      "(��<g�/�����\u0000���\u0013׳W��%�\u0000�����\u0000p\u000f�\"z�j\u0000(��\u0000(��\u0000(��\u0000(��\u0000(��\u0000(��\u0000(��\u0000(��\u0000(��\u0000(��\u0000(��\u0000(��\u0000�_�s�\u0004?�?�\u0000�I^�^3�k�Nw����\u0000�+٨\u0000��(\u0000��(\u0000��(\u0000��(\u0000��(\u0000��(\u0000��(\u0000��(\u0000��(\u0000��(\u0000��(\u0000��(\u0000��(\u0000��(\u0000��(\u0003����\u0000$Cǟ�-�?�M%\u001f\u0002�x\u000f�Ž;�\u0000I���3�Iy�{Ɩ�\u0002�O����\u000e��\u000f�Tg˘��\u0005x\u0016X�*�\u001f����!T?��\u0000�\u0000(��\u0000(��\u0000(��\u0000(��\u0000(��\u0000(��\u0000(��\u0000(��\u0000(��\u0000(��\u0000(��\u0000(��\u0000(��\u0000+�~\u0012�\u0000���o�\u0000�\u0007��={5x�����'�f�\u001f0�Ώl\u000f�qZ2��\t\u0014\u0001��QE\u0000\u0014QE\u0000\u0014QE\u0000\u0014QE\u0000\u0014QE\u0000x��_�9ߍ�\u0000�\u0000�\u0000�'�f����\u001a�ÿ�'⎩w���\u0006�a��\u0000d���C�\u001a�&�-6ɗ%G�p8'�`q���~�\u0000�\u0015���\u0000���\u0000m�\u000ff��g�\u0017��Q_���K�\u0000��?�~�\u0000�\u0015���\u0000���\u0000m�\u000ff��g�\u0017��Q_���K�\u0000��?�~�\u0000�\u0015���\u0000���\u0000m�\u000ff��g�\u0017��Q_���K�\u0000��?�~�\u0000�\u0015���\u0000���\u0000m�\u000ff��g�\u0017��Q_���K�\u0000��?�~�\u0000�\u0015���\u0000���\u0000m�\u000ff��g�\u0017��Q_���K�\u0000��?�~�\u0000�\u0015���\u0000���\u0000m�\u000ff��g�\u0017��Q_���K�\u0000��?�~�\u0000�\u0015���\u0000���\u0000m�\u000ff��g�\u0017��Q_���K�\u0000��?�~�\u0000�\u0015���\u0000���\u0000m�\u000ff��g�\u0017��Q_���K�\u0000��?�~�\u0000�\u0015���\u0000���\u0000m�\u000ff��g�\u0017��Q_���K�\u0000��?�~�\u0000�\u0015���\u0000���\u0000m�\u000ff��g�\u0017��Q_���K�\u0000��?�~�\u0000�\u0015���\u0000���\u0000m�\u000ff��g�\u0017��Q_���K�\u0000��?�~�\u0000�\u0015���\u0000���\u0000m�\u000ff��g�\u0017��Q_���K�\u0000��?�~�\u0000�\u0015���\u0000���\u0000m�\u0003������\u000f���\u0000�\u0012W�W�m�W�'�\u0013�T��o�\u0003A�п���u�h�m\u0012���cÂ��!\u001c",
      "��(\u0019�}\u0019@\u0005\u0014Q@\u0005\u0014Q@\u0005\u0014Q@\u0005\u0014Q@\u0005\u0014Q@\u0005\u0014Q@\u0005\u0014Q@\u0005\u0014Q@\u0005\u0014Q@\u0005\u0014Q@\u0005\u0014Q@\u0005\u0014Q@\u0005\u0014Q@\u0005\u0014Q@\u0018����[x�C���\u0000\u000e}�I��G����ԏ�;b\u0003\u0017��/��_�\u001bq�[TQ@\f",
      "��+�$�d\u0012E\"�u=\u0019H�\u0006�W�_�o\f",
      "���cX����[�Z�Hy�ӥr�̾��T�����������\u000b",
      "O\u001b�a�麭χ<[���բ�$@��E<I\u0011�ʟS�A\u0000�\u001a+� ���\u0000\t(���\b�Y\f",
      "|\r",
      "[�7��@�m��\u0006=񁞕/�/�\u0017��� �O\r",
      "o\u001f��9�\u000ff��g�\u0017��Q_���K�\u0000��?�~�\u0000�\u0015���\u0000���\u0000m�\u000ff��g�\u0017��Q_���K�\u0000��?�~�\u0000�\u0015���\u0000���\u0000m�\u000ff��g�\u0017��Q_���K�\u0000��?�~�\u0000�\u0015���\u0000���\u0000m�\u000ff��g�\u0017��Q_���K�\u0000��?�~�\u0000�\u0015���\u0000���\u0000m�\u000ff��g�\u0017��Q_���K�\u0000��?�~�\u0000�\u0015���\u0000���\u0000m�\u000ff��g�\u0017��Q_���K�\u0000��?�~�\u0000�\u0015���\u0000���\u0000m�\u000ff��g�\u0017��Q_���K�\u0000��?�~�\u0000�\u0015���\u0000���\u0000m�\u000ff��g�\u0017��Q_���K�\u0000��?�~�\u0000�\u0015���\u0000���\u0000m�\u000ff��g�\u0017��Q_���K�\u0000��?�~�\u0000�\u0015���\u0000���\u0000m�\u000ff��g�\u0017��Q_���K�\u0000��?�~�\u0000�\u0015���\u0000���\u0000m�\u000ff��g�\u0017��Q_���K�\u0000��?�~�\u0000�\u0015���\u0000���\u0000m�\u000ff��g�\u0017��Q_���K�\u0000��?�~�\u0000�\u0015���\u0000���\u0000m�\u000ff��g�\u0017��Q_���K�\u0000��k�c�<�\n",
      "|\t�ӷ\n",
      "u�+L�{�r�P\u0007�x�ĺG��)���]�[}?O��+\u0013��E_Vc�\u0007r@�?��4=R��\u0017�(�\u0005��ּ_�Ϯ�D�aY���\u0004\n",
      "q�q\u0015���1���/\u0011|i�4��,e\u0013�x[K\r",
      "�\u0018�\u001fu�f�g\u001e",
      "����\t\u0015�t\u0000QE\u0014\u0000QE\u0014\u0000QE\u0014\u0000QE\u0014\u0000QE\u0014\u0000QE\u0014\u0000QE\u0014\u0000QE\u0014\u0000QE\u0014\u0000QE\u0014\u0000QE\u0014\u0000QE\u0014\u0000QE\u0014\u0000QE\u0014\u0000QE\u0014\u0000QE\u0014\u0000QE\u0014\u0000QE\u0014\u0000QE\u0014\u0000QE\u0014\u0000QE\u0014\u0000QE\u0014\u0000QE\u0014\u0000QE\u0014\u0000QE\u0014\u0000QE\u0014\u0000QE\u0014\u0000QE\u0014\u0000QE\u0014\u0000QE\u0014\u0000QE\u0014\u0000QE\u0014\u0000QE\u0014\u0000QE\u0014\u0000QE\u0014\u0000QE\u0014\u0000QE\u0014\u0000QE\u0014\u0000QE\u0014\u0000QE\u0014\u0000QE\u0014\u0000QE\u0014\u0000QE\u0014\u0000QE\u0014\u0000QE\u0014\u0000QE\u0014\u0000QE\u0014\u0000QE\u0014\u0000QE\u0014\u0000QE\u0014\u0000QE\u0014\u0000QE\u0014\u0000QE\u0014\u0000QE\u0014\u0000QE\u0014\u0000QE\u0014\u0000QE\u0014\u0000QE\u0014\u0000QE\u0014\u0000QE\u0014\u0000QE\u0014\u0000QE\u0014\u0000QE\u0014\u0000QE\u0014\u0000QE\u0014\u0000QE\u0014\u0000QE\u0014\u0000QE\u0014\u0000QE\u0014\u0000QE\u0014\u0000QE\u0014\u0000QE\u0014\u0000QE\u0014\u0000QE\u0014\u0000QE\u0014\u0000QE\u0014\u0000QE\u0014\u0000QE\u0014\u0000QE\u0014\u0000QE\u0014\u0000QE\u0014\u0000QE\u0014\u0000QE\u0014\u0000QE\u0014\u0000QE\u0014\u0000QE\u0014\u0000QE\u0014\u0000QE\u0014\u0000QE\u0014\u0000QE\u0014\u0000QE\u0014\u0000QE\u0014\u0000QE\u0014\u0000QE\u0014\u0000QE\u0014\u0000QE\u0014\u0000QE\u0014\u0000QE\u0014\u0000QE\u0014\u0000QE\u0014\u0000QE\u0014\u0000QE\u0014\u0000QE\u0014\u0000QE\u0014\u0000QE\u0014\u0000QE\u0014\u0000QE\u0014\u0000QE\u0014\u0000QE\u0014\u0000QE\u0014\u0000QE\u0014\u0000QE\u0014\u0000QE\u0014\u0000QE\u0014\u0000QE\u0014\u0000QE\u0014\u0000QE\u0014\u0000QE\u0014\u0000QE\u0014\u0000QE\u0014\u0000QE\u0014\u0000QE\u0014\u0000QE\u0014\u0000QE\u0014\u0000QE\u0014\u0000QE\u0014\u0000QE\u0014\u0000QE\u0014\u0000QE\u0014\u0000QE\u0014\u0000QE\u0014\u0000QE\u0014\u0000QE\u0014\u0000QE\u0014\u0000QE\u0014\u0000QE\u0014\u0000QE\u0014\u0000QE\u0014\u0000QE\u0014\u0000QE\u0014\u0000QE\u0014\u0000QE\u0014\u0000QE\u0014\u0000QE\u0014\u0000QE\u0014\u0000QE\u0014\u0000QE\u0014\u0000QE\u0014\u0000QE\u0014\u0000QE\u0014\u0000QE\u0014\u0000QE\u0014\u0000QE\u0014\u0000QE\u0014\u0000QE\u0014\u0000QE\u0014\u0000QE\u0014\u0000QE\u0014\u0000QE\u0014\u0000QE\u0014\u0000QE\u0014\u0000QE\u0014\u0000QE\u0014\u0000QE\u0014\u0000QE\u0014\u0000QE\u0014\u0000QE\u0014\u0000QE\u0014\u0000QE\u0014\u0000QE\u0014\u0000QE\u0014\u0000QE\u0014\u0000QE\u0014\u0000QE\u0014\u0000QE\u0014\u0000QE\u0014\u0000QE\u0014\u0000QE\u0014\u0000QE\u0014\u0000QE\u0014\u0000QE\u0014\u0000QE\u0014\u0000QE\u0014\u0000QE\u0014\u0000QE\u0014\u0000QE\u0014\u0000QE\u0014\u0000QE\u0014\u0000QE\u0014\u0000QE\u0014\u0000QE\u0014\u0000QE\u0014\u0000QE\u0014\u0000QE\u0014\u0000QE\u0014\u0000QE\u0014\u0000QE\u0014\u0000QE\u0014\u0000QE\u0014\u0000QE\u0014\u0000QE\u0014\u0000QE\u0014\u0000QE\u0014\u0000QE\u0014\u0000QE\u0014\u0000QE\u0014\u0000QE\u0014\u0000QE\u0014\u0000QE\u0014\u0000QE\u0014\u0000QE\u0014\u0000QE\u0014\u0000QE\u0014\u0000QE\u0014\u0000QE\u0014\u0000QE\u0014\u0000QE\u0014\u0000QE\u0014\u0000QE\u0014\u0000QE\u0014\u0000QE\u0014\u0000QE\u0014\u0000QE\u0014\u0000QE\u0014\u0000QE\u0014\u0000QE\u0014\u0000QE\u0014\u0000QE\u0014\u0000QE\u0014\u0000QE\u0014\u0000QE\u0014\u0000QE\u0014\u0000QE\u0014\u0000QE\u0014\u0000QE\u0014\u0000QE\u0014\u0000QE\u0014\u0000QE\u0014\u0000QE\u0014\u0000QE\u0014\u0000QE\u0014\u0000QE\u0014\u0000QE\u0014\u0000QE\u0014\u0000QE\u0014\u0000QE\u0014\u0000QE\u0014\u0000QE\u0014\u0000QE\u0014\u0000QE\u0014\u0000QE\u0014\u0000QE\u0014\u0000QE\u0014\u0000QE\u0014\u0000QE\u0014\u0000QE\u0014\u0000QE\u0014\u0000QE\u0014\u0000QE\u0014\u0000QE\u0014\u0000QE\u0014\u0000QE\u0014\u0000QE\u0014\u0000QE\u0014\u0000QE\u0014\u0000QE\u0014\u0000QE\u0014\u0000QE\u0014\u0000QE\u0014\u0000QE\u0014\u0000QE\u0014\u0000QE\u0014\u0000QE\u0014\u0000QE\u0014\u0000QE\u0014\u0000QE\u0014\u0000QE\u0014\u0000QE\u0014\u0000QE\u0014\u0000QE\u0014\u0000QE\u0014\u0000QE\u0014\u0000QE\u0014\u0000QE\u0014\u0000QE\u0014\u0000QE\u0014\u0000QE\u0014\u0000QE\u0014\u0000QE\u0014\u0000QE\u0014\u0000QE\u0014\u0000QE\u0014\u0000QE\u0014\u0000QE\u0014\u0000QE\u0014\u0000QE\u0014\u0000QE\u0014\u0000QE\u0014\u0000QE\u0014\u0000QE\u0014\u0000QE\u0014\u0000QE\u0014\u0000QE\u0014\u0000QE\u0014\u0000QE\u0014\u0000QE\u0014\u0000QE\u0014\u0000QE\u0014\u0000QE\u0014\u0000QE\u0014\u0000QE\u0014\u0000QE\u0014\u0000QE\u0014\u0000QE\u0014\u0000QE\u0014\u0000QE\u0014\u0000QE\u0014\u0000QE\u0014\u0000QE\u0014\u0000QE\u0014\u0000QE\u0014\u0000QE\u0014\u0000QE\u0014\u0000QE\u0014\u0000QE\u0014\u0000QE\u0014\u0000QE\u0014\u0000QE\u0014\u0000QE\u0014\u0000QE\u0014\u0000QE\u0014\u0000QE\u0014\u0000QE\u0014\u0000QE\u0014\u0000QE\u0014\u0000QE\u0014\u0000QE\u0014\u0000QE\u0014\u0000QE\u0014\u0000QE\u0014\u0000QE\u0014\u0000QE\u0014\u0000QE\u0014\u0000QE\u0014\u0000QE\u0014\u0000QE\u0014\u0000QE\u0014\u0000QE\u0014\u0000QE\u0014\u0000QE\u0014\u0000QE\u0014\u0000QE\u0014\u0000QE\u0014\u0000QE\u0014\u0000QE\u0014\u0000QE\u0014\u0000QE\u0014\u0000QE\u0014\u0000QE\u0014\u0000QE\u0014\u0000QE\u0014\u0000QE\u0014\u0000QE\u0014\u0000QE\u0014\u0000QE\u0014\u0000QE\u0014\u0000QE\u0014\u0000QE\u0014\u0000QE\u0014\u0000QE\u0014\u0000QE\u0014\u0000QE\u0014\u0000QE\u0014\u0000QE\u0014\u0000QE\u0014\u0000QE\u0014\u0000QE\u0014\u0000QE\u0014\u0000QE\u0014\u0000QE\u0014\u0000QE\u0014\u0000QE\u0014\u0000QE\u0014\u0000QE\u0014\u0000QE\u0014\u0000QE\u0014\u0000QE\u0014\u0000QE\u0014\u0000QE\u0014\u0000QE\u0014\u0000QE\u0014\u0000QE\u0014\u0000QE\u0014\u0000QE\u0014\u0000QE\u0014\u0000QE\u0014\u0000QE\u0014\u0000QE\u0014\u0000QE\u0014\u0000QE\u0014\u0000QE\u0014\u0000QE\u0014\u0000QE\u0014\u0001��\n"
     ]
    }
   ],
   "source": [
    "print data"
   ]
  },
  {
   "cell_type": "code",
   "execution_count": 44,
   "metadata": {
    "collapsed": false
   },
   "outputs": [
    {
     "ename": "TypeError",
     "evalue": "expected a string or other character buffer object",
     "output_type": "error",
     "traceback": [
      "\u001b[0;31m---------------------------------------------------------------------------\u001b[0m",
      "\u001b[0;31mTypeError\u001b[0m                                 Traceback (most recent call last)",
      "\u001b[0;32m<ipython-input-44-c796854bae3e>\u001b[0m in \u001b[0;36m<module>\u001b[0;34m()\u001b[0m\n\u001b[1;32m      1\u001b[0m \u001b[0mf\u001b[0m\u001b[0;34m=\u001b[0m\u001b[0mopen\u001b[0m\u001b[0;34m(\u001b[0m\u001b[0;34m\"f1.txt\"\u001b[0m\u001b[0;34m,\u001b[0m\u001b[0;34m'w'\u001b[0m\u001b[0;34m)\u001b[0m\u001b[0;34m\u001b[0m\u001b[0m\n\u001b[0;32m----> 2\u001b[0;31m \u001b[0mf\u001b[0m\u001b[0;34m.\u001b[0m\u001b[0mwrite\u001b[0m\u001b[0;34m(\u001b[0m\u001b[0;36m1234556789\u001b[0m\u001b[0;34m)\u001b[0m\u001b[0;34m\u001b[0m\u001b[0m\n\u001b[0m\u001b[1;32m      3\u001b[0m \u001b[0mf\u001b[0m\u001b[0;34m.\u001b[0m\u001b[0mclose\u001b[0m\u001b[0;34m(\u001b[0m\u001b[0;34m)\u001b[0m\u001b[0;34m\u001b[0m\u001b[0m\n",
      "\u001b[0;31mTypeError\u001b[0m: expected a string or other character buffer object"
     ]
    }
   ],
   "source": [
    "f=open(\"f1.txt\",'w')\n",
    "f.write(1234556789)\n",
    "f.close()"
   ]
  },
  {
   "cell_type": "code",
   "execution_count": 46,
   "metadata": {
    "collapsed": false
   },
   "outputs": [],
   "source": [
    "l=[{'id':1,'name':\"name1\"},{\"id\":2,'name':\"name2\"}]\n",
    "f = open('persons.txt','w')\n",
    "f.write(str(l))\n",
    "f.close()"
   ]
  },
  {
   "cell_type": "code",
   "execution_count": 47,
   "metadata": {
    "collapsed": false
   },
   "outputs": [
    {
     "name": "stdout",
     "output_type": "stream",
     "text": [
      "[{'id': 1, 'name': 'name1'}, {'id': 2, 'name': 'name2'}]\n",
      "<type 'str'>\n"
     ]
    }
   ],
   "source": [
    "f=open('persons.txt')\n",
    "data = f.read()\n",
    "print data\n",
    "print type(data)"
   ]
  },
  {
   "cell_type": "code",
   "execution_count": 48,
   "metadata": {
    "collapsed": false
   },
   "outputs": [
    {
     "name": "stdout",
     "output_type": "stream",
     "text": [
      "[\n",
      "{\n",
      "'\n",
      "i\n",
      "d\n",
      "'\n",
      ":\n",
      " \n",
      "1\n",
      ",\n",
      " \n",
      "'\n",
      "n\n",
      "a\n",
      "m\n",
      "e\n",
      "'\n",
      ":\n",
      " \n",
      "'\n",
      "n\n",
      "a\n",
      "m\n",
      "e\n",
      "1\n",
      "'\n",
      "}\n",
      ",\n",
      " \n",
      "{\n",
      "'\n",
      "i\n",
      "d\n",
      "'\n",
      ":\n",
      " \n",
      "2\n",
      ",\n",
      " \n",
      "'\n",
      "n\n",
      "a\n",
      "m\n",
      "e\n",
      "'\n",
      ":\n",
      " \n",
      "'\n",
      "n\n",
      "a\n",
      "m\n",
      "e\n",
      "2\n",
      "'\n",
      "}\n",
      "]\n"
     ]
    }
   ],
   "source": [
    "for i in data:\n",
    "    print i"
   ]
  },
  {
   "cell_type": "code",
   "execution_count": null,
   "metadata": {
    "collapsed": true
   },
   "outputs": [],
   "source": []
  }
 ],
 "metadata": {
  "kernelspec": {
   "display_name": "Python 2",
   "language": "python",
   "name": "python2"
  },
  "language_info": {
   "codemirror_mode": {
    "name": "ipython",
    "version": 2
   },
   "file_extension": ".py",
   "mimetype": "text/x-python",
   "name": "python",
   "nbconvert_exporter": "python",
   "pygments_lexer": "ipython2",
   "version": "2.7.13"
  }
 },
 "nbformat": 4,
 "nbformat_minor": 2
}
