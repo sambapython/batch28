{
 "cells": [
  {
   "cell_type": "code",
   "execution_count": 1,
   "metadata": {
    "collapsed": true
   },
   "outputs": [],
   "source": [
    "from subprocess import check_output"
   ]
  },
  {
   "cell_type": "code",
   "execution_count": 2,
   "metadata": {
    "collapsed": false
   },
   "outputs": [
    {
     "data": {
      "text/plain": [
       "'total 640\\n-rw-rw-r-- 1 tcloudost tcloudost     60 May 20 11:59 a.py\\n-rw-rw-r-- 1 tcloudost tcloudost      0 May  7 12:31 a.py~\\n-rw-rw-r-- 1 tcloudost tcloudost    197 May  7 11:23 a.pyc\\n-rw-rw-r-- 1 tcloudost tcloudost  72010 May 20 12:57 boolean expressions.ipynb\\n-rw-rw-r-- 1 tcloudost tcloudost    409 May 20 12:30 b.py\\n-rw-rw-r-- 1 tcloudost tcloudost      0 May  7 12:32 b.py~\\n-rw-rw-r-- 1 tcloudost tcloudost  20532 Jun  3 11:08 closure and decorator.ipynb\\n-rw-rw-r-- 1 tcloudost tcloudost     35 May  7 12:39 c.py\\n-rw-rw-r-- 1 tcloudost tcloudost   7902 Jun  3 12:53 database.ipynb\\n-rw-rw-r-- 1 tcloudost tcloudost     35 Jun  3 11:52 data.csv\\n-rw-rw-r-- 1 tcloudost tcloudost  64476 May 27 12:59 datastructures.ipynb\\n-rw-rw-r-- 1 tcloudost tcloudost    111 May  6 11:57 data.txt\\n-rw-rw-r-- 1 tcloudost tcloudost  50950 May 14 12:08 datatypes.ipynb\\n-rw-r--r-- 1 tcloudost tcloudost   8192 Jun  3 12:51 db1.db\\n-rw-rw-r-- 1 tcloudost tcloudost     66 May 29 07:52 exp1.py\\n-rw-rw-r-- 1 tcloudost tcloudost      0 Jun  3 12:06 f1.txt\\n-rw-rw-r-- 1 tcloudost tcloudost    152 May  7 11:35 features\\n-rw-rw-r-- 1 tcloudost tcloudost 112379 Jun  3 12:12 files.ipynb\\n-rw-rw-r-- 1 tcloudost tcloudost   6501 May 28 12:09 functions2.ipynb\\n-rw-rw-r-- 1 tcloudost tcloudost  15196 May 27 11:17 functions intro.ipynb\\n-rw-rw-r-- 1 tcloudost tcloudost     34 May  9 08:08 installation.txt\\n-rw-rw-r-- 1 tcloudost tcloudost  64882 May 28 12:00 lists.ipynb\\n-rw-rw-r-- 1 tcloudost tcloudost    118 May 20 13:04 mails.txt\\n-rw-rw-r-- 1 tcloudost tcloudost     99 May 20 13:00 mails.txt~\\n-rw-rw-r-- 1 tcloudost tcloudost  20513 Jun  1 07:24 mem1.jpg\\n-rw-rw-r-- 1 tcloudost tcloudost  20513 Jun  3 12:01 mem2.jpg\\n-rw-rw-r-- 1 tcloudost tcloudost   6182 May 20 13:08 mem.ipynb\\ndrwxrwxr-x 2 tcloudost tcloudost   4096 Jun  4 10:52 modules\\n-rw-rw-r-- 1 tcloudost tcloudost     56 Jun  3 12:07 persons.txt\\n-rw-rw-r-- 1 tcloudost tcloudost     36 May  6 12:02 phone_numbers.txt\\n-rw-rw-r-- 1 tcloudost tcloudost   1910 Jun  4 11:25 postgres.ipynb\\n-rw-rw-r-- 1 tcloudost tcloudost    922 May  7 12:44 practice.ipynb\\n-rw-rw-r-- 1 tcloudost tcloudost    800 Jun  4 11:29 regular expressions.ipynb\\n-rw-rw-r-- 1 tcloudost tcloudost   2004 May 28 10:29 string functions.ipynb\\n-rw-rw-r-- 1 tcloudost tcloudost  28786 May 20 11:02 strings.ipynb\\n-rw-rw-r-- 1 tcloudost tcloudost   7170 May  6 12:04 Untitled1.ipynb\\n-rw-rw-r-- 1 tcloudost tcloudost  25128 May 28 12:41 Untitled2.ipynb\\n-rw-rw-r-- 1 tcloudost tcloudost  14607 May  6 11:55 Untitled.ipynb\\n'"
      ]
     },
     "execution_count": 2,
     "metadata": {},
     "output_type": "execute_result"
    }
   ],
   "source": [
    "check_output(['ls','-l'])"
   ]
  },
  {
   "cell_type": "code",
   "execution_count": 4,
   "metadata": {
    "collapsed": false
   },
   "outputs": [
    {
     "data": {
      "text/plain": [
       "'total 384\\ndrwxrwxr-x 18 tcloudost tcloudost  4096 Apr  1 09:46 anaconda2\\ndrwxrwxr-x  2 tcloudost tcloudost  4096 May  6 11:24 app\\ndrwxrwxr-x  3 tcloudost tcloudost  4096 Jun  3 09:16 app1\\ndrwxrwxr-x  3 tcloudost tcloudost  4096 Jun 25  2016 app1_name\\ndrwxrwxr-x  3 tcloudost tcloudost  4096 Jun  3 09:09 app2\\ndrwxrwxr-x  3 tcloudost tcloudost  4096 Jun  3 09:23 app3\\ndrwxrwxr-x  2 tcloudost tcloudost  4096 Jun 25  2016 app_name\\n-rw-rw-r--  1 tcloudost tcloudost     5 May  6 11:21 app.py\\n-rw-rw-r--  1 tcloudost tcloudost    20 Mar  9 08:13 a.py\\n-rw-rw-r--  1 tcloudost tcloudost    74 May 22  2016 a.py~\\ndrwxrwxr-x  2 tcloudost tcloudost  4096 May 23  2016 batch\\ndrwxr-xr-x  2 root      root       4096 Oct 15  2016 cgi-bin\\n-rw-rw-r--  1 tcloudost tcloudost  1234 Oct 15  2016 cgi-bin.zip\\n-rw-rw-r--  1 tcloudost tcloudost     0 Apr 16 20:31 content.txt\\n-rw-rw-r--  1 tcloudost tcloudost   652 May 20  2016 course content.text\\n-rw-rw-r--  1 tcloudost tcloudost   652 May 20  2016 course content.text~\\n-rw-rw-r--  1 tcloudost tcloudost    98 May  6 11:54 data.txt\\ndrwxr-xr-x  2 tcloudost tcloudost  4096 May 13 08:08 Desktop\\ndrwxrwxr-x  2 tcloudost tcloudost  4096 Dec 31 09:32 dir1\\ndrwxr-xr-x  5 tcloudost tcloudost  4096 May  9 08:30 Documents\\ndrwxr-xr-x  7 tcloudost tcloudost  4096 Jun  3 09:43 Downloads\\n-rw-r--r--  1 tcloudost tcloudost  8980 Mar 10  2016 examples.desktop\\n-rw-rw-r--  1 tcloudost tcloudost    87 Jul 31  2016 file1.py\\n-rw-rw-r--  1 tcloudost tcloudost   172 Jul 31  2016 file1.pyc\\n-rw-rw-r--  1 tcloudost tcloudost  2302 Jun  3 09:00 file3.py\\n-rw-rw-r--  1 tcloudost tcloudost  2302 Jun  3 09:01 file4.py\\n-rw-rw-r--  1 tcloudost tcloudost    20 Jul  1  2016 first.py\\n-rw-rw-r--  1 tcloudost tcloudost     0 Jul  1  2016 first.py~\\ndrwxrwxr-x  2 tcloudost tcloudost  4096 Jul  9  2016 hom_custom\\n-rw-rw-r--  1 tcloudost tcloudost     0 May 22 08:55 installation.txt\\n-rw-rw-r--  1 tcloudost tcloudost   668 Nov 27  2016 Lab07.py\\n-rw-rw-r--  1 tcloudost tcloudost 43291 Nov 13  2016 m1.jpg\\n-rw-rw-r--  1 tcloudost tcloudost 11033 Mar  9 08:11 memory organization in python.ipynb\\ndrwxrwxr-x  2 tcloudost tcloudost  4096 Jun  4 11:03 mod12\\n-rw-rw-r--  1 tcloudost tcloudost   826 Mar 10 07:43 module1.ipynb\\ndrwxr-xr-x  2 tcloudost tcloudost  4096 Mar 10  2016 Music\\ndrwxrwxr-x  2 tcloudost tcloudost  4096 Oct  4  2016 mydear\\n-rw-rw-r--  1 tcloudost tcloudost  1561 Jun 16  2016 nginx_signing.key\\n-rw-rw-r--  1 tcloudost tcloudost   787 Mar 12 11:47 ownjson.py\\ndrwxrwxr-x  2 tcloudost tcloudost  4096 Nov 26  2016 paramiko123\\ndrwxrwxr-x  2 tcloudost tcloudost  4096 Nov 26  2016 path1\\n-rw-rw-r--  1 tcloudost tcloudost  2302 Jun  3 09:00 personsinfo.csv\\n-rw-rw-r--  1 tcloudost tcloudost   111 Nov 17  2016 personsinfo.csv~\\n-rw-rw-r--  1 tcloudost tcloudost  1046 May 20 08:02 pgadmin.log\\ndrwxr-xr-x  2 tcloudost tcloudost  4096 Aug 14  2016 Pictures\\ndrwxr-xr-x  2 tcloudost tcloudost  4096 Mar 10  2016 Public\\n-rw-rw-r--  1 tcloudost tcloudost 20247 Jul 30  2016 python2.ipynb\\ndrwxrwxr-x 15 tcloudost tcloudost  4096 Jun  2 09:15 pythonexamples\\n-rw-rw-r--  1 tcloudost tcloudost  3231 Jul  2  2016 python_modules\\ndrwxrwxr-x  2 tcloudost tcloudost  4096 Apr 13  2016 python_softwares\\n-rw-rw-r--  1 tcloudost tcloudost   261 Apr  5  2016 qw.html~\\n-rw-rw-r--  1 tcloudost tcloudost  1469 Aug 31  2016 spyder_crash.log\\ndrwxrwxr-x  2 tcloudost tcloudost  4096 Jan 27 08:21 ssh_folder1\\ndrwxr-xr-x  2 tcloudost tcloudost  4096 Mar 10  2016 Templates\\n-rw-rw-r--  1 tcloudost tcloudost  5937 Feb 11 11:12 Untitled10.ipynb\\n-rw-rw-r--  1 tcloudost tcloudost  8582 Feb 28 08:17 Untitled11.ipynb\\n-rw-rw-r--  1 tcloudost tcloudost  7866 Mar  8 07:33 Untitled12.ipynb\\n-rw-rw-r--  1 tcloudost tcloudost    72 Mar 10 07:20 Untitled13.ipynb\\n-rw-rw-r--  1 tcloudost tcloudost  5981 Mar 26 10:54 Untitled14.ipynb\\n-rw-rw-r--  1 tcloudost tcloudost  2103 Aug 11  2016 Untitled1.ipynb\\n-rw-rw-r--  1 tcloudost tcloudost   959 Aug 16  2016 Untitled2.ipynb\\n-rw-rw-r--  1 tcloudost tcloudost  2796 Sep 14  2016 Untitled3.ipynb\\n-rw-rw-r--  1 tcloudost tcloudost 15568 Sep 18  2016 Untitled4.ipynb\\n-rw-rw-r--  1 tcloudost tcloudost    72 Oct 18  2016 Untitled5.ipynb\\n-rw-rw-r--  1 tcloudost tcloudost  3809 Nov  5  2016 Untitled6.ipynb\\n-rw-rw-r--  1 tcloudost tcloudost  5171 Nov  5  2016 Untitled7.ipynb\\n-rw-rw-r--  1 tcloudost tcloudost  1891 Nov 27  2016 Untitled8.ipynb\\n-rw-rw-r--  1 tcloudost tcloudost  6342 Dec 30 08:52 Untitled9.ipynb\\n-rw-rw-r--  1 tcloudost tcloudost   398 Aug 16  2016 Untitled Document 1\\n-rw-rw-r--  1 tcloudost tcloudost   582 May 24  2016 Untitled.ipynb\\ndrwxr-xr-x  2 tcloudost tcloudost  4096 Mar 10  2016 Videos\\n'"
      ]
     },
     "execution_count": 4,
     "metadata": {},
     "output_type": "execute_result"
    }
   ],
   "source": [
    "check_output(['ls','-l','/home/tcloudost'])"
   ]
  },
  {
   "cell_type": "code",
   "execution_count": 5,
   "metadata": {
    "collapsed": true
   },
   "outputs": [],
   "source": [
    "totalfiles = check_output(['ls','-l','/home/tcloudost'])"
   ]
  },
  {
   "cell_type": "code",
   "execution_count": 6,
   "metadata": {
    "collapsed": false
   },
   "outputs": [
    {
     "data": {
      "text/plain": [
       "True"
      ]
     },
     "execution_count": 6,
     "metadata": {},
     "output_type": "execute_result"
    }
   ],
   "source": [
    "\"mod12\" in totalfiles"
   ]
  },
  {
   "cell_type": "code",
   "execution_count": 7,
   "metadata": {
    "collapsed": true
   },
   "outputs": [],
   "source": [
    "# [], {}, $ ^ . * + ?"
   ]
  },
  {
   "cell_type": "code",
   "execution_count": 8,
   "metadata": {
    "collapsed": true
   },
   "outputs": [],
   "source": [
    "import re"
   ]
  },
  {
   "cell_type": "code",
   "execution_count": 9,
   "metadata": {
    "collapsed": false
   },
   "outputs": [
    {
     "data": {
      "text/plain": [
       "['a', 'a', 'a', 'c', 'a', 'a', 'a', 'c', 'c', 'a']"
      ]
     },
     "execution_count": 9,
     "metadata": {},
     "output_type": "execute_result"
    }
   ],
   "source": [
    "data = open('udata.txt').read()\n",
    "re.findall('[abc]',data)"
   ]
  },
  {
   "cell_type": "code",
   "execution_count": 10,
   "metadata": {
    "collapsed": false
   },
   "outputs": [
    {
     "data": {
      "text/plain": [
       "['a',\n",
       " 'e',\n",
       " 'e',\n",
       " 'a',\n",
       " 'a',\n",
       " 'c',\n",
       " 'a',\n",
       " 'e',\n",
       " 'e',\n",
       " 'a',\n",
       " 'a',\n",
       " 'c',\n",
       " 'e',\n",
       " 'c',\n",
       " 'a',\n",
       " 'e']"
      ]
     },
     "execution_count": 10,
     "metadata": {},
     "output_type": "execute_result"
    }
   ],
   "source": [
    "data = open('udata.txt').read()\n",
    "re.findall('[abce]',data)"
   ]
  },
  {
   "cell_type": "code",
   "execution_count": 11,
   "metadata": {
    "collapsed": false
   },
   "outputs": [
    {
     "data": {
      "text/plain": [
       "'1,name1,email1@gmail.com,9876567897\\nname2,email2@yahoo.co.in,9876567898,2\\nEMAIL3@rediff.com,9876567899,3,name3'"
      ]
     },
     "execution_count": 11,
     "metadata": {},
     "output_type": "execute_result"
    }
   ],
   "source": [
    "data"
   ]
  },
  {
   "cell_type": "code",
   "execution_count": 12,
   "metadata": {
    "collapsed": false
   },
   "outputs": [
    {
     "data": {
      "text/plain": [
       "['a',\n",
       " 'e',\n",
       " 'e',\n",
       " 'a',\n",
       " 'a',\n",
       " 'c',\n",
       " 'a',\n",
       " 'e',\n",
       " 'e',\n",
       " 'a',\n",
       " 'a',\n",
       " 'c',\n",
       " 'E',\n",
       " 'A',\n",
       " 'e',\n",
       " 'c',\n",
       " 'a',\n",
       " 'e']"
      ]
     },
     "execution_count": 12,
     "metadata": {},
     "output_type": "execute_result"
    }
   ],
   "source": [
    "data = open('udata.txt').read()\n",
    "re.findall('[abce]',data,re.I)"
   ]
  },
  {
   "cell_type": "code",
   "execution_count": 14,
   "metadata": {
    "collapsed": false
   },
   "outputs": [
    {
     "name": "stdout",
     "output_type": "stream",
     "text": [
      "1,name1,email1@gmail.com,9876567897\n",
      "\n",
      "name2,email2@yahoo.co.in,9876567898,2\n",
      "\n",
      "EMAIL3@rediff.com,9876567899,3,name3\n"
     ]
    }
   ],
   "source": [
    "data1 = open(\"udata.txt\").readlines()\n",
    "for row in data1:\n",
    "    print row"
   ]
  },
  {
   "cell_type": "code",
   "execution_count": 15,
   "metadata": {
    "collapsed": false
   },
   "outputs": [
    {
     "name": "stdout",
     "output_type": "stream",
     "text": [
      "['1,name1,email1@gmail.com,9876567897']\n",
      "['name2,email2@yahoo.co.in,9876567898,2']\n",
      "['EMAIL3@rediff.com,9876567899,3,name3']\n"
     ]
    }
   ],
   "source": [
    "data1 = open(\"udata.txt\").readlines()\n",
    "for row in data1:\n",
    "    print row.split()"
   ]
  },
  {
   "cell_type": "code",
   "execution_count": 16,
   "metadata": {
    "collapsed": false
   },
   "outputs": [
    {
     "name": "stdout",
     "output_type": "stream",
     "text": [
      "['1', 'name1', 'email1@gmail.com', '9876567897\\n']\n",
      "['name2', 'email2@yahoo.co.in', '9876567898', '2\\n']\n",
      "['EMAIL3@rediff.com', '9876567899', '3', 'name3']\n"
     ]
    }
   ],
   "source": [
    "data1 = open(\"udata.txt\").readlines()\n",
    "for row in data1:\n",
    "    print row.split(',')"
   ]
  },
  {
   "cell_type": "code",
   "execution_count": 17,
   "metadata": {
    "collapsed": false
   },
   "outputs": [
    {
     "name": "stdout",
     "output_type": "stream",
     "text": [
      "email1@gmail.com\n",
      "9876567898\n",
      "3\n"
     ]
    }
   ],
   "source": [
    "data1 = open(\"udata.txt\").readlines()\n",
    "for row in data1:\n",
    "    print row.split(',')[2]"
   ]
  },
  {
   "cell_type": "code",
   "execution_count": 18,
   "metadata": {
    "collapsed": false
   },
   "outputs": [
    {
     "name": "stdout",
     "output_type": "stream",
     "text": [
      "name1\n",
      "email2@yahoo.co.in\n",
      "9876567899\n"
     ]
    }
   ],
   "source": [
    "data1 = open(\"udata.txt\").readlines()\n",
    "for row in data1:\n",
    "    print row.split(',')[1]"
   ]
  },
  {
   "cell_type": "code",
   "execution_count": 19,
   "metadata": {
    "collapsed": false
   },
   "outputs": [
    {
     "name": "stdout",
     "output_type": "stream",
     "text": [
      "1\n",
      "name2\n",
      "EMAIL3@rediff.com\n"
     ]
    }
   ],
   "source": [
    "data1 = open(\"udata.txt\").readlines()\n",
    "for row in data1:\n",
    "    print row.split(',')[0]"
   ]
  },
  {
   "cell_type": "code",
   "execution_count": 20,
   "metadata": {
    "collapsed": false
   },
   "outputs": [
    {
     "data": {
      "text/plain": [
       "['e1', 'l1', 'e2', 'l2', 'L3', 'e3']"
      ]
     },
     "execution_count": 20,
     "metadata": {},
     "output_type": "execute_result"
    }
   ],
   "source": [
    "data = open('udata.txt').read()\n",
    "re.findall('[a-z][0-9]',data,re.I)"
   ]
  },
  {
   "cell_type": "code",
   "execution_count": 21,
   "metadata": {
    "collapsed": false
   },
   "outputs": [
    {
     "data": {
      "text/plain": [
       "['98',\n",
       " '76',\n",
       " '56',\n",
       " '78',\n",
       " '97',\n",
       " '98',\n",
       " '76',\n",
       " '56',\n",
       " '78',\n",
       " '98',\n",
       " '98',\n",
       " '76',\n",
       " '56',\n",
       " '78',\n",
       " '99']"
      ]
     },
     "execution_count": 21,
     "metadata": {},
     "output_type": "execute_result"
    }
   ],
   "source": [
    "data = open('udata.txt').read()\n",
    "re.findall('[0-9][0-9]',data,re.I)"
   ]
  },
  {
   "cell_type": "code",
   "execution_count": 22,
   "metadata": {
    "collapsed": false
   },
   "outputs": [
    {
     "data": {
      "text/plain": [
       "['987', '656', '789', '987', '656', '789', '987', '656', '789']"
      ]
     },
     "execution_count": 22,
     "metadata": {},
     "output_type": "execute_result"
    }
   ],
   "source": [
    "data = open('udata.txt').read()\n",
    "re.findall('[0-9][0-9][0-9]',data,re.I)"
   ]
  },
  {
   "cell_type": "code",
   "execution_count": 23,
   "metadata": {
    "collapsed": false
   },
   "outputs": [
    {
     "data": {
      "text/plain": [
       "['9876567897', '9876567898', '9876567899']"
      ]
     },
     "execution_count": 23,
     "metadata": {},
     "output_type": "execute_result"
    }
   ],
   "source": [
    "data = open('udata.txt').read()\n",
    "re.findall('[0-9]{10}',data,re.I)"
   ]
  },
  {
   "cell_type": "code",
   "execution_count": 24,
   "metadata": {
    "collapsed": false
   },
   "outputs": [
    {
     "data": {
      "text/plain": [
       "['9876567897', '9876567898', '9876567899']"
      ]
     },
     "execution_count": 24,
     "metadata": {},
     "output_type": "execute_result"
    }
   ],
   "source": [
    "data = open('udata.txt').read()\n",
    "re.findall('[0-9]{5,10}',data,re.I)"
   ]
  },
  {
   "cell_type": "code",
   "execution_count": 25,
   "metadata": {
    "collapsed": false
   },
   "outputs": [
    {
     "data": {
      "text/plain": [
       "['1',\n",
       " '1',\n",
       " '1',\n",
       " '9876567897',\n",
       " '2',\n",
       " '2',\n",
       " '9876567898',\n",
       " '2',\n",
       " '3',\n",
       " '9876567899',\n",
       " '3',\n",
       " '3']"
      ]
     },
     "execution_count": 25,
     "metadata": {},
     "output_type": "execute_result"
    }
   ],
   "source": [
    "data = open('udata.txt').read()\n",
    "re.findall('[0-9]{1,10}',data,re.I)"
   ]
  },
  {
   "cell_type": "code",
   "execution_count": 26,
   "metadata": {
    "collapsed": false
   },
   "outputs": [
    {
     "data": {
      "text/plain": [
       "['1',\n",
       " '1',\n",
       " '1',\n",
       " '9876567897',\n",
       " '2',\n",
       " '2',\n",
       " '9876567898',\n",
       " '2',\n",
       " '3',\n",
       " '9876567899',\n",
       " '3',\n",
       " '3']"
      ]
     },
     "execution_count": 26,
     "metadata": {},
     "output_type": "execute_result"
    }
   ],
   "source": [
    "data = open('udata.txt').read()\n",
    "re.findall('[0-9]+',data,re.I)"
   ]
  },
  {
   "cell_type": "code",
   "execution_count": 27,
   "metadata": {
    "collapsed": false
   },
   "outputs": [
    {
     "data": {
      "text/plain": [
       "['1',\n",
       " '',\n",
       " '',\n",
       " '',\n",
       " '',\n",
       " '',\n",
       " '1',\n",
       " '',\n",
       " '',\n",
       " '',\n",
       " '',\n",
       " '',\n",
       " '',\n",
       " '1',\n",
       " '',\n",
       " '',\n",
       " '',\n",
       " '',\n",
       " '',\n",
       " '',\n",
       " '',\n",
       " '',\n",
       " '',\n",
       " '',\n",
       " '',\n",
       " '9876567897',\n",
       " '',\n",
       " '',\n",
       " '',\n",
       " '',\n",
       " '',\n",
       " '2',\n",
       " '',\n",
       " '',\n",
       " '',\n",
       " '',\n",
       " '',\n",
       " '',\n",
       " '2',\n",
       " '',\n",
       " '',\n",
       " '',\n",
       " '',\n",
       " '',\n",
       " '',\n",
       " '',\n",
       " '',\n",
       " '',\n",
       " '',\n",
       " '',\n",
       " '',\n",
       " '',\n",
       " '9876567898',\n",
       " '',\n",
       " '2',\n",
       " '',\n",
       " '',\n",
       " '',\n",
       " '',\n",
       " '',\n",
       " '',\n",
       " '3',\n",
       " '',\n",
       " '',\n",
       " '',\n",
       " '',\n",
       " '',\n",
       " '',\n",
       " '',\n",
       " '',\n",
       " '',\n",
       " '',\n",
       " '',\n",
       " '',\n",
       " '9876567899',\n",
       " '',\n",
       " '3',\n",
       " '',\n",
       " '',\n",
       " '',\n",
       " '',\n",
       " '',\n",
       " '3',\n",
       " '']"
      ]
     },
     "execution_count": 27,
     "metadata": {},
     "output_type": "execute_result"
    }
   ],
   "source": [
    "data = open('udata.txt').read()\n",
    "re.findall('[0-9]*',data,re.I)"
   ]
  },
  {
   "cell_type": "code",
   "execution_count": 28,
   "metadata": {
    "collapsed": false
   },
   "outputs": [
    {
     "data": {
      "text/plain": [
       "['1',\n",
       " '',\n",
       " '',\n",
       " '',\n",
       " '',\n",
       " '',\n",
       " '1',\n",
       " '',\n",
       " '',\n",
       " '',\n",
       " '',\n",
       " '',\n",
       " '',\n",
       " '1',\n",
       " '',\n",
       " '',\n",
       " '',\n",
       " '',\n",
       " '',\n",
       " '',\n",
       " '',\n",
       " '',\n",
       " '',\n",
       " '',\n",
       " '',\n",
       " '9',\n",
       " '8',\n",
       " '7',\n",
       " '6',\n",
       " '5',\n",
       " '6',\n",
       " '7',\n",
       " '8',\n",
       " '9',\n",
       " '7',\n",
       " '',\n",
       " '',\n",
       " '',\n",
       " '',\n",
       " '',\n",
       " '2',\n",
       " '',\n",
       " '',\n",
       " '',\n",
       " '',\n",
       " '',\n",
       " '',\n",
       " '2',\n",
       " '',\n",
       " '',\n",
       " '',\n",
       " '',\n",
       " '',\n",
       " '',\n",
       " '',\n",
       " '',\n",
       " '',\n",
       " '',\n",
       " '',\n",
       " '',\n",
       " '',\n",
       " '9',\n",
       " '8',\n",
       " '7',\n",
       " '6',\n",
       " '5',\n",
       " '6',\n",
       " '7',\n",
       " '8',\n",
       " '9',\n",
       " '8',\n",
       " '',\n",
       " '2',\n",
       " '',\n",
       " '',\n",
       " '',\n",
       " '',\n",
       " '',\n",
       " '',\n",
       " '3',\n",
       " '',\n",
       " '',\n",
       " '',\n",
       " '',\n",
       " '',\n",
       " '',\n",
       " '',\n",
       " '',\n",
       " '',\n",
       " '',\n",
       " '',\n",
       " '',\n",
       " '9',\n",
       " '8',\n",
       " '7',\n",
       " '6',\n",
       " '5',\n",
       " '6',\n",
       " '7',\n",
       " '8',\n",
       " '9',\n",
       " '9',\n",
       " '',\n",
       " '3',\n",
       " '',\n",
       " '',\n",
       " '',\n",
       " '',\n",
       " '',\n",
       " '3',\n",
       " '']"
      ]
     },
     "execution_count": 28,
     "metadata": {},
     "output_type": "execute_result"
    }
   ],
   "source": [
    "data = open('udata.txt').read()\n",
    "re.findall('[0-9]?',data,re.I)"
   ]
  },
  {
   "cell_type": "code",
   "execution_count": 29,
   "metadata": {
    "collapsed": false
   },
   "outputs": [
    {
     "data": {
      "text/plain": [
       "[',',\n",
       " 'n',\n",
       " 'a',\n",
       " 'm',\n",
       " 'e',\n",
       " ',',\n",
       " 'e',\n",
       " 'm',\n",
       " 'a',\n",
       " 'i',\n",
       " 'l',\n",
       " '@',\n",
       " 'g',\n",
       " 'm',\n",
       " 'a',\n",
       " 'i',\n",
       " 'l',\n",
       " '.',\n",
       " 'c',\n",
       " 'o',\n",
       " 'm',\n",
       " ',',\n",
       " '\\n',\n",
       " 'n',\n",
       " 'a',\n",
       " 'm',\n",
       " 'e',\n",
       " ',',\n",
       " 'e',\n",
       " 'm',\n",
       " 'a',\n",
       " 'i',\n",
       " 'l',\n",
       " '@',\n",
       " 'y',\n",
       " 'a',\n",
       " 'h',\n",
       " 'o',\n",
       " 'o',\n",
       " '.',\n",
       " 'c',\n",
       " 'o',\n",
       " '.',\n",
       " 'i',\n",
       " 'n',\n",
       " ',',\n",
       " ',',\n",
       " '\\n',\n",
       " 'E',\n",
       " 'M',\n",
       " 'A',\n",
       " 'I',\n",
       " 'L',\n",
       " '@',\n",
       " 'r',\n",
       " 'e',\n",
       " 'd',\n",
       " 'i',\n",
       " 'f',\n",
       " 'f',\n",
       " '.',\n",
       " 'c',\n",
       " 'o',\n",
       " 'm',\n",
       " ',',\n",
       " ',',\n",
       " ',',\n",
       " 'n',\n",
       " 'a',\n",
       " 'm',\n",
       " 'e']"
      ]
     },
     "execution_count": 29,
     "metadata": {},
     "output_type": "execute_result"
    }
   ],
   "source": [
    "data = open('udata.txt').read()\n",
    "re.findall('[^0-9]',data,re.I)"
   ]
  },
  {
   "cell_type": "code",
   "execution_count": 30,
   "metadata": {
    "collapsed": false
   },
   "outputs": [
    {
     "name": "stdout",
     "output_type": "stream",
     "text": [
      "1,name1,email1@gmail.com,9876567897\n",
      "name2,email2@yahoo.co.in,9876567898,2\n",
      "EMAIL3@rediff.com,9876567899,3,name3\n"
     ]
    }
   ],
   "source": [
    "print data"
   ]
  },
  {
   "cell_type": "code",
   "execution_count": 31,
   "metadata": {
    "collapsed": false
   },
   "outputs": [
    {
     "data": {
      "text/plain": [
       "'1,name1,email1@gmail.com,9876567897\\nname2,email2@yahoo.co.in,9876567898,2\\nEMAIL3@rediff.com,9876567899,3,name3'"
      ]
     },
     "execution_count": 31,
     "metadata": {},
     "output_type": "execute_result"
    }
   ],
   "source": [
    "data"
   ]
  },
  {
   "cell_type": "code",
   "execution_count": 32,
   "metadata": {
    "collapsed": false
   },
   "outputs": [
    {
     "data": {
      "text/plain": [
       "['1']"
      ]
     },
     "execution_count": 32,
     "metadata": {},
     "output_type": "execute_result"
    }
   ],
   "source": [
    "data = open('udata.txt').read()\n",
    "re.findall('^[0-9]',data,re.I)"
   ]
  },
  {
   "cell_type": "code",
   "execution_count": 33,
   "metadata": {
    "collapsed": false
   },
   "outputs": [
    {
     "data": {
      "text/plain": [
       "[]"
      ]
     },
     "execution_count": 33,
     "metadata": {},
     "output_type": "execute_result"
    }
   ],
   "source": [
    "data = open('udata.txt').read()\n",
    "re.findall('^[0-9]{2}',data,re.I)"
   ]
  },
  {
   "cell_type": "code",
   "execution_count": 34,
   "metadata": {
    "collapsed": false
   },
   "outputs": [
    {
     "data": {
      "text/plain": [
       "[]"
      ]
     },
     "execution_count": 34,
     "metadata": {},
     "output_type": "execute_result"
    }
   ],
   "source": [
    "data = open('udata.txt').read()\n",
    "re.findall('[0-9]{2}$',data,re.I)"
   ]
  },
  {
   "cell_type": "code",
   "execution_count": 35,
   "metadata": {
    "collapsed": false
   },
   "outputs": [
    {
     "data": {
      "text/plain": [
       "['3']"
      ]
     },
     "execution_count": 35,
     "metadata": {},
     "output_type": "execute_result"
    }
   ],
   "source": [
    "data = open('udata.txt').read()\n",
    "re.findall('[0-9]$',data,re.I)"
   ]
  },
  {
   "cell_type": "code",
   "execution_count": 36,
   "metadata": {
    "collapsed": false
   },
   "outputs": [
    {
     "data": {
      "text/plain": [
       "'1,name1,email1@gmail.com,9876567897\\nname2,email2@yahoo.co.in,9876567898,2\\nEMAIL3@rediff.com,9876567899,3,name3'"
      ]
     },
     "execution_count": 36,
     "metadata": {},
     "output_type": "execute_result"
    }
   ],
   "source": [
    "data"
   ]
  },
  {
   "cell_type": "code",
   "execution_count": 37,
   "metadata": {
    "collapsed": false
   },
   "outputs": [
    {
     "name": "stdout",
     "output_type": "stream",
     "text": [
      "1,name1,email1@gmail.com,9876567897\n",
      "name2,email2@yahoo.co.in,9876567898,2\n",
      "EMAIL3@rediff.com,9876567899,3,name3\n"
     ]
    }
   ],
   "source": [
    "print data"
   ]
  },
  {
   "cell_type": "code",
   "execution_count": 38,
   "metadata": {
    "collapsed": false
   },
   "outputs": [
    {
     "data": {
      "text/plain": [
       "['7', '2', '3']"
      ]
     },
     "execution_count": 38,
     "metadata": {},
     "output_type": "execute_result"
    }
   ],
   "source": [
    "data = open('udata.txt').read()\n",
    "re.findall('[0-9]$',data,re.I|re.M)"
   ]
  },
  {
   "cell_type": "code",
   "execution_count": 39,
   "metadata": {
    "collapsed": false
   },
   "outputs": [
    {
     "data": {
      "text/plain": [
       "['3']"
      ]
     },
     "execution_count": 39,
     "metadata": {},
     "output_type": "execute_result"
    }
   ],
   "source": [
    "data = open('udata.txt').read()\n",
    "re.findall('[0-9]$',data,re.I)"
   ]
  },
  {
   "cell_type": "code",
   "execution_count": 40,
   "metadata": {
    "collapsed": false
   },
   "outputs": [
    {
     "data": {
      "text/plain": [
       "'1,name1,email1@gmail.com,9876567897\\nname2,email2@yahoo.co.in,9876567898,2\\nEMAIL3@rediff.com,9876567899,3,name3'"
      ]
     },
     "execution_count": 40,
     "metadata": {},
     "output_type": "execute_result"
    }
   ],
   "source": [
    "data"
   ]
  },
  {
   "cell_type": "code",
   "execution_count": 41,
   "metadata": {
    "collapsed": false
   },
   "outputs": [
    {
     "data": {
      "text/plain": [
       "['1,n',\n",
       " 'ame',\n",
       " '1,e',\n",
       " 'mai',\n",
       " 'l1@',\n",
       " 'gma',\n",
       " 'il.',\n",
       " 'com',\n",
       " ',98',\n",
       " '765',\n",
       " '678',\n",
       " 'nam',\n",
       " 'e2,',\n",
       " 'ema',\n",
       " 'il2',\n",
       " '@ya',\n",
       " 'hoo',\n",
       " '.co',\n",
       " '.in',\n",
       " ',98',\n",
       " '765',\n",
       " '678',\n",
       " '98,',\n",
       " 'EMA',\n",
       " 'IL3',\n",
       " '@re',\n",
       " 'dif',\n",
       " 'f.c',\n",
       " 'om,',\n",
       " '987',\n",
       " '656',\n",
       " '789',\n",
       " '9,3',\n",
       " ',na',\n",
       " 'me3']"
      ]
     },
     "execution_count": 41,
     "metadata": {},
     "output_type": "execute_result"
    }
   ],
   "source": [
    "re.findall('.{3}',data)"
   ]
  },
  {
   "cell_type": "code",
   "execution_count": 42,
   "metadata": {
    "collapsed": false
   },
   "outputs": [
    {
     "data": {
      "text/plain": [
       "['1,n',\n",
       " 'ame',\n",
       " '1,e',\n",
       " 'mai',\n",
       " 'l1@',\n",
       " 'gma',\n",
       " 'il.',\n",
       " 'com',\n",
       " ',98',\n",
       " '765',\n",
       " '678',\n",
       " '97\\n',\n",
       " 'nam',\n",
       " 'e2,',\n",
       " 'ema',\n",
       " 'il2',\n",
       " '@ya',\n",
       " 'hoo',\n",
       " '.co',\n",
       " '.in',\n",
       " ',98',\n",
       " '765',\n",
       " '678',\n",
       " '98,',\n",
       " '2\\nE',\n",
       " 'MAI',\n",
       " 'L3@',\n",
       " 'red',\n",
       " 'iff',\n",
       " '.co',\n",
       " 'm,9',\n",
       " '876',\n",
       " '567',\n",
       " '899',\n",
       " ',3,',\n",
       " 'nam']"
      ]
     },
     "execution_count": 42,
     "metadata": {},
     "output_type": "execute_result"
    }
   ],
   "source": [
    "re.findall('.{3}',data,re.DOTALL)"
   ]
  },
  {
   "cell_type": "code",
   "execution_count": 43,
   "metadata": {
    "collapsed": false
   },
   "outputs": [
    {
     "data": {
      "text/plain": [
       "['1',\n",
       " ',',\n",
       " 'n',\n",
       " 'a',\n",
       " 'm',\n",
       " 'e',\n",
       " '1',\n",
       " ',',\n",
       " 'e',\n",
       " 'm',\n",
       " 'a',\n",
       " 'i',\n",
       " 'l',\n",
       " '1',\n",
       " '@',\n",
       " 'g',\n",
       " 'm',\n",
       " 'a',\n",
       " 'i',\n",
       " 'l',\n",
       " '.',\n",
       " 'c',\n",
       " 'o',\n",
       " 'm',\n",
       " ',',\n",
       " '9',\n",
       " '8',\n",
       " '7',\n",
       " '6',\n",
       " '5',\n",
       " '6',\n",
       " '7',\n",
       " '8',\n",
       " '9',\n",
       " '7',\n",
       " '\\n',\n",
       " 'n',\n",
       " 'a',\n",
       " 'm',\n",
       " 'e',\n",
       " '2',\n",
       " ',',\n",
       " 'e',\n",
       " 'm',\n",
       " 'a',\n",
       " 'i',\n",
       " 'l',\n",
       " '2',\n",
       " '@',\n",
       " 'y',\n",
       " 'a',\n",
       " 'h',\n",
       " 'o',\n",
       " 'o',\n",
       " '.',\n",
       " 'c',\n",
       " 'o',\n",
       " '.',\n",
       " 'i',\n",
       " 'n',\n",
       " ',',\n",
       " '9',\n",
       " '8',\n",
       " '7',\n",
       " '6',\n",
       " '5',\n",
       " '6',\n",
       " '7',\n",
       " '8',\n",
       " '9',\n",
       " '8',\n",
       " ',',\n",
       " '2',\n",
       " '\\n',\n",
       " 'E',\n",
       " 'M',\n",
       " 'A',\n",
       " 'I',\n",
       " 'L',\n",
       " '3',\n",
       " '@',\n",
       " 'r',\n",
       " 'e',\n",
       " 'd',\n",
       " 'i',\n",
       " 'f',\n",
       " 'f',\n",
       " '.',\n",
       " 'c',\n",
       " 'o',\n",
       " 'm',\n",
       " ',',\n",
       " '9',\n",
       " '8',\n",
       " '7',\n",
       " '6',\n",
       " '5',\n",
       " '6',\n",
       " '7',\n",
       " '8',\n",
       " '9',\n",
       " '9',\n",
       " ',',\n",
       " '3',\n",
       " ',',\n",
       " 'n',\n",
       " 'a',\n",
       " 'm',\n",
       " 'e',\n",
       " '3']"
      ]
     },
     "execution_count": 43,
     "metadata": {},
     "output_type": "execute_result"
    }
   ],
   "source": [
    "re.findall('.',data,re.DOTALL)"
   ]
  },
  {
   "cell_type": "code",
   "execution_count": 44,
   "metadata": {
    "collapsed": false
   },
   "outputs": [
    {
     "data": {
      "text/plain": [
       "['.', '.', '.', '.']"
      ]
     },
     "execution_count": 44,
     "metadata": {},
     "output_type": "execute_result"
    }
   ],
   "source": [
    "re.findall('\\.',data,re.DOTALL)"
   ]
  },
  {
   "cell_type": "code",
   "execution_count": 46,
   "metadata": {
    "collapsed": false
   },
   "outputs": [
    {
     "data": {
      "text/plain": [
       "[',',\n",
       " ',',\n",
       " '@',\n",
       " '.',\n",
       " ',',\n",
       " '\\n',\n",
       " ',',\n",
       " '@',\n",
       " '.',\n",
       " '.',\n",
       " ',',\n",
       " ',',\n",
       " '\\n',\n",
       " '@',\n",
       " '.',\n",
       " ',',\n",
       " ',',\n",
       " ',']"
      ]
     },
     "execution_count": 46,
     "metadata": {},
     "output_type": "execute_result"
    }
   ],
   "source": [
    "re.findall('[^0-9a-z]',data,re.DOTALL|re.I)"
   ]
  },
  {
   "cell_type": "code",
   "execution_count": 47,
   "metadata": {
    "collapsed": false
   },
   "outputs": [
    {
     "data": {
      "text/plain": [
       "[]"
      ]
     },
     "execution_count": 47,
     "metadata": {},
     "output_type": "execute_result"
    }
   ],
   "source": [
    "re.findall('[a-z]@[a-z].[a-z]',data)"
   ]
  },
  {
   "cell_type": "code",
   "execution_count": 49,
   "metadata": {
    "collapsed": false
   },
   "outputs": [
    {
     "data": {
      "text/plain": [
       "['email1@', 'email2@', '3@']"
      ]
     },
     "execution_count": 49,
     "metadata": {},
     "output_type": "execute_result"
    }
   ],
   "source": [
    "re.findall('[a-z0-9]+@',data)"
   ]
  },
  {
   "cell_type": "code",
   "execution_count": 50,
   "metadata": {
    "collapsed": false
   },
   "outputs": [
    {
     "data": {
      "text/plain": [
       "['email1@', 'email2@', 'EMAIL3@']"
      ]
     },
     "execution_count": 50,
     "metadata": {},
     "output_type": "execute_result"
    }
   ],
   "source": [
    "re.findall('[a-z0-9]+@',data,re.I)"
   ]
  },
  {
   "cell_type": "code",
   "execution_count": 51,
   "metadata": {
    "collapsed": false
   },
   "outputs": [
    {
     "data": {
      "text/plain": [
       "['email1@gmail', 'email2@yahoo', 'EMAIL3@rediff']"
      ]
     },
     "execution_count": 51,
     "metadata": {},
     "output_type": "execute_result"
    }
   ],
   "source": [
    "re.findall('[a-z0-9]+@[a-z]+',data,re.I)"
   ]
  },
  {
   "cell_type": "code",
   "execution_count": 52,
   "metadata": {
    "collapsed": false
   },
   "outputs": [
    {
     "data": {
      "text/plain": [
       "['email1@gmail.', 'email2@yahoo.', 'EMAIL3@rediff.']"
      ]
     },
     "execution_count": 52,
     "metadata": {},
     "output_type": "execute_result"
    }
   ],
   "source": [
    "re.findall('[a-z0-9]+@[a-z]+\\.',data,re.I)"
   ]
  },
  {
   "cell_type": "code",
   "execution_count": 53,
   "metadata": {
    "collapsed": false
   },
   "outputs": [
    {
     "data": {
      "text/plain": [
       "['email1@gmail.com', 'email2@yahoo.co', 'EMAIL3@rediff.com']"
      ]
     },
     "execution_count": 53,
     "metadata": {},
     "output_type": "execute_result"
    }
   ],
   "source": [
    "re.findall('[a-z0-9]+@[a-z]+\\.[com]{2,3}',data,re.I)"
   ]
  },
  {
   "cell_type": "code",
   "execution_count": 54,
   "metadata": {
    "collapsed": false
   },
   "outputs": [
    {
     "data": {
      "text/plain": [
       "['email1@gmail.com', 'email2@yahoo.co.', 'EMAIL3@rediff.com']"
      ]
     },
     "execution_count": 54,
     "metadata": {},
     "output_type": "execute_result"
    }
   ],
   "source": [
    "re.findall('[a-z0-9]+@[a-z]+\\.[com]{2,3}\\.*',data,re.I)"
   ]
  },
  {
   "cell_type": "code",
   "execution_count": 55,
   "metadata": {
    "collapsed": false
   },
   "outputs": [
    {
     "data": {
      "text/plain": [
       "['email2@yahoo.co.in']"
      ]
     },
     "execution_count": 55,
     "metadata": {},
     "output_type": "execute_result"
    }
   ],
   "source": [
    "re.findall('[a-z0-9]+@[a-z]+\\.[com]{2,3}\\.in*',data,re.I)"
   ]
  },
  {
   "cell_type": "code",
   "execution_count": 56,
   "metadata": {
    "collapsed": false
   },
   "outputs": [
    {
     "data": {
      "text/plain": [
       "['email1@gmail.com', 'email2@yahoo.co.in', 'EMAIL3@rediff.com']"
      ]
     },
     "execution_count": 56,
     "metadata": {},
     "output_type": "execute_result"
    }
   ],
   "source": [
    "re.findall('[a-z0-9]+@[a-z]+\\.[com]{2,3}[\\.in]*',data,re.I)"
   ]
  },
  {
   "cell_type": "code",
   "execution_count": 57,
   "metadata": {
    "collapsed": false
   },
   "outputs": [
    {
     "data": {
      "text/plain": [
       "['email1@gmail.com',\n",
       " 'email2@yahoo.co.in',\n",
       " 'EMAIL3@rediff.com',\n",
       " 'EMAIL3@rediff.co.us']"
      ]
     },
     "execution_count": 57,
     "metadata": {},
     "output_type": "execute_result"
    }
   ],
   "source": [
    "data = open('udata.txt').read()\n",
    "re.findall('[a-z0-9]+@[a-z]+\\.[com]{2,3}[\\.inus]*',data,re.I)"
   ]
  },
  {
   "cell_type": "code",
   "execution_count": 58,
   "metadata": {
    "collapsed": false
   },
   "outputs": [
    {
     "data": {
      "text/plain": [
       "['email1@gmail.com',\n",
       " 'email2@yahoo.co.in',\n",
       " 'EMAIL3@rediff.com',\n",
       " 'EMAIL3@rediff.co.us']"
      ]
     },
     "execution_count": 58,
     "metadata": {},
     "output_type": "execute_result"
    }
   ],
   "source": [
    "data = open('udata.txt').read()\n",
    "re.findall('[a-z0-9]+@[a-z]+\\.[com]{2,3}[\\.a-z]*',data,re.I)"
   ]
  },
  {
   "cell_type": "code",
   "execution_count": 59,
   "metadata": {
    "collapsed": false
   },
   "outputs": [
    {
     "data": {
      "text/plain": [
       "['email1@gmail.com',\n",
       " 'email2@yahoo.co.in',\n",
       " 'EMAIL3@rediff.com',\n",
       " 'EMAIL3@rediff.co.us']"
      ]
     },
     "execution_count": 59,
     "metadata": {},
     "output_type": "execute_result"
    }
   ],
   "source": [
    "data = open('udata.txt').read()\n",
    "re.findall('\\w+@[a-z]+\\.[com]{2,3}[\\.a-z]*',data,re.I)"
   ]
  },
  {
   "cell_type": "code",
   "execution_count": 60,
   "metadata": {
    "collapsed": false
   },
   "outputs": [
    {
     "data": {
      "text/plain": [
       "'1,name1,email1@gmail.com,9876567897\\nname2,email2@yahoo.co.in,9876567898,2\\nEMAIL3@rediff.com,9876567899,3,name3\\nEMAIL3@rediff.co.us,9876567899,3,name3'"
      ]
     },
     "execution_count": 60,
     "metadata": {},
     "output_type": "execute_result"
    }
   ],
   "source": [
    "data"
   ]
  },
  {
   "cell_type": "code",
   "execution_count": 62,
   "metadata": {
    "collapsed": false
   },
   "outputs": [
    {
     "data": {
      "text/plain": [
       "<_sre.SRE_Match at 0x7f894098b168>"
      ]
     },
     "execution_count": 62,
     "metadata": {},
     "output_type": "execute_result"
    }
   ],
   "source": [
    "re.match('[0-9]',data)"
   ]
  },
  {
   "cell_type": "code",
   "execution_count": 63,
   "metadata": {
    "collapsed": true
   },
   "outputs": [],
   "source": [
    "re.match('[0-9]{2}',data)"
   ]
  },
  {
   "cell_type": "code",
   "execution_count": 64,
   "metadata": {
    "collapsed": true
   },
   "outputs": [],
   "source": [
    "re.match('[a-z]',data)"
   ]
  },
  {
   "cell_type": "code",
   "execution_count": 65,
   "metadata": {
    "collapsed": false
   },
   "outputs": [
    {
     "data": {
      "text/plain": [
       "<_sre.SRE_Match at 0x7f894098b920>"
      ]
     },
     "execution_count": 65,
     "metadata": {},
     "output_type": "execute_result"
    }
   ],
   "source": [
    "re.search('[a-z]',data)"
   ]
  },
  {
   "cell_type": "code",
   "execution_count": 68,
   "metadata": {
    "collapsed": false
   },
   "outputs": [
    {
     "data": {
      "text/plain": [
       "['email1@gmail.com',\n",
       " 'email2@yahoo.co.in',\n",
       " 'EMAIL3@rediff.com',\n",
       " 'EMAIL3@rediff.co.us']"
      ]
     },
     "execution_count": 68,
     "metadata": {},
     "output_type": "execute_result"
    }
   ],
   "source": [
    "email_reg = re.compile('\\w+@[a-z]+\\.[com]{2,3}[\\.a-z]*')\n",
    "email_reg.findall(data)"
   ]
  },
  {
   "cell_type": "code",
   "execution_count": null,
   "metadata": {
    "collapsed": true
   },
   "outputs": [],
   "source": []
  }
 ],
 "metadata": {
  "kernelspec": {
   "display_name": "Python 2",
   "language": "python",
   "name": "python2"
  },
  "language_info": {
   "codemirror_mode": {
    "name": "ipython",
    "version": 2
   },
   "file_extension": ".py",
   "mimetype": "text/x-python",
   "name": "python",
   "nbconvert_exporter": "python",
   "pygments_lexer": "ipython2",
   "version": "2.7.13"
  }
 },
 "nbformat": 4,
 "nbformat_minor": 2
}
