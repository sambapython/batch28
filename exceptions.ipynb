{
 "cells": [
  {
   "cell_type": "code",
   "execution_count": 1,
   "metadata": {
    "collapsed": false
   },
   "outputs": [
    {
     "name": "stdout",
     "output_type": "stream",
     "text": [
      "some begining statements\n",
      "Enter a value:12\n",
      "Enter b value:6\n",
      "result= 2\n",
      "some other statements in program\n",
      "program ended\n"
     ]
    }
   ],
   "source": [
    "print \"some begining statements\"\n",
    "a=raw_input(\"Enter a value:\")\n",
    "b=raw_input(\"Enter b value:\")\n",
    "a=int(a)\n",
    "b=int(b)\n",
    "result=a/b\n",
    "print \"result=\",result\n",
    "print \"some other statements in program\"\n",
    "print \"program ended\""
   ]
  },
  {
   "cell_type": "code",
   "execution_count": 2,
   "metadata": {
    "collapsed": false
   },
   "outputs": [
    {
     "name": "stdout",
     "output_type": "stream",
     "text": [
      "some begining statements\n",
      "Enter a value:12\n",
      "Enter b value:3.4\n"
     ]
    },
    {
     "ename": "ValueError",
     "evalue": "invalid literal for int() with base 10: '3.4'",
     "output_type": "error",
     "traceback": [
      "\u001b[0;31m---------------------------------------------------------------------------\u001b[0m",
      "\u001b[0;31mValueError\u001b[0m                                Traceback (most recent call last)",
      "\u001b[0;32m<ipython-input-2-30ca2cdc9a85>\u001b[0m in \u001b[0;36m<module>\u001b[0;34m()\u001b[0m\n\u001b[1;32m      3\u001b[0m \u001b[0mb\u001b[0m\u001b[0;34m=\u001b[0m\u001b[0mraw_input\u001b[0m\u001b[0;34m(\u001b[0m\u001b[0;34m\"Enter b value:\"\u001b[0m\u001b[0;34m)\u001b[0m\u001b[0;34m\u001b[0m\u001b[0m\n\u001b[1;32m      4\u001b[0m \u001b[0ma\u001b[0m\u001b[0;34m=\u001b[0m\u001b[0mint\u001b[0m\u001b[0;34m(\u001b[0m\u001b[0ma\u001b[0m\u001b[0;34m)\u001b[0m\u001b[0;34m\u001b[0m\u001b[0m\n\u001b[0;32m----> 5\u001b[0;31m \u001b[0mb\u001b[0m\u001b[0;34m=\u001b[0m\u001b[0mint\u001b[0m\u001b[0;34m(\u001b[0m\u001b[0mb\u001b[0m\u001b[0;34m)\u001b[0m\u001b[0;34m\u001b[0m\u001b[0m\n\u001b[0m\u001b[1;32m      6\u001b[0m \u001b[0mresult\u001b[0m\u001b[0;34m=\u001b[0m\u001b[0ma\u001b[0m\u001b[0;34m/\u001b[0m\u001b[0mb\u001b[0m\u001b[0;34m\u001b[0m\u001b[0m\n\u001b[1;32m      7\u001b[0m \u001b[0;32mprint\u001b[0m \u001b[0;34m\"result=\"\u001b[0m\u001b[0;34m,\u001b[0m\u001b[0mresult\u001b[0m\u001b[0;34m\u001b[0m\u001b[0m\n",
      "\u001b[0;31mValueError\u001b[0m: invalid literal for int() with base 10: '3.4'"
     ]
    }
   ],
   "source": [
    "print \"some begining statements\"\n",
    "a=raw_input(\"Enter a value:\")\n",
    "b=raw_input(\"Enter b value:\")\n",
    "a=int(a)\n",
    "b=int(b)\n",
    "result=a/b\n",
    "print \"result=\",result\n",
    "print \"some other statements in program\"\n",
    "print \"program ended\""
   ]
  },
  {
   "cell_type": "code",
   "execution_count": 3,
   "metadata": {
    "collapsed": false
   },
   "outputs": [
    {
     "name": "stdout",
     "output_type": "stream",
     "text": [
      "some begining statements\n",
      "Enter a value:12\n",
      "Enter b value:6\n",
      "result= 2.0\n",
      "some other statements in program\n",
      "program ended\n"
     ]
    }
   ],
   "source": [
    "print \"some begining statements\"\n",
    "a=raw_input(\"Enter a value:\")\n",
    "b=raw_input(\"Enter b value:\")\n",
    "a=float(a)\n",
    "b=float(b)\n",
    "result=a/b\n",
    "print \"result=\",result\n",
    "print \"some other statements in program\"\n",
    "print \"program ended\""
   ]
  },
  {
   "cell_type": "code",
   "execution_count": 4,
   "metadata": {
    "collapsed": false
   },
   "outputs": [
    {
     "name": "stdout",
     "output_type": "stream",
     "text": [
      "some begining statements\n",
      "Enter a value:12\n",
      "Enter b value:3.4\n",
      "result= 3.52941176471\n",
      "some other statements in program\n",
      "program ended\n"
     ]
    }
   ],
   "source": [
    "print \"some begining statements\"\n",
    "a=raw_input(\"Enter a value:\")\n",
    "b=raw_input(\"Enter b value:\")\n",
    "a=float(a)\n",
    "b=float(b)\n",
    "result=a/b\n",
    "print \"result=\",result\n",
    "print \"some other statements in program\"\n",
    "print \"program ended\""
   ]
  },
  {
   "cell_type": "code",
   "execution_count": 5,
   "metadata": {
    "collapsed": false
   },
   "outputs": [
    {
     "name": "stdout",
     "output_type": "stream",
     "text": [
      "some begining statements\n",
      "Enter a value:12\n",
      "Enter b value:0\n"
     ]
    },
    {
     "ename": "ZeroDivisionError",
     "evalue": "float division by zero",
     "output_type": "error",
     "traceback": [
      "\u001b[0;31m---------------------------------------------------------------------------\u001b[0m",
      "\u001b[0;31mZeroDivisionError\u001b[0m                         Traceback (most recent call last)",
      "\u001b[0;32m<ipython-input-5-39426d0658b6>\u001b[0m in \u001b[0;36m<module>\u001b[0;34m()\u001b[0m\n\u001b[1;32m      4\u001b[0m \u001b[0ma\u001b[0m\u001b[0;34m=\u001b[0m\u001b[0mfloat\u001b[0m\u001b[0;34m(\u001b[0m\u001b[0ma\u001b[0m\u001b[0;34m)\u001b[0m\u001b[0;34m\u001b[0m\u001b[0m\n\u001b[1;32m      5\u001b[0m \u001b[0mb\u001b[0m\u001b[0;34m=\u001b[0m\u001b[0mfloat\u001b[0m\u001b[0;34m(\u001b[0m\u001b[0mb\u001b[0m\u001b[0;34m)\u001b[0m\u001b[0;34m\u001b[0m\u001b[0m\n\u001b[0;32m----> 6\u001b[0;31m \u001b[0mresult\u001b[0m\u001b[0;34m=\u001b[0m\u001b[0ma\u001b[0m\u001b[0;34m/\u001b[0m\u001b[0mb\u001b[0m\u001b[0;34m\u001b[0m\u001b[0m\n\u001b[0m\u001b[1;32m      7\u001b[0m \u001b[0;32mprint\u001b[0m \u001b[0;34m\"result=\"\u001b[0m\u001b[0;34m,\u001b[0m\u001b[0mresult\u001b[0m\u001b[0;34m\u001b[0m\u001b[0m\n\u001b[1;32m      8\u001b[0m \u001b[0;32mprint\u001b[0m \u001b[0;34m\"some other statements in program\"\u001b[0m\u001b[0;34m\u001b[0m\u001b[0m\n",
      "\u001b[0;31mZeroDivisionError\u001b[0m: float division by zero"
     ]
    }
   ],
   "source": [
    "print \"some begining statements\"\n",
    "a=raw_input(\"Enter a value:\")\n",
    "b=raw_input(\"Enter b value:\")\n",
    "a=float(a)\n",
    "b=float(b)\n",
    "result=a/b\n",
    "print \"result=\",result\n",
    "print \"some other statements in program\"\n",
    "print \"program ended\""
   ]
  },
  {
   "cell_type": "code",
   "execution_count": 6,
   "metadata": {
    "collapsed": false
   },
   "outputs": [
    {
     "name": "stdout",
     "output_type": "stream",
     "text": [
      "some begining statements\n",
      "Enter a value:qwerqw\n",
      "Enter b value:qweqw\n"
     ]
    },
    {
     "ename": "ValueError",
     "evalue": "could not convert string to float: qwerqw",
     "output_type": "error",
     "traceback": [
      "\u001b[0;31m---------------------------------------------------------------------------\u001b[0m",
      "\u001b[0;31mValueError\u001b[0m                                Traceback (most recent call last)",
      "\u001b[0;32m<ipython-input-6-39426d0658b6>\u001b[0m in \u001b[0;36m<module>\u001b[0;34m()\u001b[0m\n\u001b[1;32m      2\u001b[0m \u001b[0ma\u001b[0m\u001b[0;34m=\u001b[0m\u001b[0mraw_input\u001b[0m\u001b[0;34m(\u001b[0m\u001b[0;34m\"Enter a value:\"\u001b[0m\u001b[0;34m)\u001b[0m\u001b[0;34m\u001b[0m\u001b[0m\n\u001b[1;32m      3\u001b[0m \u001b[0mb\u001b[0m\u001b[0;34m=\u001b[0m\u001b[0mraw_input\u001b[0m\u001b[0;34m(\u001b[0m\u001b[0;34m\"Enter b value:\"\u001b[0m\u001b[0;34m)\u001b[0m\u001b[0;34m\u001b[0m\u001b[0m\n\u001b[0;32m----> 4\u001b[0;31m \u001b[0ma\u001b[0m\u001b[0;34m=\u001b[0m\u001b[0mfloat\u001b[0m\u001b[0;34m(\u001b[0m\u001b[0ma\u001b[0m\u001b[0;34m)\u001b[0m\u001b[0;34m\u001b[0m\u001b[0m\n\u001b[0m\u001b[1;32m      5\u001b[0m \u001b[0mb\u001b[0m\u001b[0;34m=\u001b[0m\u001b[0mfloat\u001b[0m\u001b[0;34m(\u001b[0m\u001b[0mb\u001b[0m\u001b[0;34m)\u001b[0m\u001b[0;34m\u001b[0m\u001b[0m\n\u001b[1;32m      6\u001b[0m \u001b[0mresult\u001b[0m\u001b[0;34m=\u001b[0m\u001b[0ma\u001b[0m\u001b[0;34m/\u001b[0m\u001b[0mb\u001b[0m\u001b[0;34m\u001b[0m\u001b[0m\n",
      "\u001b[0;31mValueError\u001b[0m: could not convert string to float: qwerqw"
     ]
    }
   ],
   "source": [
    "print \"some begining statements\"\n",
    "a=raw_input(\"Enter a value:\")\n",
    "b=raw_input(\"Enter b value:\")\n",
    "a=float(a)\n",
    "b=float(b)\n",
    "result=a/b\n",
    "print \"result=\",result\n",
    "print \"some other statements in program\"\n",
    "print \"program ended\""
   ]
  },
  {
   "cell_type": "code",
   "execution_count": 8,
   "metadata": {
    "collapsed": false
   },
   "outputs": [
    {
     "name": "stdout",
     "output_type": "stream",
     "text": [
      "some begining statements\n",
      "Enter a value:12\n",
      "Enter b value:6\n",
      "result= 2.0\n",
      "some other statements in program\n",
      "program ended\n",
      "some main statements\n"
     ]
    }
   ],
   "source": [
    "try:\n",
    "    print \"some begining statements\"\n",
    "    a=raw_input(\"Enter a value:\")\n",
    "    b=raw_input(\"Enter b value:\")\n",
    "    a=float(a)\n",
    "    b=float(b)\n",
    "    result=a/b\n",
    "    print \"result=\",result\n",
    "    print \"some other statements in program\"\n",
    "    print \"program ended\"\n",
    "except:\n",
    "    print \"except block\"\n",
    "    print \"something went wrong\"\n",
    "    print \"end of except block\"\n",
    "print \"some main statements\""
   ]
  },
  {
   "cell_type": "code",
   "execution_count": 9,
   "metadata": {
    "collapsed": false
   },
   "outputs": [
    {
     "name": "stdout",
     "output_type": "stream",
     "text": [
      "some begining statements\n",
      "Enter a value:qweqwe\n",
      "Enter b value:qweqw\n",
      "except block\n",
      "something went wrong\n",
      "end of except block\n",
      "some main statements\n"
     ]
    }
   ],
   "source": [
    "try:\n",
    "    print \"some begining statements\"\n",
    "    a=raw_input(\"Enter a value:\")\n",
    "    b=raw_input(\"Enter b value:\")\n",
    "    a=float(a)\n",
    "    b=float(b)\n",
    "    result=a/b\n",
    "    print \"result=\",result\n",
    "    print \"some other statements in program\"\n",
    "    print \"program ended\"\n",
    "except:\n",
    "    print \"except block\"\n",
    "    print \"something went wrong\"\n",
    "    print \"end of except block\"\n",
    "print \"some main statements\""
   ]
  },
  {
   "cell_type": "code",
   "execution_count": 11,
   "metadata": {
    "collapsed": false
   },
   "outputs": [
    {
     "name": "stdout",
     "output_type": "stream",
     "text": [
      "some begining statements\n",
      "Enter a value:12\n",
      "Enter b value:6\n",
      "result= 2.0\n",
      "some main statements\n",
      "some other statements in program\n",
      "program ended\n"
     ]
    }
   ],
   "source": [
    "print \"some begining statements\"\n",
    "a=raw_input(\"Enter a value:\")\n",
    "b=raw_input(\"Enter b value:\")\n",
    "try:\n",
    "    a=float(a)\n",
    "    b=float(b)\n",
    "    result=a/b\n",
    "    print \"result=\",result\n",
    "except:\n",
    "    print \"except block\"\n",
    "    print \"something went wrong\"\n",
    "    print \"end of except block\"\n",
    "print \"some main statements\"\n",
    "print \"some other statements in program\"\n",
    "print \"program ended\""
   ]
  },
  {
   "cell_type": "code",
   "execution_count": 12,
   "metadata": {
    "collapsed": false
   },
   "outputs": [
    {
     "name": "stdout",
     "output_type": "stream",
     "text": [
      "some begining statements\n",
      "Enter a value:12\n",
      "Enter b value:0\n",
      "except block\n",
      "something went wrong\n",
      "end of except block\n",
      "some main statements\n",
      "some other statements in program\n",
      "program ended\n"
     ]
    }
   ],
   "source": [
    "print \"some begining statements\"\n",
    "a=raw_input(\"Enter a value:\")\n",
    "b=raw_input(\"Enter b value:\")\n",
    "try:\n",
    "    a=float(a)\n",
    "    b=float(b)\n",
    "    result=a/b\n",
    "    print \"result=\",result\n",
    "except:\n",
    "    print \"except block\"\n",
    "    print \"something went wrong\"\n",
    "    print \"end of except block\"\n",
    "print \"some main statements\"\n",
    "print \"some other statements in program\"\n",
    "print \"program ended\""
   ]
  },
  {
   "cell_type": "code",
   "execution_count": 13,
   "metadata": {
    "collapsed": false
   },
   "outputs": [
    {
     "name": "stdout",
     "output_type": "stream",
     "text": [
      "some begining statements\n",
      "Enter a value:rerew\n",
      "Enter b value:werwe\n",
      "except block\n",
      "something went wrong\n",
      "end of except block\n",
      "some main statements\n",
      "some other statements in program\n",
      "program ended\n"
     ]
    }
   ],
   "source": [
    "print \"some begining statements\"\n",
    "a=raw_input(\"Enter a value:\")\n",
    "b=raw_input(\"Enter b value:\")\n",
    "try:\n",
    "    a=float(a)\n",
    "    b=float(b)\n",
    "    result=a/b\n",
    "    print \"result=\",result\n",
    "except:\n",
    "    print \"except block\"\n",
    "    print \"something went wrong\"\n",
    "    print \"end of except block\"\n",
    "print \"some main statements\"\n",
    "print \"some other statements in program\"\n",
    "print \"program ended\""
   ]
  },
  {
   "cell_type": "code",
   "execution_count": 14,
   "metadata": {
    "collapsed": false
   },
   "outputs": [
    {
     "name": "stdout",
     "output_type": "stream",
     "text": [
      "some begining statements\n",
      "Enter a value:12\n",
      "Enter b value:0\n",
      "float division by zero\n",
      "some main statements\n",
      "some other statements in program\n",
      "program ended\n"
     ]
    }
   ],
   "source": [
    "print \"some begining statements\"\n",
    "a=raw_input(\"Enter a value:\")\n",
    "b=raw_input(\"Enter b value:\")\n",
    "try:\n",
    "    a=float(a)\n",
    "    b=float(b)\n",
    "    result=a/b\n",
    "    print \"result=\",result\n",
    "except Exception as err:\n",
    "    print err\n",
    "print \"some main statements\"\n",
    "print \"some other statements in program\"\n",
    "print \"program ended\""
   ]
  },
  {
   "cell_type": "code",
   "execution_count": 15,
   "metadata": {
    "collapsed": false
   },
   "outputs": [
    {
     "name": "stdout",
     "output_type": "stream",
     "text": [
      "some begining statements\n",
      "Enter a value:qwrwer\n",
      "Enter b value:werwe\n",
      "could not convert string to float: qwrwer\n",
      "some main statements\n",
      "some other statements in program\n",
      "program ended\n"
     ]
    }
   ],
   "source": [
    "print \"some begining statements\"\n",
    "a=raw_input(\"Enter a value:\")\n",
    "b=raw_input(\"Enter b value:\")\n",
    "try:\n",
    "    a=float(a)\n",
    "    b=float(b)\n",
    "    result=a/b\n",
    "    print \"result=\",result\n",
    "except Exception as err:\n",
    "    print err\n",
    "print \"some main statements\"\n",
    "print \"some other statements in program\"\n",
    "print \"program ended\""
   ]
  },
  {
   "cell_type": "code",
   "execution_count": 16,
   "metadata": {
    "collapsed": false
   },
   "outputs": [
    {
     "name": "stdout",
     "output_type": "stream",
     "text": [
      "some begining statements\n",
      "Enter a value:12\n",
      "Enter b value:6\n",
      "result= 2.0\n",
      "some main statements\n",
      "some other statements in program\n",
      "program ended\n"
     ]
    }
   ],
   "source": [
    "print \"some begining statements\"\n",
    "a=raw_input(\"Enter a value:\")\n",
    "b=raw_input(\"Enter b value:\")\n",
    "try:\n",
    "    a=float(a)\n",
    "    b=float(b)\n",
    "    result=a/b\n",
    "    print \"result=\",result\n",
    "except ZerodivisionError:\n",
    "    print \"don't enter 0 for b value\"\n",
    "except ValueError:\n",
    "    print \"Enter only digits\"\n",
    "print \"some main statements\"\n",
    "print \"some other statements in program\"\n",
    "print \"program ended\""
   ]
  },
  {
   "cell_type": "code",
   "execution_count": 18,
   "metadata": {
    "collapsed": false
   },
   "outputs": [
    {
     "name": "stdout",
     "output_type": "stream",
     "text": [
      "some begining statements\n",
      "Enter a value:12\n",
      "Enter b value:0\n",
      "don't enter 0 for b value\n",
      "some main statements\n",
      "some other statements in program\n",
      "program ended\n"
     ]
    }
   ],
   "source": [
    "print \"some begining statements\"\n",
    "a=raw_input(\"Enter a value:\")\n",
    "b=raw_input(\"Enter b value:\")\n",
    "try:\n",
    "    a=float(a)\n",
    "    b=float(b)\n",
    "    result=a/b\n",
    "    print \"result=\",result\n",
    "except ZeroDivisionError:\n",
    "    print \"don't enter 0 for b value\"\n",
    "except ValueError:\n",
    "    print \"Enter only digits\"\n",
    "print \"some main statements\"\n",
    "print \"some other statements in program\"\n",
    "print \"program ended\""
   ]
  },
  {
   "cell_type": "code",
   "execution_count": 19,
   "metadata": {
    "collapsed": false
   },
   "outputs": [
    {
     "name": "stdout",
     "output_type": "stream",
     "text": [
      "some begining statements\n",
      "Enter a value:werwe\n",
      "Enter b value:234324\n",
      "Enter only digits\n",
      "some main statements\n",
      "some other statements in program\n",
      "program ended\n"
     ]
    }
   ],
   "source": [
    "print \"some begining statements\"\n",
    "a=raw_input(\"Enter a value:\")\n",
    "b=raw_input(\"Enter b value:\")\n",
    "try:\n",
    "    a=float(a)\n",
    "    b=float(b)\n",
    "    result=a/b\n",
    "    print \"result=\",result\n",
    "except ZeroDivisionError:\n",
    "    print \"don't enter 0 for b value\"\n",
    "except ValueError:\n",
    "    print \"Enter only digits\"\n",
    "print \"some main statements\"\n",
    "print \"some other statements in program\"\n",
    "print \"program ended\""
   ]
  },
  {
   "cell_type": "code",
   "execution_count": 20,
   "metadata": {
    "collapsed": false
   },
   "outputs": [
    {
     "name": "stdout",
     "output_type": "stream",
     "text": [
      "some begining statements\n",
      "Enter a value:12\n",
      "Enter b value:0\n",
      "don't enter 0 for b value\n",
      "some main statements\n",
      "some other statements in program\n",
      "program ended\n"
     ]
    }
   ],
   "source": [
    "print \"some begining statements\"\n",
    "a=raw_input(\"Enter a value:\")\n",
    "b=raw_input(\"Enter b value:\")\n",
    "try:\n",
    "    a=float(a)\n",
    "    b=float(b)\n",
    "    result=a/b\n",
    "    print \"result=\",result\n",
    "except ZeroDivisionError:\n",
    "    print \"don't enter 0 for b value\"\n",
    "except ValueError:\n",
    "    print \"Enter only digits\"\n",
    "except Exception as err:\n",
    "    print err\n",
    "print \"some main statements\"\n",
    "print \"some other statements in program\"\n",
    "print \"program ended\""
   ]
  },
  {
   "cell_type": "code",
   "execution_count": 21,
   "metadata": {
    "collapsed": false
   },
   "outputs": [
    {
     "name": "stdout",
     "output_type": "stream",
     "text": [
      "some begining statements\n",
      "Enter a value:12\n",
      "Enter b value:0\n",
      "float division by zero\n",
      "some main statements\n",
      "some other statements in program\n",
      "program ended\n"
     ]
    }
   ],
   "source": [
    "print \"some begining statements\"\n",
    "a=raw_input(\"Enter a value:\")\n",
    "b=raw_input(\"Enter b value:\")\n",
    "try:\n",
    "    a=float(a)\n",
    "    b=float(b)\n",
    "    result=a/b\n",
    "    print \"result=\",result\n",
    "except Exception as err:\n",
    "    print err\n",
    "except ZeroDivisionError:\n",
    "    print \"don't enter 0 for b value\"\n",
    "except ValueError:\n",
    "    print \"Enter only digits\"\n",
    "\n",
    "print \"some main statements\"\n",
    "print \"some other statements in program\"\n",
    "print \"program ended\""
   ]
  },
  {
   "cell_type": "code",
   "execution_count": 22,
   "metadata": {
    "collapsed": false
   },
   "outputs": [
    {
     "name": "stdout",
     "output_type": "stream",
     "text": [
      "some begining statements\n",
      "Enter a value:wrwe\n",
      "Enter b value:werwer\n",
      "could not convert string to float: wrwe\n",
      "some main statements\n",
      "some other statements in program\n",
      "program ended\n"
     ]
    }
   ],
   "source": [
    "print \"some begining statements\"\n",
    "a=raw_input(\"Enter a value:\")\n",
    "b=raw_input(\"Enter b value:\")\n",
    "try:\n",
    "    a=float(a)\n",
    "    b=float(b)\n",
    "    result=a/b\n",
    "    print \"result=\",result\n",
    "except Exception as err:\n",
    "    print err\n",
    "except ZeroDivisionError:\n",
    "    print \"don't enter 0 for b value\"\n",
    "except ValueError:\n",
    "    print \"Enter only digits\"\n",
    "\n",
    "print \"some main statements\"\n",
    "print \"some other statements in program\"\n",
    "print \"program ended\""
   ]
  },
  {
   "cell_type": "code",
   "execution_count": 23,
   "metadata": {
    "collapsed": true
   },
   "outputs": [],
   "source": [
    "import psycopg2"
   ]
  },
  {
   "cell_type": "code",
   "execution_count": 24,
   "metadata": {
    "collapsed": true
   },
   "outputs": [],
   "source": [
    "con = psycopg2.connect(host=\"localhost\",database=\"db1\",user=\"postgres\",port=5432)"
   ]
  },
  {
   "cell_type": "code",
   "execution_count": 26,
   "metadata": {
    "collapsed": false
   },
   "outputs": [],
   "source": [
    "con.close()"
   ]
  },
  {
   "cell_type": "code",
   "execution_count": 27,
   "metadata": {
    "collapsed": false
   },
   "outputs": [
    {
     "ename": "OperationalError",
     "evalue": "FATAL:  database \"db2\" does not exist\n",
     "output_type": "error",
     "traceback": [
      "\u001b[0;31m---------------------------------------------------------------------------\u001b[0m",
      "\u001b[0;31mOperationalError\u001b[0m                          Traceback (most recent call last)",
      "\u001b[0;32m<ipython-input-27-bca56b7ba80f>\u001b[0m in \u001b[0;36m<module>\u001b[0;34m()\u001b[0m\n\u001b[0;32m----> 1\u001b[0;31m \u001b[0mcon\u001b[0m \u001b[0;34m=\u001b[0m \u001b[0mpsycopg2\u001b[0m\u001b[0;34m.\u001b[0m\u001b[0mconnect\u001b[0m\u001b[0;34m(\u001b[0m\u001b[0mhost\u001b[0m\u001b[0;34m=\u001b[0m\u001b[0;34m\"localhost\"\u001b[0m\u001b[0;34m,\u001b[0m\u001b[0mdatabase\u001b[0m\u001b[0;34m=\u001b[0m\u001b[0;34m\"db2\"\u001b[0m\u001b[0;34m,\u001b[0m\u001b[0muser\u001b[0m\u001b[0;34m=\u001b[0m\u001b[0;34m\"postgres\"\u001b[0m\u001b[0;34m,\u001b[0m\u001b[0mport\u001b[0m\u001b[0;34m=\u001b[0m\u001b[0;36m5432\u001b[0m\u001b[0;34m)\u001b[0m\u001b[0;34m\u001b[0m\u001b[0m\n\u001b[0m",
      "\u001b[0;32m/home/tcloudost/Downloads/yes/lib/python2.7/site-packages/psycopg2/__init__.pyc\u001b[0m in \u001b[0;36mconnect\u001b[0;34m(dsn, connection_factory, cursor_factory, **kwargs)\u001b[0m\n\u001b[1;32m    128\u001b[0m \u001b[0;34m\u001b[0m\u001b[0m\n\u001b[1;32m    129\u001b[0m     \u001b[0mdsn\u001b[0m \u001b[0;34m=\u001b[0m \u001b[0m_ext\u001b[0m\u001b[0;34m.\u001b[0m\u001b[0mmake_dsn\u001b[0m\u001b[0;34m(\u001b[0m\u001b[0mdsn\u001b[0m\u001b[0;34m,\u001b[0m \u001b[0;34m**\u001b[0m\u001b[0mkwargs\u001b[0m\u001b[0;34m)\u001b[0m\u001b[0;34m\u001b[0m\u001b[0m\n\u001b[0;32m--> 130\u001b[0;31m     \u001b[0mconn\u001b[0m \u001b[0;34m=\u001b[0m \u001b[0m_connect\u001b[0m\u001b[0;34m(\u001b[0m\u001b[0mdsn\u001b[0m\u001b[0;34m,\u001b[0m \u001b[0mconnection_factory\u001b[0m\u001b[0;34m=\u001b[0m\u001b[0mconnection_factory\u001b[0m\u001b[0;34m,\u001b[0m \u001b[0;34m**\u001b[0m\u001b[0mkwasync\u001b[0m\u001b[0;34m)\u001b[0m\u001b[0;34m\u001b[0m\u001b[0m\n\u001b[0m\u001b[1;32m    131\u001b[0m     \u001b[0;32mif\u001b[0m \u001b[0mcursor_factory\u001b[0m \u001b[0;32mis\u001b[0m \u001b[0;32mnot\u001b[0m \u001b[0mNone\u001b[0m\u001b[0;34m:\u001b[0m\u001b[0;34m\u001b[0m\u001b[0m\n\u001b[1;32m    132\u001b[0m         \u001b[0mconn\u001b[0m\u001b[0;34m.\u001b[0m\u001b[0mcursor_factory\u001b[0m \u001b[0;34m=\u001b[0m \u001b[0mcursor_factory\u001b[0m\u001b[0;34m\u001b[0m\u001b[0m\n",
      "\u001b[0;31mOperationalError\u001b[0m: FATAL:  database \"db2\" does not exist\n"
     ]
    }
   ],
   "source": [
    "con = psycopg2.connect(host=\"localhost\",database=\"db2\",user=\"postgres\",port=5432)"
   ]
  },
  {
   "cell_type": "code",
   "execution_count": 28,
   "metadata": {
    "collapsed": false
   },
   "outputs": [
    {
     "name": "stdout",
     "output_type": "stream",
     "text": [
      "FATAL:  database \"db2\" does not exist\n",
      "\n"
     ]
    }
   ],
   "source": [
    "try:\n",
    "    con = psycopg2.connect(host=\"localhost\",database=\"db2\",user=\"postgres\",port=5432)\n",
    "except Exception as err:\n",
    "    print err"
   ]
  },
  {
   "cell_type": "code",
   "execution_count": 30,
   "metadata": {
    "collapsed": false
   },
   "outputs": [
    {
     "name": "stdout",
     "output_type": "stream",
     "text": [
      "data base not there\n"
     ]
    }
   ],
   "source": [
    "try:\n",
    "    con = psycopg2.connect(host=\"localhost\",database=\"db2\",user=\"postgres\",port=5432)\n",
    "except psycopg2.OperationalError:\n",
    "    print \"data base not there\""
   ]
  },
  {
   "cell_type": "code",
   "execution_count": 31,
   "metadata": {
    "collapsed": false
   },
   "outputs": [
    {
     "name": "stdout",
     "output_type": "stream",
     "text": [
      "could not translate host name \"localhost1234\" to address: Name or service not known\n",
      "\n"
     ]
    }
   ],
   "source": [
    "try:\n",
    "    con = psycopg2.connect(host=\"localhost1234\",database=\"db1\",user=\"postgres\",port=5432)\n",
    "except Exception as err:\n",
    "    print err"
   ]
  },
  {
   "cell_type": "code",
   "execution_count": 33,
   "metadata": {
    "collapsed": false
   },
   "outputs": [
    {
     "name": "stdout",
     "output_type": "stream",
     "text": [
      "FATAL:  password authentication failed for user \"postgres123\"\n",
      "FATAL:  password authentication failed for user \"postgres123\"\n",
      "\n"
     ]
    }
   ],
   "source": [
    "try:\n",
    "    con = psycopg2.connect(host=\"localhost\",database=\"db1\",user=\"postgres123\",port=5432,password=\"root\")\n",
    "except Exception as err:\n",
    "    print err"
   ]
  },
  {
   "cell_type": "code",
   "execution_count": 34,
   "metadata": {
    "collapsed": false
   },
   "outputs": [
    {
     "name": "stdout",
     "output_type": "stream",
     "text": [
      "some begining statements\n",
      "Enter a value:12\n",
      "Enter b value:6\n",
      "result= 2.0\n",
      "some main statements\n",
      "some other statements in program\n",
      "program ended\n"
     ]
    }
   ],
   "source": [
    "print \"some begining statements\"\n",
    "a=raw_input(\"Enter a value:\")\n",
    "b=raw_input(\"Enter b value:\")\n",
    "f=open('data.txt','w')\n",
    "try:\n",
    "    a=float(a)\n",
    "    f.write('a=%s,'%a)\n",
    "    b=float(b)\n",
    "    f.write('b=%s,'%b)\n",
    "    result=a/b\n",
    "    f.write(\"result=%s\\n\"%result)\n",
    "    print \"result=\",result\n",
    "    f.close()\n",
    "except ZeroDivisionError:\n",
    "    print \"don't enter 0 for b value\"\n",
    "except ValueError:\n",
    "    print \"Enter only digits\"\n",
    "except Exception as err:\n",
    "    print err\n",
    "print \"some main statements\"\n",
    "print \"some other statements in program\"\n",
    "print \"program ended\""
   ]
  },
  {
   "cell_type": "code",
   "execution_count": 35,
   "metadata": {
    "collapsed": false
   },
   "outputs": [
    {
     "name": "stdout",
     "output_type": "stream",
     "text": [
      "some begining statements\n",
      "Enter a value:12\n",
      "Enter b value:0\n",
      "don't enter 0 for b value\n",
      "some main statements\n",
      "some other statements in program\n",
      "program ended\n"
     ]
    }
   ],
   "source": [
    "print \"some begining statements\"\n",
    "a=raw_input(\"Enter a value:\")\n",
    "b=raw_input(\"Enter b value:\")\n",
    "f=open('data.txt','w')\n",
    "try:\n",
    "    a=float(a)\n",
    "    f.write('a=%s,'%a)\n",
    "    b=float(b)\n",
    "    f.write('b=%s,'%b)\n",
    "    result=a/b\n",
    "    f.write(\"result=%s\\n\"%result)\n",
    "    print \"result=\",result\n",
    "    f.close()\n",
    "except ZeroDivisionError:\n",
    "    print \"don't enter 0 for b value\"\n",
    "except ValueError:\n",
    "    print \"Enter only digits\"\n",
    "except Exception as err:\n",
    "    print err\n",
    "print \"some main statements\"\n",
    "print \"some other statements in program\"\n",
    "print \"program ended\""
   ]
  },
  {
   "cell_type": "code",
   "execution_count": 36,
   "metadata": {
    "collapsed": false
   },
   "outputs": [
    {
     "name": "stdout",
     "output_type": "stream",
     "text": [
      "some begining statements\n",
      "Enter a value:12\n",
      "Enter b value:0\n",
      "don't enter 0 for b value\n",
      "some main statements\n",
      "some other statements in program\n",
      "program ended\n"
     ]
    }
   ],
   "source": [
    "print \"some begining statements\"\n",
    "a=raw_input(\"Enter a value:\")\n",
    "b=raw_input(\"Enter b value:\")\n",
    "f=open('data.txt','w')\n",
    "try:\n",
    "    a=float(a)\n",
    "    f.write('a=%s,'%a)\n",
    "    b=float(b)\n",
    "    f.write('b=%s,'%b)\n",
    "    result=a/b\n",
    "    f.write(\"result=%s\\n\"%result)\n",
    "    print \"result=\",result\n",
    "    \n",
    "except ZeroDivisionError:\n",
    "    print \"don't enter 0 for b value\"\n",
    "except ValueError:\n",
    "    print \"Enter only digits\"\n",
    "except Exception as err:\n",
    "    print err\n",
    "finally:\n",
    "    f.close()\n",
    "print \"some main statements\"\n",
    "print \"some other statements in program\"\n",
    "print \"program ended\""
   ]
  },
  {
   "cell_type": "code",
   "execution_count": 37,
   "metadata": {
    "collapsed": false
   },
   "outputs": [
    {
     "name": "stdout",
     "output_type": "stream",
     "text": [
      "10\n"
     ]
    }
   ],
   "source": [
    "def fun():\n",
    "    return 10\n",
    "    print \"hi\"\n",
    "    return 20\n",
    "a=fun()\n",
    "print a\n"
   ]
  },
  {
   "cell_type": "code",
   "execution_count": 38,
   "metadata": {
    "collapsed": false
   },
   "outputs": [
    {
     "name": "stdout",
     "output_type": "stream",
     "text": [
      "10\n"
     ]
    }
   ],
   "source": [
    "a=fun()\n",
    "print a"
   ]
  },
  {
   "cell_type": "code",
   "execution_count": 39,
   "metadata": {
    "collapsed": false
   },
   "outputs": [
    {
     "name": "stdout",
     "output_type": "stream",
     "text": [
      "10\n"
     ]
    }
   ],
   "source": [
    "a=fun()\n",
    "print a"
   ]
  },
  {
   "cell_type": "code",
   "execution_count": 40,
   "metadata": {
    "collapsed": false
   },
   "outputs": [
    {
     "name": "stdout",
     "output_type": "stream",
     "text": [
      "30\n"
     ]
    }
   ],
   "source": [
    "def fun():\n",
    "    try:\n",
    "        return 10\n",
    "    except:\n",
    "        return 20\n",
    "    finally:\n",
    "        return 30\n",
    "a=fun()\n",
    "print a"
   ]
  },
  {
   "cell_type": "code",
   "execution_count": 41,
   "metadata": {
    "collapsed": false
   },
   "outputs": [
    {
     "name": "stdout",
     "output_type": "stream",
     "text": [
      "sfdsdfsdf\n",
      "10\n"
     ]
    }
   ],
   "source": [
    "def fun():\n",
    "    try:\n",
    "        return 10\n",
    "    except:\n",
    "        return 20\n",
    "    finally:\n",
    "        print \"sfdsdfsdf\"\n",
    "a=fun()\n",
    "print a"
   ]
  },
  {
   "cell_type": "code",
   "execution_count": 42,
   "metadata": {
    "collapsed": false
   },
   "outputs": [
    {
     "name": "stdout",
     "output_type": "stream",
     "text": [
      "finally blcok\n"
     ]
    },
    {
     "ename": "ZeroDivisionError",
     "evalue": "integer division or modulo by zero",
     "output_type": "error",
     "traceback": [
      "\u001b[0;31m---------------------------------------------------------------------------\u001b[0m",
      "\u001b[0;31mZeroDivisionError\u001b[0m                         Traceback (most recent call last)",
      "\u001b[0;32m<ipython-input-42-6aa9c17effa0>\u001b[0m in \u001b[0;36m<module>\u001b[0;34m()\u001b[0m\n\u001b[1;32m      1\u001b[0m \u001b[0;32mtry\u001b[0m\u001b[0;34m:\u001b[0m\u001b[0;34m\u001b[0m\u001b[0m\n\u001b[0;32m----> 2\u001b[0;31m     \u001b[0;32mprint\u001b[0m \u001b[0;36m1\u001b[0m\u001b[0;34m/\u001b[0m\u001b[0;36m0\u001b[0m\u001b[0;34m\u001b[0m\u001b[0m\n\u001b[0m\u001b[1;32m      3\u001b[0m \u001b[0;32mfinally\u001b[0m\u001b[0;34m:\u001b[0m\u001b[0;34m\u001b[0m\u001b[0m\n\u001b[1;32m      4\u001b[0m     \u001b[0;32mprint\u001b[0m \u001b[0;34m\"finally blcok\"\u001b[0m\u001b[0;34m\u001b[0m\u001b[0m\n",
      "\u001b[0;31mZeroDivisionError\u001b[0m: integer division or modulo by zero"
     ]
    }
   ],
   "source": [
    "try:\n",
    "    print 1/0\n",
    "finally:\n",
    "    print \"finally blcok\""
   ]
  },
  {
   "cell_type": "code",
   "execution_count": 43,
   "metadata": {
    "collapsed": false
   },
   "outputs": [
    {
     "name": "stdout",
     "output_type": "stream",
     "text": [
      "try blcok\n",
      "sfdsdfsdf\n",
      "10\n"
     ]
    }
   ],
   "source": [
    "def fun():\n",
    "    try:\n",
    "        print \"try blcok\"\n",
    "        return 10\n",
    "    finally:\n",
    "        print \"sfdsdfsdf\"\n",
    "a=fun()\n",
    "print a"
   ]
  },
  {
   "cell_type": "code",
   "execution_count": 44,
   "metadata": {
    "collapsed": false
   },
   "outputs": [
    {
     "name": "stdout",
     "output_type": "stream",
     "text": [
      "0\n",
      "finally blcok\n"
     ]
    }
   ],
   "source": [
    "try:\n",
    "    print 1/2\n",
    "finally:\n",
    "    print \"finally blcok\""
   ]
  },
  {
   "cell_type": "code",
   "execution_count": 45,
   "metadata": {
    "collapsed": false
   },
   "outputs": [
    {
     "name": "stdout",
     "output_type": "stream",
     "text": [
      "try block\n",
      "else block\n",
      "finally block\n"
     ]
    }
   ],
   "source": [
    "try:\n",
    "    print \"try block\"\n",
    "except:\n",
    "    print \"except block\"\n",
    "else:\n",
    "    print \"else block\"\n",
    "finally:\n",
    "    print \"finally block\""
   ]
  },
  {
   "cell_type": "code",
   "execution_count": 46,
   "metadata": {
    "collapsed": false
   },
   "outputs": [
    {
     "name": "stdout",
     "output_type": "stream",
     "text": [
      "try block\n",
      "except block\n",
      "finally block\n"
     ]
    }
   ],
   "source": [
    "try:\n",
    "    print \"try block\"\n",
    "    print 1/0\n",
    "    \n",
    "except:\n",
    "    print \"except block\"\n",
    "else:\n",
    "    print \"else block\"\n",
    "finally:\n",
    "    print \"finally block\""
   ]
  },
  {
   "cell_type": "code",
   "execution_count": null,
   "metadata": {
    "collapsed": true
   },
   "outputs": [],
   "source": []
  }
 ],
 "metadata": {
  "kernelspec": {
   "display_name": "Python 2",
   "language": "python",
   "name": "python2"
  },
  "language_info": {
   "codemirror_mode": {
    "name": "ipython",
    "version": 2
   },
   "file_extension": ".py",
   "mimetype": "text/x-python",
   "name": "python",
   "nbconvert_exporter": "python",
   "pygments_lexer": "ipython2",
   "version": "2.7.13"
  }
 },
 "nbformat": 4,
 "nbformat_minor": 2
}
